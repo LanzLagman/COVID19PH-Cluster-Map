{
 "cells": [
  {
   "cell_type": "code",
   "execution_count": 1,
   "metadata": {},
   "outputs": [
    {
     "name": "stdout",
     "output_type": "stream",
     "text": [
      "Python 3.7.4\n"
     ]
    }
   ],
   "source": [
    "!python --version"
   ]
  },
  {
   "cell_type": "markdown",
   "metadata": {},
   "source": [
    "# COVID-19 Ph Checkpoints Map"
   ]
  },
  {
   "cell_type": "code",
   "execution_count": 2,
   "metadata": {},
   "outputs": [],
   "source": [
    "import numpy as np\n",
    "import pandas as pd\n",
    "pd.set_option('display.max_colwidth', -1)"
   ]
  },
  {
   "cell_type": "markdown",
   "metadata": {},
   "source": [
    "This Jupyter Notebook has started re-run today, at:"
   ]
  },
  {
   "cell_type": "code",
   "execution_count": 3,
   "metadata": {},
   "outputs": [
    {
     "data": {
      "text/plain": [
       "Timestamp('2020-04-02 11:12:14.666844')"
      ]
     },
     "execution_count": 3,
     "metadata": {},
     "output_type": "execute_result"
    }
   ],
   "source": [
    "pd.to_datetime('today')"
   ]
  },
  {
   "cell_type": "markdown",
   "metadata": {},
   "source": [
    "The [Coronavirus-ph-api](https://coronavirus-ph-api.herokuapp.com/#/) that was used here was created by [Mr. Robert Soriano](https://robsoriano.com/).\n",
    "\n",
    "Please note that the results of the codes on this notebook depend on when this notebook was re-run."
   ]
  },
  {
   "cell_type": "code",
   "execution_count": 4,
   "metadata": {},
   "outputs": [
    {
     "data": {
      "text/html": [
       "<div>\n",
       "<style scoped>\n",
       "    .dataframe tbody tr th:only-of-type {\n",
       "        vertical-align: middle;\n",
       "    }\n",
       "\n",
       "    .dataframe tbody tr th {\n",
       "        vertical-align: top;\n",
       "    }\n",
       "\n",
       "    .dataframe thead th {\n",
       "        text-align: right;\n",
       "    }\n",
       "</style>\n",
       "<table border=\"1\" class=\"dataframe\">\n",
       "  <thead>\n",
       "    <tr style=\"text-align: right;\">\n",
       "      <th></th>\n",
       "      <th>id</th>\n",
       "      <th>district</th>\n",
       "      <th>city</th>\n",
       "      <th>location</th>\n",
       "      <th>type</th>\n",
       "      <th>lat</th>\n",
       "      <th>lng</th>\n",
       "      <th>description</th>\n",
       "    </tr>\n",
       "  </thead>\n",
       "  <tbody>\n",
       "    <tr>\n",
       "      <td>0</td>\n",
       "      <td>1</td>\n",
       "      <td>NORTHERN POLICE DISTRICT</td>\n",
       "      <td>CALOOCAN CITY</td>\n",
       "      <td>PCP 4 AREA  - QUIRINO HIGHWAY COR. MALARIA RD BOUNDARY OF CALOOCAN AND BULACAN</td>\n",
       "      <td>RoadClosure</td>\n",
       "      <td>14.769163</td>\n",
       "      <td>121.080297</td>\n",
       "      <td></td>\n",
       "    </tr>\n",
       "    <tr>\n",
       "      <td>1</td>\n",
       "      <td>2</td>\n",
       "      <td>NORTHERN POLICE DISTRICT</td>\n",
       "      <td>CALOOCAN CITY</td>\n",
       "      <td>PCP 3 – PHASE 7C DELA COSTA HOMES BOUNDARY OF CALOOCAN AND MUSON BULACAN</td>\n",
       "      <td>RoadClosure</td>\n",
       "      <td>14.768952</td>\n",
       "      <td>121.080493</td>\n",
       "      <td></td>\n",
       "    </tr>\n",
       "    <tr>\n",
       "      <td>2</td>\n",
       "      <td>3</td>\n",
       "      <td>NORTHERN POLICE DISTRICT</td>\n",
       "      <td>CALOOCAN CITY</td>\n",
       "      <td>PCP 3 - PHASE 9 BOUNDARY OF EVERGREEN VILL. BRGY. GAYA-GAYA SJ BULACAN</td>\n",
       "      <td>RoadClosure</td>\n",
       "      <td>14.776913</td>\n",
       "      <td>121.045104</td>\n",
       "      <td>Not verified; Assumed at intersection of Langit Rd and Old Zabarte</td>\n",
       "    </tr>\n",
       "    <tr>\n",
       "      <td>3</td>\n",
       "      <td>4</td>\n",
       "      <td>NORTHERN POLICE DISTRICT</td>\n",
       "      <td>CALOOCAN CITY</td>\n",
       "      <td>PCP 3 - PHASE 10 CALOOCAN AND BULACAN BRIDGE</td>\n",
       "      <td>RoadClosure</td>\n",
       "      <td>14.784283</td>\n",
       "      <td>121.030446</td>\n",
       "      <td>Not verified</td>\n",
       "    </tr>\n",
       "    <tr>\n",
       "      <td>4</td>\n",
       "      <td>5</td>\n",
       "      <td>NORTHERN POLICE DISTRICT</td>\n",
       "      <td>CALOOCAN CITY</td>\n",
       "      <td>PCP 6 – BANKERS VILL. GATE 3 BOUNDARY OF CALOOCAN AND MEYCAUYAN</td>\n",
       "      <td>RoadClosure</td>\n",
       "      <td>14.765149</td>\n",
       "      <td>121.024169</td>\n",
       "      <td>Not verified</td>\n",
       "    </tr>\n",
       "    <tr>\n",
       "      <td>...</td>\n",
       "      <td>...</td>\n",
       "      <td>...</td>\n",
       "      <td>...</td>\n",
       "      <td>...</td>\n",
       "      <td>...</td>\n",
       "      <td>...</td>\n",
       "      <td>...</td>\n",
       "      <td>...</td>\n",
       "    </tr>\n",
       "    <tr>\n",
       "      <td>82</td>\n",
       "      <td>83</td>\n",
       "      <td>EASTERN POLICE DISTRICT</td>\n",
       "      <td>PASIG CITY</td>\n",
       "      <td>R THADEUS ST., MRV, STA LUCIA</td>\n",
       "      <td>RoadClosure</td>\n",
       "      <td>14.578784</td>\n",
       "      <td>121.106870</td>\n",
       "      <td></td>\n",
       "    </tr>\n",
       "    <tr>\n",
       "      <td>83</td>\n",
       "      <td>84</td>\n",
       "      <td>EASTERN POLICE DISTRICT</td>\n",
       "      <td>PASIG CITY</td>\n",
       "      <td>WEST BANK ROAD, BRGY. MAYBUNGA (TO TAYTAY)</td>\n",
       "      <td>RoadClosure</td>\n",
       "      <td>14.578153</td>\n",
       "      <td>121.097081</td>\n",
       "      <td></td>\n",
       "    </tr>\n",
       "    <tr>\n",
       "      <td>84</td>\n",
       "      <td>85</td>\n",
       "      <td>EASTERN POLICE DISTRICT</td>\n",
       "      <td>PASIG CITY</td>\n",
       "      <td>A. SANDOVAL CORNER EUSEBIO AVE, BRGY. PINAGBUHATAN (TO TAYTAY)</td>\n",
       "      <td>RoadClosure</td>\n",
       "      <td>14.543785</td>\n",
       "      <td>121.106118</td>\n",
       "      <td></td>\n",
       "    </tr>\n",
       "    <tr>\n",
       "      <td>85</td>\n",
       "      <td>86</td>\n",
       "      <td>EASTERN POLICE DISTRICT</td>\n",
       "      <td>PASIG CITY</td>\n",
       "      <td>EUSEBIO AVE COR C6 ROAD BRGY. PINAGBUHATAN (TO TAYTAY)</td>\n",
       "      <td>RoadClosure</td>\n",
       "      <td>14.534778</td>\n",
       "      <td>121.104224</td>\n",
       "      <td></td>\n",
       "    </tr>\n",
       "    <tr>\n",
       "      <td>86</td>\n",
       "      <td>87</td>\n",
       "      <td>EASTERN POLICE DISTRICT</td>\n",
       "      <td>PASIG CITY</td>\n",
       "      <td>TRAMO RD., STA LUCIA</td>\n",
       "      <td>RoadClosure</td>\n",
       "      <td>14.584645</td>\n",
       "      <td>121.100959</td>\n",
       "      <td></td>\n",
       "    </tr>\n",
       "  </tbody>\n",
       "</table>\n",
       "<p>87 rows × 8 columns</p>\n",
       "</div>"
      ],
      "text/plain": [
       "    id                  district           city  \\\n",
       "0   1   NORTHERN POLICE DISTRICT  CALOOCAN CITY   \n",
       "1   2   NORTHERN POLICE DISTRICT  CALOOCAN CITY   \n",
       "2   3   NORTHERN POLICE DISTRICT  CALOOCAN CITY   \n",
       "3   4   NORTHERN POLICE DISTRICT  CALOOCAN CITY   \n",
       "4   5   NORTHERN POLICE DISTRICT  CALOOCAN CITY   \n",
       ".. ..                        ...            ...   \n",
       "82  83  EASTERN POLICE DISTRICT   PASIG CITY      \n",
       "83  84  EASTERN POLICE DISTRICT   PASIG CITY      \n",
       "84  85  EASTERN POLICE DISTRICT   PASIG CITY      \n",
       "85  86  EASTERN POLICE DISTRICT   PASIG CITY      \n",
       "86  87  EASTERN POLICE DISTRICT   PASIG CITY      \n",
       "\n",
       "                                                                          location  \\\n",
       "0   PCP 4 AREA  - QUIRINO HIGHWAY COR. MALARIA RD BOUNDARY OF CALOOCAN AND BULACAN   \n",
       "1   PCP 3 – PHASE 7C DELA COSTA HOMES BOUNDARY OF CALOOCAN AND MUSON BULACAN         \n",
       "2   PCP 3 - PHASE 9 BOUNDARY OF EVERGREEN VILL. BRGY. GAYA-GAYA SJ BULACAN           \n",
       "3   PCP 3 - PHASE 10 CALOOCAN AND BULACAN BRIDGE                                     \n",
       "4   PCP 6 – BANKERS VILL. GATE 3 BOUNDARY OF CALOOCAN AND MEYCAUYAN                  \n",
       "..                                                              ...                  \n",
       "82  R THADEUS ST., MRV, STA LUCIA                                                    \n",
       "83  WEST BANK ROAD, BRGY. MAYBUNGA (TO TAYTAY)                                       \n",
       "84  A. SANDOVAL CORNER EUSEBIO AVE, BRGY. PINAGBUHATAN (TO TAYTAY)                   \n",
       "85  EUSEBIO AVE COR C6 ROAD BRGY. PINAGBUHATAN (TO TAYTAY)                           \n",
       "86  TRAMO RD., STA LUCIA                                                             \n",
       "\n",
       "           type        lat         lng  \\\n",
       "0   RoadClosure  14.769163  121.080297   \n",
       "1   RoadClosure  14.768952  121.080493   \n",
       "2   RoadClosure  14.776913  121.045104   \n",
       "3   RoadClosure  14.784283  121.030446   \n",
       "4   RoadClosure  14.765149  121.024169   \n",
       "..          ...        ...         ...   \n",
       "82  RoadClosure  14.578784  121.106870   \n",
       "83  RoadClosure  14.578153  121.097081   \n",
       "84  RoadClosure  14.543785  121.106118   \n",
       "85  RoadClosure  14.534778  121.104224   \n",
       "86  RoadClosure  14.584645  121.100959   \n",
       "\n",
       "                                                           description  \n",
       "0                                                                       \n",
       "1                                                                       \n",
       "2   Not verified; Assumed at intersection of Langit Rd and Old Zabarte  \n",
       "3   Not verified                                                        \n",
       "4   Not verified                                                        \n",
       "..           ...                                                        \n",
       "82                                                                      \n",
       "83                                                                      \n",
       "84                                                                      \n",
       "85                                                                      \n",
       "86                                                                      \n",
       "\n",
       "[87 rows x 8 columns]"
      ]
     },
     "execution_count": 4,
     "metadata": {},
     "output_type": "execute_result"
    }
   ],
   "source": [
    "df = pd.read_json(\"https://coronavirus-ph-api.herokuapp.com/mm-checkpoints\")\n",
    "df"
   ]
  },
  {
   "cell_type": "markdown",
   "metadata": {},
   "source": [
    "Preferrably, ```case_no``` could be set as the index but sometimes ```case_no``` contains ```NaN``` values. To solve this:"
   ]
  },
  {
   "cell_type": "code",
   "execution_count": 5,
   "metadata": {},
   "outputs": [],
   "source": [
    "df = pd.DataFrame(df.drop(['id'], axis =1))"
   ]
  },
  {
   "cell_type": "code",
   "execution_count": 6,
   "metadata": {},
   "outputs": [],
   "source": [
    "df.index += 1\n",
    "df.index.names = ['id']"
   ]
  },
  {
   "cell_type": "code",
   "execution_count": 7,
   "metadata": {
    "scrolled": true
   },
   "outputs": [
    {
     "data": {
      "text/plain": [
       "Index(['district', 'city', 'location', 'type', 'lat', 'lng', 'description'], dtype='object')"
      ]
     },
     "execution_count": 7,
     "metadata": {},
     "output_type": "execute_result"
    }
   ],
   "source": [
    "df.columns"
   ]
  },
  {
   "cell_type": "markdown",
   "metadata": {},
   "source": [
    "# Before we begin..."
   ]
  },
  {
   "cell_type": "markdown",
   "metadata": {},
   "source": [
    "Save this df then use it."
   ]
  },
  {
   "cell_type": "code",
   "execution_count": 8,
   "metadata": {},
   "outputs": [
    {
     "data": {
      "text/plain": [
       "'02-04-2020_11h12m16s'"
      ]
     },
     "execution_count": 8,
     "metadata": {},
     "output_type": "execute_result"
    }
   ],
   "source": [
    "today_stamp = pd.to_datetime('today').strftime('%d-%m-%Y_%Hh%Mm%Ss')\n",
    "today_stamp"
   ]
  },
  {
   "cell_type": "code",
   "execution_count": 9,
   "metadata": {},
   "outputs": [
    {
     "data": {
      "text/html": [
       "<div>\n",
       "<style scoped>\n",
       "    .dataframe tbody tr th:only-of-type {\n",
       "        vertical-align: middle;\n",
       "    }\n",
       "\n",
       "    .dataframe tbody tr th {\n",
       "        vertical-align: top;\n",
       "    }\n",
       "\n",
       "    .dataframe thead th {\n",
       "        text-align: right;\n",
       "    }\n",
       "</style>\n",
       "<table border=\"1\" class=\"dataframe\">\n",
       "  <thead>\n",
       "    <tr style=\"text-align: right;\">\n",
       "      <th></th>\n",
       "      <th>id</th>\n",
       "      <th>district</th>\n",
       "      <th>city</th>\n",
       "      <th>location</th>\n",
       "      <th>type</th>\n",
       "      <th>lat</th>\n",
       "      <th>lng</th>\n",
       "      <th>description</th>\n",
       "    </tr>\n",
       "  </thead>\n",
       "  <tbody>\n",
       "    <tr>\n",
       "      <td>0</td>\n",
       "      <td>1</td>\n",
       "      <td>NORTHERN POLICE DISTRICT</td>\n",
       "      <td>CALOOCAN CITY</td>\n",
       "      <td>PCP 4 AREA  - QUIRINO HIGHWAY COR. MALARIA RD BOUNDARY OF CALOOCAN AND BULACAN</td>\n",
       "      <td>RoadClosure</td>\n",
       "      <td>14.769163</td>\n",
       "      <td>121.080297</td>\n",
       "      <td>NaN</td>\n",
       "    </tr>\n",
       "    <tr>\n",
       "      <td>1</td>\n",
       "      <td>2</td>\n",
       "      <td>NORTHERN POLICE DISTRICT</td>\n",
       "      <td>CALOOCAN CITY</td>\n",
       "      <td>PCP 3 – PHASE 7C DELA COSTA HOMES BOUNDARY OF CALOOCAN AND MUSON BULACAN</td>\n",
       "      <td>RoadClosure</td>\n",
       "      <td>14.768952</td>\n",
       "      <td>121.080493</td>\n",
       "      <td>NaN</td>\n",
       "    </tr>\n",
       "    <tr>\n",
       "      <td>2</td>\n",
       "      <td>3</td>\n",
       "      <td>NORTHERN POLICE DISTRICT</td>\n",
       "      <td>CALOOCAN CITY</td>\n",
       "      <td>PCP 3 - PHASE 9 BOUNDARY OF EVERGREEN VILL. BRGY. GAYA-GAYA SJ BULACAN</td>\n",
       "      <td>RoadClosure</td>\n",
       "      <td>14.776913</td>\n",
       "      <td>121.045104</td>\n",
       "      <td>Not verified; Assumed at intersection of Langit Rd and Old Zabarte</td>\n",
       "    </tr>\n",
       "    <tr>\n",
       "      <td>3</td>\n",
       "      <td>4</td>\n",
       "      <td>NORTHERN POLICE DISTRICT</td>\n",
       "      <td>CALOOCAN CITY</td>\n",
       "      <td>PCP 3 - PHASE 10 CALOOCAN AND BULACAN BRIDGE</td>\n",
       "      <td>RoadClosure</td>\n",
       "      <td>14.784283</td>\n",
       "      <td>121.030446</td>\n",
       "      <td>Not verified</td>\n",
       "    </tr>\n",
       "    <tr>\n",
       "      <td>4</td>\n",
       "      <td>5</td>\n",
       "      <td>NORTHERN POLICE DISTRICT</td>\n",
       "      <td>CALOOCAN CITY</td>\n",
       "      <td>PCP 6 – BANKERS VILL. GATE 3 BOUNDARY OF CALOOCAN AND MEYCAUYAN</td>\n",
       "      <td>RoadClosure</td>\n",
       "      <td>14.765149</td>\n",
       "      <td>121.024169</td>\n",
       "      <td>Not verified</td>\n",
       "    </tr>\n",
       "    <tr>\n",
       "      <td>...</td>\n",
       "      <td>...</td>\n",
       "      <td>...</td>\n",
       "      <td>...</td>\n",
       "      <td>...</td>\n",
       "      <td>...</td>\n",
       "      <td>...</td>\n",
       "      <td>...</td>\n",
       "      <td>...</td>\n",
       "    </tr>\n",
       "    <tr>\n",
       "      <td>82</td>\n",
       "      <td>83</td>\n",
       "      <td>EASTERN POLICE DISTRICT</td>\n",
       "      <td>PASIG CITY</td>\n",
       "      <td>R THADEUS ST., MRV, STA LUCIA</td>\n",
       "      <td>RoadClosure</td>\n",
       "      <td>14.578784</td>\n",
       "      <td>121.106870</td>\n",
       "      <td>NaN</td>\n",
       "    </tr>\n",
       "    <tr>\n",
       "      <td>83</td>\n",
       "      <td>84</td>\n",
       "      <td>EASTERN POLICE DISTRICT</td>\n",
       "      <td>PASIG CITY</td>\n",
       "      <td>WEST BANK ROAD, BRGY. MAYBUNGA (TO TAYTAY)</td>\n",
       "      <td>RoadClosure</td>\n",
       "      <td>14.578153</td>\n",
       "      <td>121.097081</td>\n",
       "      <td>NaN</td>\n",
       "    </tr>\n",
       "    <tr>\n",
       "      <td>84</td>\n",
       "      <td>85</td>\n",
       "      <td>EASTERN POLICE DISTRICT</td>\n",
       "      <td>PASIG CITY</td>\n",
       "      <td>A. SANDOVAL CORNER EUSEBIO AVE, BRGY. PINAGBUHATAN (TO TAYTAY)</td>\n",
       "      <td>RoadClosure</td>\n",
       "      <td>14.543785</td>\n",
       "      <td>121.106118</td>\n",
       "      <td>NaN</td>\n",
       "    </tr>\n",
       "    <tr>\n",
       "      <td>85</td>\n",
       "      <td>86</td>\n",
       "      <td>EASTERN POLICE DISTRICT</td>\n",
       "      <td>PASIG CITY</td>\n",
       "      <td>EUSEBIO AVE COR C6 ROAD BRGY. PINAGBUHATAN (TO TAYTAY)</td>\n",
       "      <td>RoadClosure</td>\n",
       "      <td>14.534778</td>\n",
       "      <td>121.104224</td>\n",
       "      <td>NaN</td>\n",
       "    </tr>\n",
       "    <tr>\n",
       "      <td>86</td>\n",
       "      <td>87</td>\n",
       "      <td>EASTERN POLICE DISTRICT</td>\n",
       "      <td>PASIG CITY</td>\n",
       "      <td>TRAMO RD., STA LUCIA</td>\n",
       "      <td>RoadClosure</td>\n",
       "      <td>14.584645</td>\n",
       "      <td>121.100959</td>\n",
       "      <td>NaN</td>\n",
       "    </tr>\n",
       "  </tbody>\n",
       "</table>\n",
       "<p>87 rows × 8 columns</p>\n",
       "</div>"
      ],
      "text/plain": [
       "    id                  district           city  \\\n",
       "0   1   NORTHERN POLICE DISTRICT  CALOOCAN CITY   \n",
       "1   2   NORTHERN POLICE DISTRICT  CALOOCAN CITY   \n",
       "2   3   NORTHERN POLICE DISTRICT  CALOOCAN CITY   \n",
       "3   4   NORTHERN POLICE DISTRICT  CALOOCAN CITY   \n",
       "4   5   NORTHERN POLICE DISTRICT  CALOOCAN CITY   \n",
       ".. ..                        ...            ...   \n",
       "82  83  EASTERN POLICE DISTRICT   PASIG CITY      \n",
       "83  84  EASTERN POLICE DISTRICT   PASIG CITY      \n",
       "84  85  EASTERN POLICE DISTRICT   PASIG CITY      \n",
       "85  86  EASTERN POLICE DISTRICT   PASIG CITY      \n",
       "86  87  EASTERN POLICE DISTRICT   PASIG CITY      \n",
       "\n",
       "                                                                          location  \\\n",
       "0   PCP 4 AREA  - QUIRINO HIGHWAY COR. MALARIA RD BOUNDARY OF CALOOCAN AND BULACAN   \n",
       "1   PCP 3 – PHASE 7C DELA COSTA HOMES BOUNDARY OF CALOOCAN AND MUSON BULACAN         \n",
       "2   PCP 3 - PHASE 9 BOUNDARY OF EVERGREEN VILL. BRGY. GAYA-GAYA SJ BULACAN           \n",
       "3   PCP 3 - PHASE 10 CALOOCAN AND BULACAN BRIDGE                                     \n",
       "4   PCP 6 – BANKERS VILL. GATE 3 BOUNDARY OF CALOOCAN AND MEYCAUYAN                  \n",
       "..                                                              ...                  \n",
       "82  R THADEUS ST., MRV, STA LUCIA                                                    \n",
       "83  WEST BANK ROAD, BRGY. MAYBUNGA (TO TAYTAY)                                       \n",
       "84  A. SANDOVAL CORNER EUSEBIO AVE, BRGY. PINAGBUHATAN (TO TAYTAY)                   \n",
       "85  EUSEBIO AVE COR C6 ROAD BRGY. PINAGBUHATAN (TO TAYTAY)                           \n",
       "86  TRAMO RD., STA LUCIA                                                             \n",
       "\n",
       "           type        lat         lng  \\\n",
       "0   RoadClosure  14.769163  121.080297   \n",
       "1   RoadClosure  14.768952  121.080493   \n",
       "2   RoadClosure  14.776913  121.045104   \n",
       "3   RoadClosure  14.784283  121.030446   \n",
       "4   RoadClosure  14.765149  121.024169   \n",
       "..          ...        ...         ...   \n",
       "82  RoadClosure  14.578784  121.106870   \n",
       "83  RoadClosure  14.578153  121.097081   \n",
       "84  RoadClosure  14.543785  121.106118   \n",
       "85  RoadClosure  14.534778  121.104224   \n",
       "86  RoadClosure  14.584645  121.100959   \n",
       "\n",
       "                                                           description  \n",
       "0   NaN                                                                 \n",
       "1   NaN                                                                 \n",
       "2   Not verified; Assumed at intersection of Langit Rd and Old Zabarte  \n",
       "3   Not verified                                                        \n",
       "4   Not verified                                                        \n",
       "..           ...                                                        \n",
       "82  NaN                                                                 \n",
       "83  NaN                                                                 \n",
       "84  NaN                                                                 \n",
       "85  NaN                                                                 \n",
       "86  NaN                                                                 \n",
       "\n",
       "[87 rows x 8 columns]"
      ]
     },
     "execution_count": 9,
     "metadata": {},
     "output_type": "execute_result"
    }
   ],
   "source": [
    "df.to_csv('COVID19PHforMapping_MM-CP_{0}.csv'.format(today_stamp), index_label='id')\n",
    "df = pd.read_csv('COVID19PHforMapping_MM-CP_{0}.csv'.format(today_stamp))\n",
    "df"
   ]
  },
  {
   "cell_type": "markdown",
   "metadata": {},
   "source": [
    "Check for `NaN` values on `df['lat']` and `df['lng']`."
   ]
  },
  {
   "cell_type": "code",
   "execution_count": 10,
   "metadata": {},
   "outputs": [
    {
     "data": {
      "text/plain": [
       "0"
      ]
     },
     "execution_count": 10,
     "metadata": {},
     "output_type": "execute_result"
    }
   ],
   "source": [
    "df['lat'].isna().sum()"
   ]
  },
  {
   "cell_type": "code",
   "execution_count": 11,
   "metadata": {},
   "outputs": [
    {
     "data": {
      "text/plain": [
       "0"
      ]
     },
     "execution_count": 11,
     "metadata": {},
     "output_type": "execute_result"
    }
   ],
   "source": [
    "df['lng'].isna().sum()"
   ]
  },
  {
   "cell_type": "code",
   "execution_count": 12,
   "metadata": {
    "scrolled": true
   },
   "outputs": [
    {
     "data": {
      "text/plain": [
       "87"
      ]
     },
     "execution_count": 12,
     "metadata": {},
     "output_type": "execute_result"
    }
   ],
   "source": [
    "len(df)"
   ]
  },
  {
   "cell_type": "markdown",
   "metadata": {},
   "source": [
    "Convert as float"
   ]
  },
  {
   "cell_type": "code",
   "execution_count": 13,
   "metadata": {},
   "outputs": [],
   "source": [
    "df['lat'] = df['lat'].astype('float')\n",
    "df['lng'] = df['lng'].astype('float')"
   ]
  },
  {
   "cell_type": "code",
   "execution_count": 14,
   "metadata": {},
   "outputs": [
    {
     "data": {
      "text/plain": [
       "id             int64  \n",
       "district       object \n",
       "city           object \n",
       "location       object \n",
       "type           object \n",
       "lat            float64\n",
       "lng            float64\n",
       "description    object \n",
       "dtype: object"
      ]
     },
     "execution_count": 14,
     "metadata": {},
     "output_type": "execute_result"
    }
   ],
   "source": [
    "df.dtypes"
   ]
  },
  {
   "cell_type": "markdown",
   "metadata": {},
   "source": [
    "### Some data exploration."
   ]
  },
  {
   "cell_type": "code",
   "execution_count": 15,
   "metadata": {},
   "outputs": [
    {
     "data": {
      "text/plain": [
       "SOUTHERN POLICE DISTRICT       36\n",
       "NORTHERN POLICE DISTRICT       25\n",
       "EASTERN POLICE DISTRICT        24\n",
       "QUEZON CITY POLICE DISTRICT    2 \n",
       "Name: district, dtype: int64"
      ]
     },
     "execution_count": 15,
     "metadata": {},
     "output_type": "execute_result"
    }
   ],
   "source": [
    "df['district'].value_counts()"
   ]
  },
  {
   "cell_type": "code",
   "execution_count": 16,
   "metadata": {},
   "outputs": [
    {
     "data": {
      "text/plain": [
       "MARIKINA CITY      14\n",
       "PARANAQUE CITY     14\n",
       "VALENZUELA CITY    13\n",
       "MUNTINLUPA CITY    11\n",
       "PASIG CITY         10\n",
       "CALOOCAN CITY      10\n",
       "LAS PINAS CITY     6 \n",
       "PARANAQUE          2 \n",
       "QUEZON CITY        2 \n",
       "LAS PINAS          2 \n",
       "MALABON CITY       2 \n",
       "MUNTINLUPA         1 \n",
       "Name: city, dtype: int64"
      ]
     },
     "execution_count": 16,
     "metadata": {},
     "output_type": "execute_result"
    }
   ],
   "source": [
    "df['city'].value_counts()"
   ]
  },
  {
   "cell_type": "code",
   "execution_count": 17,
   "metadata": {},
   "outputs": [
    {
     "data": {
      "text/plain": [
       "RoadClosure    77\n",
       "EntryExit      10\n",
       "Name: type, dtype: int64"
      ]
     },
     "execution_count": 17,
     "metadata": {},
     "output_type": "execute_result"
    }
   ],
   "source": [
    "df['type'].value_counts()"
   ]
  },
  {
   "cell_type": "markdown",
   "metadata": {},
   "source": [
    "Replace `NaN` values on `df[\"description\"]`."
   ]
  },
  {
   "cell_type": "code",
   "execution_count": 18,
   "metadata": {},
   "outputs": [
    {
     "data": {
      "text/plain": [
       "51"
      ]
     },
     "execution_count": 18,
     "metadata": {},
     "output_type": "execute_result"
    }
   ],
   "source": [
    "df['description'].isna().sum()"
   ]
  },
  {
   "cell_type": "code",
   "execution_count": 19,
   "metadata": {},
   "outputs": [],
   "source": [
    "df['description'] = df['description'].fillna('N/A')"
   ]
  },
  {
   "cell_type": "markdown",
   "metadata": {},
   "source": [
    "Split dataframe by police district."
   ]
  },
  {
   "cell_type": "code",
   "execution_count": 20,
   "metadata": {},
   "outputs": [],
   "source": [
    "df_N = df.loc[df['district'] == 'NORTHERN POLICE DISTRICT'].reset_index()"
   ]
  },
  {
   "cell_type": "code",
   "execution_count": 21,
   "metadata": {},
   "outputs": [],
   "source": [
    "df_S = df.loc[df['district'] == 'SOUTHERN POLICE DISTRICT'].reset_index()"
   ]
  },
  {
   "cell_type": "code",
   "execution_count": 22,
   "metadata": {},
   "outputs": [],
   "source": [
    "df_E = df.loc[df['district'] == 'EASTERN POLICE DISTRICT'].reset_index()"
   ]
  },
  {
   "cell_type": "code",
   "execution_count": 23,
   "metadata": {},
   "outputs": [],
   "source": [
    "df_QC = df.loc[df['district'] == 'QUEZON CITY POLICE DISTRICT'].reset_index()"
   ]
  },
  {
   "cell_type": "markdown",
   "metadata": {},
   "source": [
    "# Mapping"
   ]
  },
  {
   "cell_type": "markdown",
   "metadata": {},
   "source": [
    "## Find NCR Coordinates"
   ]
  },
  {
   "cell_type": "code",
   "execution_count": 24,
   "metadata": {},
   "outputs": [],
   "source": [
    "from geopy.geocoders import Nominatim\n",
    "from geopy.extra.rate_limiter import RateLimiter\n",
    "\n",
    "geocoder = Nominatim(user_agent=\"myGeocoder\")\n",
    "geocode = RateLimiter(geocoder.geocode, min_delay_seconds=1)"
   ]
  },
  {
   "cell_type": "code",
   "execution_count": 25,
   "metadata": {},
   "outputs": [],
   "source": [
    "from geopy.exc import GeocoderTimedOut\n",
    "\n",
    "def do_geocode(address):\n",
    "    try:\n",
    "        return geocoder.geocode(address)\n",
    "    except GeocoderTimedOut:\n",
    "        return do_geocode(address)"
   ]
  },
  {
   "cell_type": "code",
   "execution_count": 26,
   "metadata": {},
   "outputs": [
    {
     "data": {
      "text/plain": [
       "Location(Metro Manila, Philippines, (14.5736108, 121.0329706, 0.0))"
      ]
     },
     "execution_count": 26,
     "metadata": {},
     "output_type": "execute_result"
    }
   ],
   "source": [
    "NCR_loc = do_geocode('National Capital Region')\n",
    "NCR_loc"
   ]
  },
  {
   "cell_type": "markdown",
   "metadata": {},
   "source": [
    "## Map with Folium"
   ]
  },
  {
   "cell_type": "code",
   "execution_count": 27,
   "metadata": {},
   "outputs": [],
   "source": [
    "import folium\n",
    "from folium.plugins import MarkerCluster"
   ]
  },
  {
   "cell_type": "code",
   "execution_count": 28,
   "metadata": {},
   "outputs": [
    {
     "data": {
      "text/html": [
       "<div style=\"width:100%;\"><div style=\"position:relative;width:100%;height:0;padding-bottom:60%;\"><iframe src=\"about:blank\" style=\"position:absolute;width:100%;height:100%;left:0;top:0;border:none !important;\" data-html=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 onload=\"this.contentDocument.open();this.contentDocument.write(atob(this.getAttribute('data-html')));this.contentDocument.close();\" allowfullscreen webkitallowfullscreen mozallowfullscreen></iframe></div></div>"
      ],
      "text/plain": [
       "<folium.folium.Map at 0x1d2b841448>"
      ]
     },
     "execution_count": 28,
     "metadata": {},
     "output_type": "execute_result"
    }
   ],
   "source": [
    "MMCP_Map = folium.Map(location=[NCR_loc.latitude,NCR_loc.longitude], height=580, width=650, tiles=\"OpenStreetMap\",\n",
    "                   zoom_start=10.5)\n",
    "\n",
    "\n",
    "#Black for Northern PD\n",
    "for i in df_N.index:\n",
    "    folium.CircleMarker([df_N['lat'][i], df_N['lng'][i]], \n",
    "                        radius=2.5, \n",
    "                        color='black',  \n",
    "                        popup=folium.Popup('{0} \\n Location: {1} \\n Type: {2}'.format(\n",
    "                            df_N['city'].values[i], df_N['location'].values[i], df_N['type'].values[i]), \n",
    "                                           parse_html=True)).add_to(MMCP_Map)\n",
    "    \n",
    "#Blue for Southern PD \n",
    "for i in df_S.index:    \n",
    "    folium.CircleMarker([df_S['lat'][i], df_S['lng'][i]], \n",
    "                        radius=2.5, \n",
    "                        color='blue',  \n",
    "                        popup=folium.Popup('{0} \\n Location: {1} \\n Type: {2}'.format(\n",
    "                            df_S['city'].values[i], df_S['location'].values[i], df_S['type'].values[i]), \n",
    "                                           parse_html=True)).add_to(MMCP_Map)\n",
    "    \n",
    "#Red for Eastern PD\n",
    "for i in df_E.index:    \n",
    "    folium.CircleMarker([df_E['lat'][i], df_E['lng'][i]], \n",
    "                        radius=2.5, \n",
    "                        color='red',  \n",
    "                        popup=folium.Popup('{0} \\n Location: {1} \\n Type: {2}'.format(\n",
    "                            df_E['city'].values[i], df_E['location'].values[i], df_E['type'].values[i]), \n",
    "                                           parse_html=True)).add_to(MMCP_Map)\n",
    "                                           \n",
    "#Yellow for QC PD                                           \n",
    "for i in df_QC.index:\n",
    "    folium.CircleMarker([df_QC['lat'][i], df_QC['lng'][i]], \n",
    "                        radius=2.5, \n",
    "                        color='yellow',  \n",
    "                        popup=folium.Popup('{0} \\n Location: {1} \\n Type: {2}'.format(\n",
    "                            df_QC['city'].values[i], df_QC['location'].values[i], df_QC['type'].values[i]), \n",
    "                                           parse_html=True)).add_to(MMCP_Map)\n",
    "    \n",
    "MMCP_Map"
   ]
  },
  {
   "cell_type": "markdown",
   "metadata": {},
   "source": [
    "### Save map to ```.html```\n",
    "\n",
    "Finally."
   ]
  },
  {
   "cell_type": "code",
   "execution_count": 29,
   "metadata": {},
   "outputs": [],
   "source": [
    "MMCP_Map.save(\"COVID19Ph_MM_CP.html\")"
   ]
  },
  {
   "cell_type": "markdown",
   "metadata": {},
   "source": [
    "This Jupyter Notebook has finished re-run today, at:"
   ]
  },
  {
   "cell_type": "code",
   "execution_count": 30,
   "metadata": {},
   "outputs": [
    {
     "data": {
      "text/plain": [
       "Timestamp('2020-04-02 11:12:23.172559')"
      ]
     },
     "execution_count": 30,
     "metadata": {},
     "output_type": "execute_result"
    }
   ],
   "source": [
    "pd.to_datetime('today')"
   ]
  },
  {
   "cell_type": "code",
   "execution_count": null,
   "metadata": {},
   "outputs": [],
   "source": []
  }
 ],
 "metadata": {
  "kernelspec": {
   "display_name": "Python 3",
   "language": "python",
   "name": "python3"
  },
  "language_info": {
   "codemirror_mode": {
    "name": "ipython",
    "version": 3
   },
   "file_extension": ".py",
   "mimetype": "text/x-python",
   "name": "python",
   "nbconvert_exporter": "python",
   "pygments_lexer": "ipython3",
   "version": "3.7.4"
  }
 },
 "nbformat": 4,
 "nbformat_minor": 2
}
