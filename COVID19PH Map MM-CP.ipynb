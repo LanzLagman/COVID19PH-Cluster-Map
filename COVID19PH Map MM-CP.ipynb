{
 "cells": [
  {
   "cell_type": "code",
   "execution_count": 1,
   "metadata": {},
   "outputs": [
    {
     "name": "stdout",
     "output_type": "stream",
     "text": [
      "Python 3.7.4\n"
     ]
    }
   ],
   "source": [
    "!python --version"
   ]
  },
  {
   "cell_type": "markdown",
   "metadata": {},
   "source": [
    "# COVID-19 Ph Checkpoints Map"
   ]
  },
  {
   "cell_type": "code",
   "execution_count": 2,
   "metadata": {},
   "outputs": [],
   "source": [
    "import numpy as np\n",
    "import pandas as pd\n",
    "pd.set_option('display.max_colwidth', -1)"
   ]
  },
  {
   "cell_type": "markdown",
   "metadata": {},
   "source": [
    "This Jupyter Notebook has started re-run today, at:"
   ]
  },
  {
   "cell_type": "code",
   "execution_count": 3,
   "metadata": {},
   "outputs": [
    {
     "data": {
      "text/plain": [
       "Timestamp('2020-04-02 11:41:04.157635')"
      ]
     },
     "execution_count": 3,
     "metadata": {},
     "output_type": "execute_result"
    }
   ],
   "source": [
    "pd.to_datetime('today')"
   ]
  },
  {
   "cell_type": "markdown",
   "metadata": {},
   "source": [
    "The [Coronavirus-ph-api](https://coronavirus-ph-api.herokuapp.com/#/) that was used here was created by [Mr. Robert Soriano](https://robsoriano.com/).\n",
    "\n",
    "Please note that the results of the codes on this notebook depend on when this notebook was re-run."
   ]
  },
  {
   "cell_type": "code",
   "execution_count": 4,
   "metadata": {},
   "outputs": [
    {
     "data": {
      "text/html": [
       "<div>\n",
       "<style scoped>\n",
       "    .dataframe tbody tr th:only-of-type {\n",
       "        vertical-align: middle;\n",
       "    }\n",
       "\n",
       "    .dataframe tbody tr th {\n",
       "        vertical-align: top;\n",
       "    }\n",
       "\n",
       "    .dataframe thead th {\n",
       "        text-align: right;\n",
       "    }\n",
       "</style>\n",
       "<table border=\"1\" class=\"dataframe\">\n",
       "  <thead>\n",
       "    <tr style=\"text-align: right;\">\n",
       "      <th></th>\n",
       "      <th>id</th>\n",
       "      <th>district</th>\n",
       "      <th>city</th>\n",
       "      <th>location</th>\n",
       "      <th>type</th>\n",
       "      <th>lat</th>\n",
       "      <th>lng</th>\n",
       "      <th>description</th>\n",
       "    </tr>\n",
       "  </thead>\n",
       "  <tbody>\n",
       "    <tr>\n",
       "      <td>0</td>\n",
       "      <td>1</td>\n",
       "      <td>NORTHERN POLICE DISTRICT</td>\n",
       "      <td>CALOOCAN CITY</td>\n",
       "      <td>PCP 4 AREA  - QUIRINO HIGHWAY COR. MALARIA RD BOUNDARY OF CALOOCAN AND BULACAN</td>\n",
       "      <td>RoadClosure</td>\n",
       "      <td>14.769163</td>\n",
       "      <td>121.080297</td>\n",
       "      <td></td>\n",
       "    </tr>\n",
       "    <tr>\n",
       "      <td>1</td>\n",
       "      <td>2</td>\n",
       "      <td>NORTHERN POLICE DISTRICT</td>\n",
       "      <td>CALOOCAN CITY</td>\n",
       "      <td>PCP 3 – PHASE 7C DELA COSTA HOMES BOUNDARY OF CALOOCAN AND MUSON BULACAN</td>\n",
       "      <td>RoadClosure</td>\n",
       "      <td>14.768952</td>\n",
       "      <td>121.080493</td>\n",
       "      <td></td>\n",
       "    </tr>\n",
       "    <tr>\n",
       "      <td>2</td>\n",
       "      <td>3</td>\n",
       "      <td>NORTHERN POLICE DISTRICT</td>\n",
       "      <td>CALOOCAN CITY</td>\n",
       "      <td>PCP 3 - PHASE 9 BOUNDARY OF EVERGREEN VILL. BRGY. GAYA-GAYA SJ BULACAN</td>\n",
       "      <td>RoadClosure</td>\n",
       "      <td>14.776913</td>\n",
       "      <td>121.045104</td>\n",
       "      <td>Not verified; Assumed at intersection of Langit Rd and Old Zabarte</td>\n",
       "    </tr>\n",
       "    <tr>\n",
       "      <td>3</td>\n",
       "      <td>4</td>\n",
       "      <td>NORTHERN POLICE DISTRICT</td>\n",
       "      <td>CALOOCAN CITY</td>\n",
       "      <td>PCP 3 - PHASE 10 CALOOCAN AND BULACAN BRIDGE</td>\n",
       "      <td>RoadClosure</td>\n",
       "      <td>14.784283</td>\n",
       "      <td>121.030446</td>\n",
       "      <td>Not verified</td>\n",
       "    </tr>\n",
       "    <tr>\n",
       "      <td>4</td>\n",
       "      <td>5</td>\n",
       "      <td>NORTHERN POLICE DISTRICT</td>\n",
       "      <td>CALOOCAN CITY</td>\n",
       "      <td>PCP 6 – BANKERS VILL. GATE 3 BOUNDARY OF CALOOCAN AND MEYCAUYAN</td>\n",
       "      <td>RoadClosure</td>\n",
       "      <td>14.765149</td>\n",
       "      <td>121.024169</td>\n",
       "      <td>Not verified</td>\n",
       "    </tr>\n",
       "    <tr>\n",
       "      <td>...</td>\n",
       "      <td>...</td>\n",
       "      <td>...</td>\n",
       "      <td>...</td>\n",
       "      <td>...</td>\n",
       "      <td>...</td>\n",
       "      <td>...</td>\n",
       "      <td>...</td>\n",
       "      <td>...</td>\n",
       "    </tr>\n",
       "    <tr>\n",
       "      <td>82</td>\n",
       "      <td>83</td>\n",
       "      <td>EASTERN POLICE DISTRICT</td>\n",
       "      <td>PASIG CITY</td>\n",
       "      <td>R THADEUS ST., MRV, STA LUCIA</td>\n",
       "      <td>RoadClosure</td>\n",
       "      <td>14.578784</td>\n",
       "      <td>121.106870</td>\n",
       "      <td></td>\n",
       "    </tr>\n",
       "    <tr>\n",
       "      <td>83</td>\n",
       "      <td>84</td>\n",
       "      <td>EASTERN POLICE DISTRICT</td>\n",
       "      <td>PASIG CITY</td>\n",
       "      <td>WEST BANK ROAD, BRGY. MAYBUNGA (TO TAYTAY)</td>\n",
       "      <td>RoadClosure</td>\n",
       "      <td>14.578153</td>\n",
       "      <td>121.097081</td>\n",
       "      <td></td>\n",
       "    </tr>\n",
       "    <tr>\n",
       "      <td>84</td>\n",
       "      <td>85</td>\n",
       "      <td>EASTERN POLICE DISTRICT</td>\n",
       "      <td>PASIG CITY</td>\n",
       "      <td>A. SANDOVAL CORNER EUSEBIO AVE, BRGY. PINAGBUHATAN (TO TAYTAY)</td>\n",
       "      <td>RoadClosure</td>\n",
       "      <td>14.543785</td>\n",
       "      <td>121.106118</td>\n",
       "      <td></td>\n",
       "    </tr>\n",
       "    <tr>\n",
       "      <td>85</td>\n",
       "      <td>86</td>\n",
       "      <td>EASTERN POLICE DISTRICT</td>\n",
       "      <td>PASIG CITY</td>\n",
       "      <td>EUSEBIO AVE COR C6 ROAD BRGY. PINAGBUHATAN (TO TAYTAY)</td>\n",
       "      <td>RoadClosure</td>\n",
       "      <td>14.534778</td>\n",
       "      <td>121.104224</td>\n",
       "      <td></td>\n",
       "    </tr>\n",
       "    <tr>\n",
       "      <td>86</td>\n",
       "      <td>87</td>\n",
       "      <td>EASTERN POLICE DISTRICT</td>\n",
       "      <td>PASIG CITY</td>\n",
       "      <td>TRAMO RD., STA LUCIA</td>\n",
       "      <td>RoadClosure</td>\n",
       "      <td>14.584645</td>\n",
       "      <td>121.100959</td>\n",
       "      <td></td>\n",
       "    </tr>\n",
       "  </tbody>\n",
       "</table>\n",
       "<p>87 rows × 8 columns</p>\n",
       "</div>"
      ],
      "text/plain": [
       "    id                  district           city  \\\n",
       "0   1   NORTHERN POLICE DISTRICT  CALOOCAN CITY   \n",
       "1   2   NORTHERN POLICE DISTRICT  CALOOCAN CITY   \n",
       "2   3   NORTHERN POLICE DISTRICT  CALOOCAN CITY   \n",
       "3   4   NORTHERN POLICE DISTRICT  CALOOCAN CITY   \n",
       "4   5   NORTHERN POLICE DISTRICT  CALOOCAN CITY   \n",
       ".. ..                        ...            ...   \n",
       "82  83  EASTERN POLICE DISTRICT   PASIG CITY      \n",
       "83  84  EASTERN POLICE DISTRICT   PASIG CITY      \n",
       "84  85  EASTERN POLICE DISTRICT   PASIG CITY      \n",
       "85  86  EASTERN POLICE DISTRICT   PASIG CITY      \n",
       "86  87  EASTERN POLICE DISTRICT   PASIG CITY      \n",
       "\n",
       "                                                                          location  \\\n",
       "0   PCP 4 AREA  - QUIRINO HIGHWAY COR. MALARIA RD BOUNDARY OF CALOOCAN AND BULACAN   \n",
       "1   PCP 3 – PHASE 7C DELA COSTA HOMES BOUNDARY OF CALOOCAN AND MUSON BULACAN         \n",
       "2   PCP 3 - PHASE 9 BOUNDARY OF EVERGREEN VILL. BRGY. GAYA-GAYA SJ BULACAN           \n",
       "3   PCP 3 - PHASE 10 CALOOCAN AND BULACAN BRIDGE                                     \n",
       "4   PCP 6 – BANKERS VILL. GATE 3 BOUNDARY OF CALOOCAN AND MEYCAUYAN                  \n",
       "..                                                              ...                  \n",
       "82  R THADEUS ST., MRV, STA LUCIA                                                    \n",
       "83  WEST BANK ROAD, BRGY. MAYBUNGA (TO TAYTAY)                                       \n",
       "84  A. SANDOVAL CORNER EUSEBIO AVE, BRGY. PINAGBUHATAN (TO TAYTAY)                   \n",
       "85  EUSEBIO AVE COR C6 ROAD BRGY. PINAGBUHATAN (TO TAYTAY)                           \n",
       "86  TRAMO RD., STA LUCIA                                                             \n",
       "\n",
       "           type        lat         lng  \\\n",
       "0   RoadClosure  14.769163  121.080297   \n",
       "1   RoadClosure  14.768952  121.080493   \n",
       "2   RoadClosure  14.776913  121.045104   \n",
       "3   RoadClosure  14.784283  121.030446   \n",
       "4   RoadClosure  14.765149  121.024169   \n",
       "..          ...        ...         ...   \n",
       "82  RoadClosure  14.578784  121.106870   \n",
       "83  RoadClosure  14.578153  121.097081   \n",
       "84  RoadClosure  14.543785  121.106118   \n",
       "85  RoadClosure  14.534778  121.104224   \n",
       "86  RoadClosure  14.584645  121.100959   \n",
       "\n",
       "                                                           description  \n",
       "0                                                                       \n",
       "1                                                                       \n",
       "2   Not verified; Assumed at intersection of Langit Rd and Old Zabarte  \n",
       "3   Not verified                                                        \n",
       "4   Not verified                                                        \n",
       "..           ...                                                        \n",
       "82                                                                      \n",
       "83                                                                      \n",
       "84                                                                      \n",
       "85                                                                      \n",
       "86                                                                      \n",
       "\n",
       "[87 rows x 8 columns]"
      ]
     },
     "execution_count": 4,
     "metadata": {},
     "output_type": "execute_result"
    }
   ],
   "source": [
    "df = pd.read_json(\"https://coronavirus-ph-api.herokuapp.com/mm-checkpoints\")\n",
    "df"
   ]
  },
  {
   "cell_type": "markdown",
   "metadata": {},
   "source": [
    "Preferrably, ```case_no``` could be set as the index but sometimes ```case_no``` contains ```NaN``` values. To solve this:"
   ]
  },
  {
   "cell_type": "code",
   "execution_count": 5,
   "metadata": {},
   "outputs": [],
   "source": [
    "df = pd.DataFrame(df.drop(['id'], axis =1))"
   ]
  },
  {
   "cell_type": "code",
   "execution_count": 6,
   "metadata": {},
   "outputs": [],
   "source": [
    "df.index += 1\n",
    "df.index.names = ['id']"
   ]
  },
  {
   "cell_type": "code",
   "execution_count": 7,
   "metadata": {
    "scrolled": true
   },
   "outputs": [
    {
     "data": {
      "text/plain": [
       "Index(['district', 'city', 'location', 'type', 'lat', 'lng', 'description'], dtype='object')"
      ]
     },
     "execution_count": 7,
     "metadata": {},
     "output_type": "execute_result"
    }
   ],
   "source": [
    "df.columns"
   ]
  },
  {
   "cell_type": "markdown",
   "metadata": {},
   "source": [
    "# Before we begin..."
   ]
  },
  {
   "cell_type": "markdown",
   "metadata": {},
   "source": [
    "Save this df then use it."
   ]
  },
  {
   "cell_type": "code",
   "execution_count": 8,
   "metadata": {},
   "outputs": [
    {
     "data": {
      "text/plain": [
       "'02-04-2020_11h41m06s'"
      ]
     },
     "execution_count": 8,
     "metadata": {},
     "output_type": "execute_result"
    }
   ],
   "source": [
    "today_stamp = pd.to_datetime('today').strftime('%d-%m-%Y_%Hh%Mm%Ss')\n",
    "today_stamp"
   ]
  },
  {
   "cell_type": "code",
   "execution_count": 9,
   "metadata": {},
   "outputs": [
    {
     "data": {
      "text/html": [
       "<div>\n",
       "<style scoped>\n",
       "    .dataframe tbody tr th:only-of-type {\n",
       "        vertical-align: middle;\n",
       "    }\n",
       "\n",
       "    .dataframe tbody tr th {\n",
       "        vertical-align: top;\n",
       "    }\n",
       "\n",
       "    .dataframe thead th {\n",
       "        text-align: right;\n",
       "    }\n",
       "</style>\n",
       "<table border=\"1\" class=\"dataframe\">\n",
       "  <thead>\n",
       "    <tr style=\"text-align: right;\">\n",
       "      <th></th>\n",
       "      <th>id</th>\n",
       "      <th>district</th>\n",
       "      <th>city</th>\n",
       "      <th>location</th>\n",
       "      <th>type</th>\n",
       "      <th>lat</th>\n",
       "      <th>lng</th>\n",
       "      <th>description</th>\n",
       "    </tr>\n",
       "  </thead>\n",
       "  <tbody>\n",
       "    <tr>\n",
       "      <td>0</td>\n",
       "      <td>1</td>\n",
       "      <td>NORTHERN POLICE DISTRICT</td>\n",
       "      <td>CALOOCAN CITY</td>\n",
       "      <td>PCP 4 AREA  - QUIRINO HIGHWAY COR. MALARIA RD BOUNDARY OF CALOOCAN AND BULACAN</td>\n",
       "      <td>RoadClosure</td>\n",
       "      <td>14.769163</td>\n",
       "      <td>121.080297</td>\n",
       "      <td>NaN</td>\n",
       "    </tr>\n",
       "    <tr>\n",
       "      <td>1</td>\n",
       "      <td>2</td>\n",
       "      <td>NORTHERN POLICE DISTRICT</td>\n",
       "      <td>CALOOCAN CITY</td>\n",
       "      <td>PCP 3 – PHASE 7C DELA COSTA HOMES BOUNDARY OF CALOOCAN AND MUSON BULACAN</td>\n",
       "      <td>RoadClosure</td>\n",
       "      <td>14.768952</td>\n",
       "      <td>121.080493</td>\n",
       "      <td>NaN</td>\n",
       "    </tr>\n",
       "    <tr>\n",
       "      <td>2</td>\n",
       "      <td>3</td>\n",
       "      <td>NORTHERN POLICE DISTRICT</td>\n",
       "      <td>CALOOCAN CITY</td>\n",
       "      <td>PCP 3 - PHASE 9 BOUNDARY OF EVERGREEN VILL. BRGY. GAYA-GAYA SJ BULACAN</td>\n",
       "      <td>RoadClosure</td>\n",
       "      <td>14.776913</td>\n",
       "      <td>121.045104</td>\n",
       "      <td>Not verified; Assumed at intersection of Langit Rd and Old Zabarte</td>\n",
       "    </tr>\n",
       "    <tr>\n",
       "      <td>3</td>\n",
       "      <td>4</td>\n",
       "      <td>NORTHERN POLICE DISTRICT</td>\n",
       "      <td>CALOOCAN CITY</td>\n",
       "      <td>PCP 3 - PHASE 10 CALOOCAN AND BULACAN BRIDGE</td>\n",
       "      <td>RoadClosure</td>\n",
       "      <td>14.784283</td>\n",
       "      <td>121.030446</td>\n",
       "      <td>Not verified</td>\n",
       "    </tr>\n",
       "    <tr>\n",
       "      <td>4</td>\n",
       "      <td>5</td>\n",
       "      <td>NORTHERN POLICE DISTRICT</td>\n",
       "      <td>CALOOCAN CITY</td>\n",
       "      <td>PCP 6 – BANKERS VILL. GATE 3 BOUNDARY OF CALOOCAN AND MEYCAUYAN</td>\n",
       "      <td>RoadClosure</td>\n",
       "      <td>14.765149</td>\n",
       "      <td>121.024169</td>\n",
       "      <td>Not verified</td>\n",
       "    </tr>\n",
       "    <tr>\n",
       "      <td>...</td>\n",
       "      <td>...</td>\n",
       "      <td>...</td>\n",
       "      <td>...</td>\n",
       "      <td>...</td>\n",
       "      <td>...</td>\n",
       "      <td>...</td>\n",
       "      <td>...</td>\n",
       "      <td>...</td>\n",
       "    </tr>\n",
       "    <tr>\n",
       "      <td>82</td>\n",
       "      <td>83</td>\n",
       "      <td>EASTERN POLICE DISTRICT</td>\n",
       "      <td>PASIG CITY</td>\n",
       "      <td>R THADEUS ST., MRV, STA LUCIA</td>\n",
       "      <td>RoadClosure</td>\n",
       "      <td>14.578784</td>\n",
       "      <td>121.106870</td>\n",
       "      <td>NaN</td>\n",
       "    </tr>\n",
       "    <tr>\n",
       "      <td>83</td>\n",
       "      <td>84</td>\n",
       "      <td>EASTERN POLICE DISTRICT</td>\n",
       "      <td>PASIG CITY</td>\n",
       "      <td>WEST BANK ROAD, BRGY. MAYBUNGA (TO TAYTAY)</td>\n",
       "      <td>RoadClosure</td>\n",
       "      <td>14.578153</td>\n",
       "      <td>121.097081</td>\n",
       "      <td>NaN</td>\n",
       "    </tr>\n",
       "    <tr>\n",
       "      <td>84</td>\n",
       "      <td>85</td>\n",
       "      <td>EASTERN POLICE DISTRICT</td>\n",
       "      <td>PASIG CITY</td>\n",
       "      <td>A. SANDOVAL CORNER EUSEBIO AVE, BRGY. PINAGBUHATAN (TO TAYTAY)</td>\n",
       "      <td>RoadClosure</td>\n",
       "      <td>14.543785</td>\n",
       "      <td>121.106118</td>\n",
       "      <td>NaN</td>\n",
       "    </tr>\n",
       "    <tr>\n",
       "      <td>85</td>\n",
       "      <td>86</td>\n",
       "      <td>EASTERN POLICE DISTRICT</td>\n",
       "      <td>PASIG CITY</td>\n",
       "      <td>EUSEBIO AVE COR C6 ROAD BRGY. PINAGBUHATAN (TO TAYTAY)</td>\n",
       "      <td>RoadClosure</td>\n",
       "      <td>14.534778</td>\n",
       "      <td>121.104224</td>\n",
       "      <td>NaN</td>\n",
       "    </tr>\n",
       "    <tr>\n",
       "      <td>86</td>\n",
       "      <td>87</td>\n",
       "      <td>EASTERN POLICE DISTRICT</td>\n",
       "      <td>PASIG CITY</td>\n",
       "      <td>TRAMO RD., STA LUCIA</td>\n",
       "      <td>RoadClosure</td>\n",
       "      <td>14.584645</td>\n",
       "      <td>121.100959</td>\n",
       "      <td>NaN</td>\n",
       "    </tr>\n",
       "  </tbody>\n",
       "</table>\n",
       "<p>87 rows × 8 columns</p>\n",
       "</div>"
      ],
      "text/plain": [
       "    id                  district           city  \\\n",
       "0   1   NORTHERN POLICE DISTRICT  CALOOCAN CITY   \n",
       "1   2   NORTHERN POLICE DISTRICT  CALOOCAN CITY   \n",
       "2   3   NORTHERN POLICE DISTRICT  CALOOCAN CITY   \n",
       "3   4   NORTHERN POLICE DISTRICT  CALOOCAN CITY   \n",
       "4   5   NORTHERN POLICE DISTRICT  CALOOCAN CITY   \n",
       ".. ..                        ...            ...   \n",
       "82  83  EASTERN POLICE DISTRICT   PASIG CITY      \n",
       "83  84  EASTERN POLICE DISTRICT   PASIG CITY      \n",
       "84  85  EASTERN POLICE DISTRICT   PASIG CITY      \n",
       "85  86  EASTERN POLICE DISTRICT   PASIG CITY      \n",
       "86  87  EASTERN POLICE DISTRICT   PASIG CITY      \n",
       "\n",
       "                                                                          location  \\\n",
       "0   PCP 4 AREA  - QUIRINO HIGHWAY COR. MALARIA RD BOUNDARY OF CALOOCAN AND BULACAN   \n",
       "1   PCP 3 – PHASE 7C DELA COSTA HOMES BOUNDARY OF CALOOCAN AND MUSON BULACAN         \n",
       "2   PCP 3 - PHASE 9 BOUNDARY OF EVERGREEN VILL. BRGY. GAYA-GAYA SJ BULACAN           \n",
       "3   PCP 3 - PHASE 10 CALOOCAN AND BULACAN BRIDGE                                     \n",
       "4   PCP 6 – BANKERS VILL. GATE 3 BOUNDARY OF CALOOCAN AND MEYCAUYAN                  \n",
       "..                                                              ...                  \n",
       "82  R THADEUS ST., MRV, STA LUCIA                                                    \n",
       "83  WEST BANK ROAD, BRGY. MAYBUNGA (TO TAYTAY)                                       \n",
       "84  A. SANDOVAL CORNER EUSEBIO AVE, BRGY. PINAGBUHATAN (TO TAYTAY)                   \n",
       "85  EUSEBIO AVE COR C6 ROAD BRGY. PINAGBUHATAN (TO TAYTAY)                           \n",
       "86  TRAMO RD., STA LUCIA                                                             \n",
       "\n",
       "           type        lat         lng  \\\n",
       "0   RoadClosure  14.769163  121.080297   \n",
       "1   RoadClosure  14.768952  121.080493   \n",
       "2   RoadClosure  14.776913  121.045104   \n",
       "3   RoadClosure  14.784283  121.030446   \n",
       "4   RoadClosure  14.765149  121.024169   \n",
       "..          ...        ...         ...   \n",
       "82  RoadClosure  14.578784  121.106870   \n",
       "83  RoadClosure  14.578153  121.097081   \n",
       "84  RoadClosure  14.543785  121.106118   \n",
       "85  RoadClosure  14.534778  121.104224   \n",
       "86  RoadClosure  14.584645  121.100959   \n",
       "\n",
       "                                                           description  \n",
       "0   NaN                                                                 \n",
       "1   NaN                                                                 \n",
       "2   Not verified; Assumed at intersection of Langit Rd and Old Zabarte  \n",
       "3   Not verified                                                        \n",
       "4   Not verified                                                        \n",
       "..           ...                                                        \n",
       "82  NaN                                                                 \n",
       "83  NaN                                                                 \n",
       "84  NaN                                                                 \n",
       "85  NaN                                                                 \n",
       "86  NaN                                                                 \n",
       "\n",
       "[87 rows x 8 columns]"
      ]
     },
     "execution_count": 9,
     "metadata": {},
     "output_type": "execute_result"
    }
   ],
   "source": [
    "df.to_csv('COVID19PHforMapping_MM-CP_{0}.csv'.format(today_stamp), index_label='id')\n",
    "df = pd.read_csv('COVID19PHforMapping_MM-CP_{0}.csv'.format(today_stamp))\n",
    "df"
   ]
  },
  {
   "cell_type": "markdown",
   "metadata": {},
   "source": [
    "Check for `NaN` values on `df['lat']` and `df['lng']`."
   ]
  },
  {
   "cell_type": "code",
   "execution_count": 10,
   "metadata": {},
   "outputs": [
    {
     "data": {
      "text/plain": [
       "0"
      ]
     },
     "execution_count": 10,
     "metadata": {},
     "output_type": "execute_result"
    }
   ],
   "source": [
    "df['lat'].isna().sum()"
   ]
  },
  {
   "cell_type": "code",
   "execution_count": 11,
   "metadata": {},
   "outputs": [
    {
     "data": {
      "text/plain": [
       "0"
      ]
     },
     "execution_count": 11,
     "metadata": {},
     "output_type": "execute_result"
    }
   ],
   "source": [
    "df['lng'].isna().sum()"
   ]
  },
  {
   "cell_type": "code",
   "execution_count": 12,
   "metadata": {
    "scrolled": true
   },
   "outputs": [
    {
     "data": {
      "text/plain": [
       "87"
      ]
     },
     "execution_count": 12,
     "metadata": {},
     "output_type": "execute_result"
    }
   ],
   "source": [
    "len(df)"
   ]
  },
  {
   "cell_type": "markdown",
   "metadata": {},
   "source": [
    "Convert as float"
   ]
  },
  {
   "cell_type": "code",
   "execution_count": 13,
   "metadata": {},
   "outputs": [],
   "source": [
    "df['lat'] = df['lat'].astype('float')\n",
    "df['lng'] = df['lng'].astype('float')"
   ]
  },
  {
   "cell_type": "code",
   "execution_count": 14,
   "metadata": {},
   "outputs": [
    {
     "data": {
      "text/plain": [
       "id             int64  \n",
       "district       object \n",
       "city           object \n",
       "location       object \n",
       "type           object \n",
       "lat            float64\n",
       "lng            float64\n",
       "description    object \n",
       "dtype: object"
      ]
     },
     "execution_count": 14,
     "metadata": {},
     "output_type": "execute_result"
    }
   ],
   "source": [
    "df.dtypes"
   ]
  },
  {
   "cell_type": "markdown",
   "metadata": {},
   "source": [
    "### Some data exploration."
   ]
  },
  {
   "cell_type": "code",
   "execution_count": 15,
   "metadata": {},
   "outputs": [
    {
     "data": {
      "text/plain": [
       "SOUTHERN POLICE DISTRICT       36\n",
       "NORTHERN POLICE DISTRICT       25\n",
       "EASTERN POLICE DISTRICT        24\n",
       "QUEZON CITY POLICE DISTRICT    2 \n",
       "Name: district, dtype: int64"
      ]
     },
     "execution_count": 15,
     "metadata": {},
     "output_type": "execute_result"
    }
   ],
   "source": [
    "df['district'].value_counts()"
   ]
  },
  {
   "cell_type": "code",
   "execution_count": 16,
   "metadata": {},
   "outputs": [
    {
     "data": {
      "text/plain": [
       "PARANAQUE CITY     14\n",
       "MARIKINA CITY      14\n",
       "VALENZUELA CITY    13\n",
       "MUNTINLUPA CITY    11\n",
       "CALOOCAN CITY      10\n",
       "PASIG CITY         10\n",
       "LAS PINAS CITY     6 \n",
       "PARANAQUE          2 \n",
       "QUEZON CITY        2 \n",
       "LAS PINAS          2 \n",
       "MALABON CITY       2 \n",
       "MUNTINLUPA         1 \n",
       "Name: city, dtype: int64"
      ]
     },
     "execution_count": 16,
     "metadata": {},
     "output_type": "execute_result"
    }
   ],
   "source": [
    "df['city'].value_counts()"
   ]
  },
  {
   "cell_type": "code",
   "execution_count": 17,
   "metadata": {},
   "outputs": [
    {
     "data": {
      "text/plain": [
       "RoadClosure    77\n",
       "EntryExit      10\n",
       "Name: type, dtype: int64"
      ]
     },
     "execution_count": 17,
     "metadata": {},
     "output_type": "execute_result"
    }
   ],
   "source": [
    "df['type'].value_counts()"
   ]
  },
  {
   "cell_type": "markdown",
   "metadata": {},
   "source": [
    "Replace `NaN` values on `df[\"description\"]`."
   ]
  },
  {
   "cell_type": "code",
   "execution_count": 18,
   "metadata": {},
   "outputs": [
    {
     "data": {
      "text/plain": [
       "51"
      ]
     },
     "execution_count": 18,
     "metadata": {},
     "output_type": "execute_result"
    }
   ],
   "source": [
    "df['description'].isna().sum()"
   ]
  },
  {
   "cell_type": "code",
   "execution_count": 19,
   "metadata": {},
   "outputs": [],
   "source": [
    "df['description'] = df['description'].fillna('N/A')"
   ]
  },
  {
   "cell_type": "markdown",
   "metadata": {},
   "source": [
    "Split dataframe by police district."
   ]
  },
  {
   "cell_type": "code",
   "execution_count": 20,
   "metadata": {},
   "outputs": [],
   "source": [
    "df_N = df.loc[df['district'] == 'NORTHERN POLICE DISTRICT'].reset_index()"
   ]
  },
  {
   "cell_type": "code",
   "execution_count": 21,
   "metadata": {},
   "outputs": [],
   "source": [
    "df_S = df.loc[df['district'] == 'SOUTHERN POLICE DISTRICT'].reset_index()"
   ]
  },
  {
   "cell_type": "code",
   "execution_count": 22,
   "metadata": {},
   "outputs": [],
   "source": [
    "df_E = df.loc[df['district'] == 'EASTERN POLICE DISTRICT'].reset_index()"
   ]
  },
  {
   "cell_type": "code",
   "execution_count": 23,
   "metadata": {},
   "outputs": [],
   "source": [
    "df_QC = df.loc[df['district'] == 'QUEZON CITY POLICE DISTRICT'].reset_index()"
   ]
  },
  {
   "cell_type": "markdown",
   "metadata": {},
   "source": [
    "# Mapping"
   ]
  },
  {
   "cell_type": "markdown",
   "metadata": {},
   "source": [
    "## Find NCR Coordinates"
   ]
  },
  {
   "cell_type": "code",
   "execution_count": 24,
   "metadata": {},
   "outputs": [],
   "source": [
    "from geopy.geocoders import Nominatim\n",
    "from geopy.extra.rate_limiter import RateLimiter\n",
    "\n",
    "geocoder = Nominatim(user_agent=\"myGeocoder\")\n",
    "geocode = RateLimiter(geocoder.geocode, min_delay_seconds=1)"
   ]
  },
  {
   "cell_type": "code",
   "execution_count": 25,
   "metadata": {},
   "outputs": [],
   "source": [
    "from geopy.exc import GeocoderTimedOut\n",
    "\n",
    "def do_geocode(address):\n",
    "    try:\n",
    "        return geocoder.geocode(address)\n",
    "    except GeocoderTimedOut:\n",
    "        return do_geocode(address)"
   ]
  },
  {
   "cell_type": "code",
   "execution_count": 26,
   "metadata": {},
   "outputs": [
    {
     "data": {
      "text/plain": [
       "Location(Metro Manila, Philippines, (14.5736108, 121.0329706, 0.0))"
      ]
     },
     "execution_count": 26,
     "metadata": {},
     "output_type": "execute_result"
    }
   ],
   "source": [
    "NCR_loc = do_geocode('National Capital Region')\n",
    "NCR_loc"
   ]
  },
  {
   "cell_type": "markdown",
   "metadata": {},
   "source": [
    "## Map with Folium"
   ]
  },
  {
   "cell_type": "code",
   "execution_count": 27,
   "metadata": {},
   "outputs": [],
   "source": [
    "import folium\n",
    "from folium.plugins import MarkerCluster"
   ]
  },
  {
   "cell_type": "code",
   "execution_count": 28,
   "metadata": {},
   "outputs": [
    {
     "data": {
      "text/html": [
       "<div style=\"width:100%;\"><div style=\"position:relative;width:100%;height:0;padding-bottom:60%;\"><iframe src=\"about:blank\" style=\"position:absolute;width:100%;height:100%;left:0;top:0;border:none !important;\" data-html=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 onload=\"this.contentDocument.open();this.contentDocument.write(atob(this.getAttribute('data-html')));this.contentDocument.close();\" allowfullscreen webkitallowfullscreen mozallowfullscreen></iframe></div></div>"
      ],
      "text/plain": [
       "<folium.folium.Map at 0x2c3cc798c8>"
      ]
     },
     "execution_count": 28,
     "metadata": {},
     "output_type": "execute_result"
    }
   ],
   "source": [
    "MMCP_Map = folium.Map(location=[NCR_loc.latitude,NCR_loc.longitude], height=580, width=650, tiles=\"OpenStreetMap\",\n",
    "                   zoom_start=10.5)\n",
    "\n",
    "\n",
    "#Black for Northern PD\n",
    "for i in df_N.index:\n",
    "    folium.CircleMarker([df_N['lat'][i], df_N['lng'][i]], \n",
    "                        radius=2.5, \n",
    "                        color='black',  \n",
    "                        popup=folium.Popup('{0} \\n Location: {1} \\n Type: {2}'.format(\n",
    "                            df_N['city'].values[i], df_N['location'].values[i], df_N['type'].values[i]), \n",
    "                                           parse_html=True)).add_to(MMCP_Map)\n",
    "    \n",
    "#Blue for Southern PD \n",
    "for i in df_S.index:    \n",
    "    folium.CircleMarker([df_S['lat'][i], df_S['lng'][i]], \n",
    "                        radius=2.5, \n",
    "                        color='blue',  \n",
    "                        popup=folium.Popup('{0} \\n Location: {1} \\n Type: {2}'.format(\n",
    "                            df_S['city'].values[i], df_S['location'].values[i], df_S['type'].values[i]), \n",
    "                                           parse_html=True)).add_to(MMCP_Map)\n",
    "    \n",
    "#Red for Eastern PD\n",
    "for i in df_E.index:    \n",
    "    folium.CircleMarker([df_E['lat'][i], df_E['lng'][i]], \n",
    "                        radius=2.5, \n",
    "                        color='red',  \n",
    "                        popup=folium.Popup('{0} \\n Location: {1} \\n Type: {2}'.format(\n",
    "                            df_E['city'].values[i], df_E['location'].values[i], df_E['type'].values[i]), \n",
    "                                           parse_html=True)).add_to(MMCP_Map)\n",
    "                                           \n",
    "#Yellow for QC PD                                           \n",
    "for i in df_QC.index:\n",
    "    folium.CircleMarker([df_QC['lat'][i], df_QC['lng'][i]], \n",
    "                        radius=2.5, \n",
    "                        color='yellow',  \n",
    "                        popup=folium.Popup('{0} \\n Location: {1} \\n Type: {2}'.format(\n",
    "                            df_QC['city'].values[i], df_QC['location'].values[i], df_QC['type'].values[i]), \n",
    "                                           parse_html=True)).add_to(MMCP_Map)\n",
    "    \n",
    "MMCP_Map"
   ]
  },
  {
   "cell_type": "markdown",
   "metadata": {},
   "source": [
    "### Save map to ```.html```\n",
    "\n",
    "Finally."
   ]
  },
  {
   "cell_type": "code",
   "execution_count": 29,
   "metadata": {},
   "outputs": [],
   "source": [
    "MMCP_Map.save(\"COVID19Ph_MM-CP.html\")"
   ]
  },
  {
   "cell_type": "markdown",
   "metadata": {},
   "source": [
    "This Jupyter Notebook has finished re-run today, at:"
   ]
  },
  {
   "cell_type": "code",
   "execution_count": 30,
   "metadata": {},
   "outputs": [
    {
     "data": {
      "text/plain": [
       "Timestamp('2020-04-02 11:41:18.386185')"
      ]
     },
     "execution_count": 30,
     "metadata": {},
     "output_type": "execute_result"
    }
   ],
   "source": [
    "pd.to_datetime('today')"
   ]
  },
  {
   "cell_type": "code",
   "execution_count": null,
   "metadata": {},
   "outputs": [],
   "source": []
  }
 ],
 "metadata": {
  "kernelspec": {
   "display_name": "Python 3",
   "language": "python",
   "name": "python3"
  },
  "language_info": {
   "codemirror_mode": {
    "name": "ipython",
    "version": 3
   },
   "file_extension": ".py",
   "mimetype": "text/x-python",
   "name": "python",
   "nbconvert_exporter": "python",
   "pygments_lexer": "ipython3",
   "version": "3.7.4"
  }
 },
 "nbformat": 4,
 "nbformat_minor": 2
}
