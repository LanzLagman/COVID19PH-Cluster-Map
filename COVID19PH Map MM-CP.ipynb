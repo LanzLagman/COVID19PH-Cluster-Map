{
 "cells": [
  {
   "cell_type": "code",
   "execution_count": 1,
   "metadata": {},
   "outputs": [
    {
     "name": "stdout",
     "output_type": "stream",
     "text": [
      "Python 3.7.4\n"
     ]
    }
   ],
   "source": [
    "!python --version"
   ]
  },
  {
   "cell_type": "markdown",
   "metadata": {},
   "source": [
    "# COVID-19 Ph Checkpoints Map"
   ]
  },
  {
   "cell_type": "code",
   "execution_count": 2,
   "metadata": {},
   "outputs": [],
   "source": [
    "import numpy as np\n",
    "import pandas as pd\n",
    "pd.set_option('display.max_colwidth', -1)"
   ]
  },
  {
   "cell_type": "markdown",
   "metadata": {},
   "source": [
    "This Jupyter Notebook has started re-run today, at:"
   ]
  },
  {
   "cell_type": "code",
   "execution_count": 3,
   "metadata": {},
   "outputs": [
    {
     "data": {
      "text/plain": [
       "Timestamp('2020-04-02 12:18:13.157722')"
      ]
     },
     "execution_count": 3,
     "metadata": {},
     "output_type": "execute_result"
    }
   ],
   "source": [
    "pd.to_datetime('today')"
   ]
  },
  {
   "cell_type": "markdown",
   "metadata": {},
   "source": [
    "The [Coronavirus-ph-api](https://coronavirus-ph-api.herokuapp.com/#/) that was used here was created by [Mr. Robert Soriano](https://robsoriano.com/).\n",
    "\n",
    "Please note that the results of the codes on this notebook depend on when this notebook was re-run."
   ]
  },
  {
   "cell_type": "code",
   "execution_count": 4,
   "metadata": {},
   "outputs": [
    {
     "data": {
      "text/html": [
       "<div>\n",
       "<style scoped>\n",
       "    .dataframe tbody tr th:only-of-type {\n",
       "        vertical-align: middle;\n",
       "    }\n",
       "\n",
       "    .dataframe tbody tr th {\n",
       "        vertical-align: top;\n",
       "    }\n",
       "\n",
       "    .dataframe thead th {\n",
       "        text-align: right;\n",
       "    }\n",
       "</style>\n",
       "<table border=\"1\" class=\"dataframe\">\n",
       "  <thead>\n",
       "    <tr style=\"text-align: right;\">\n",
       "      <th></th>\n",
       "      <th>id</th>\n",
       "      <th>district</th>\n",
       "      <th>city</th>\n",
       "      <th>location</th>\n",
       "      <th>type</th>\n",
       "      <th>lat</th>\n",
       "      <th>lng</th>\n",
       "      <th>description</th>\n",
       "    </tr>\n",
       "  </thead>\n",
       "  <tbody>\n",
       "    <tr>\n",
       "      <td>0</td>\n",
       "      <td>1</td>\n",
       "      <td>NORTHERN POLICE DISTRICT</td>\n",
       "      <td>CALOOCAN CITY</td>\n",
       "      <td>PCP 4 AREA  - QUIRINO HIGHWAY COR. MALARIA RD BOUNDARY OF CALOOCAN AND BULACAN</td>\n",
       "      <td>RoadClosure</td>\n",
       "      <td>14.769163</td>\n",
       "      <td>121.080297</td>\n",
       "      <td></td>\n",
       "    </tr>\n",
       "    <tr>\n",
       "      <td>1</td>\n",
       "      <td>2</td>\n",
       "      <td>NORTHERN POLICE DISTRICT</td>\n",
       "      <td>CALOOCAN CITY</td>\n",
       "      <td>PCP 3 – PHASE 7C DELA COSTA HOMES BOUNDARY OF CALOOCAN AND MUSON BULACAN</td>\n",
       "      <td>RoadClosure</td>\n",
       "      <td>14.768952</td>\n",
       "      <td>121.080493</td>\n",
       "      <td></td>\n",
       "    </tr>\n",
       "    <tr>\n",
       "      <td>2</td>\n",
       "      <td>3</td>\n",
       "      <td>NORTHERN POLICE DISTRICT</td>\n",
       "      <td>CALOOCAN CITY</td>\n",
       "      <td>PCP 3 - PHASE 9 BOUNDARY OF EVERGREEN VILL. BRGY. GAYA-GAYA SJ BULACAN</td>\n",
       "      <td>RoadClosure</td>\n",
       "      <td>14.776913</td>\n",
       "      <td>121.045104</td>\n",
       "      <td>Not verified; Assumed at intersection of Langit Rd and Old Zabarte</td>\n",
       "    </tr>\n",
       "    <tr>\n",
       "      <td>3</td>\n",
       "      <td>4</td>\n",
       "      <td>NORTHERN POLICE DISTRICT</td>\n",
       "      <td>CALOOCAN CITY</td>\n",
       "      <td>PCP 3 - PHASE 10 CALOOCAN AND BULACAN BRIDGE</td>\n",
       "      <td>RoadClosure</td>\n",
       "      <td>14.784283</td>\n",
       "      <td>121.030446</td>\n",
       "      <td>Not verified</td>\n",
       "    </tr>\n",
       "    <tr>\n",
       "      <td>4</td>\n",
       "      <td>5</td>\n",
       "      <td>NORTHERN POLICE DISTRICT</td>\n",
       "      <td>CALOOCAN CITY</td>\n",
       "      <td>PCP 6 – BANKERS VILL. GATE 3 BOUNDARY OF CALOOCAN AND MEYCAUYAN</td>\n",
       "      <td>RoadClosure</td>\n",
       "      <td>14.765149</td>\n",
       "      <td>121.024169</td>\n",
       "      <td>Not verified</td>\n",
       "    </tr>\n",
       "    <tr>\n",
       "      <td>...</td>\n",
       "      <td>...</td>\n",
       "      <td>...</td>\n",
       "      <td>...</td>\n",
       "      <td>...</td>\n",
       "      <td>...</td>\n",
       "      <td>...</td>\n",
       "      <td>...</td>\n",
       "      <td>...</td>\n",
       "    </tr>\n",
       "    <tr>\n",
       "      <td>82</td>\n",
       "      <td>83</td>\n",
       "      <td>EASTERN POLICE DISTRICT</td>\n",
       "      <td>PASIG CITY</td>\n",
       "      <td>R THADEUS ST., MRV, STA LUCIA</td>\n",
       "      <td>RoadClosure</td>\n",
       "      <td>14.578784</td>\n",
       "      <td>121.106870</td>\n",
       "      <td></td>\n",
       "    </tr>\n",
       "    <tr>\n",
       "      <td>83</td>\n",
       "      <td>84</td>\n",
       "      <td>EASTERN POLICE DISTRICT</td>\n",
       "      <td>PASIG CITY</td>\n",
       "      <td>WEST BANK ROAD, BRGY. MAYBUNGA (TO TAYTAY)</td>\n",
       "      <td>RoadClosure</td>\n",
       "      <td>14.578153</td>\n",
       "      <td>121.097081</td>\n",
       "      <td></td>\n",
       "    </tr>\n",
       "    <tr>\n",
       "      <td>84</td>\n",
       "      <td>85</td>\n",
       "      <td>EASTERN POLICE DISTRICT</td>\n",
       "      <td>PASIG CITY</td>\n",
       "      <td>A. SANDOVAL CORNER EUSEBIO AVE, BRGY. PINAGBUHATAN (TO TAYTAY)</td>\n",
       "      <td>RoadClosure</td>\n",
       "      <td>14.543785</td>\n",
       "      <td>121.106118</td>\n",
       "      <td></td>\n",
       "    </tr>\n",
       "    <tr>\n",
       "      <td>85</td>\n",
       "      <td>86</td>\n",
       "      <td>EASTERN POLICE DISTRICT</td>\n",
       "      <td>PASIG CITY</td>\n",
       "      <td>EUSEBIO AVE COR C6 ROAD BRGY. PINAGBUHATAN (TO TAYTAY)</td>\n",
       "      <td>RoadClosure</td>\n",
       "      <td>14.534778</td>\n",
       "      <td>121.104224</td>\n",
       "      <td></td>\n",
       "    </tr>\n",
       "    <tr>\n",
       "      <td>86</td>\n",
       "      <td>87</td>\n",
       "      <td>EASTERN POLICE DISTRICT</td>\n",
       "      <td>PASIG CITY</td>\n",
       "      <td>TRAMO RD., STA LUCIA</td>\n",
       "      <td>RoadClosure</td>\n",
       "      <td>14.584645</td>\n",
       "      <td>121.100959</td>\n",
       "      <td></td>\n",
       "    </tr>\n",
       "  </tbody>\n",
       "</table>\n",
       "<p>87 rows × 8 columns</p>\n",
       "</div>"
      ],
      "text/plain": [
       "    id                  district           city  \\\n",
       "0   1   NORTHERN POLICE DISTRICT  CALOOCAN CITY   \n",
       "1   2   NORTHERN POLICE DISTRICT  CALOOCAN CITY   \n",
       "2   3   NORTHERN POLICE DISTRICT  CALOOCAN CITY   \n",
       "3   4   NORTHERN POLICE DISTRICT  CALOOCAN CITY   \n",
       "4   5   NORTHERN POLICE DISTRICT  CALOOCAN CITY   \n",
       ".. ..                        ...            ...   \n",
       "82  83  EASTERN POLICE DISTRICT   PASIG CITY      \n",
       "83  84  EASTERN POLICE DISTRICT   PASIG CITY      \n",
       "84  85  EASTERN POLICE DISTRICT   PASIG CITY      \n",
       "85  86  EASTERN POLICE DISTRICT   PASIG CITY      \n",
       "86  87  EASTERN POLICE DISTRICT   PASIG CITY      \n",
       "\n",
       "                                                                          location  \\\n",
       "0   PCP 4 AREA  - QUIRINO HIGHWAY COR. MALARIA RD BOUNDARY OF CALOOCAN AND BULACAN   \n",
       "1   PCP 3 – PHASE 7C DELA COSTA HOMES BOUNDARY OF CALOOCAN AND MUSON BULACAN         \n",
       "2   PCP 3 - PHASE 9 BOUNDARY OF EVERGREEN VILL. BRGY. GAYA-GAYA SJ BULACAN           \n",
       "3   PCP 3 - PHASE 10 CALOOCAN AND BULACAN BRIDGE                                     \n",
       "4   PCP 6 – BANKERS VILL. GATE 3 BOUNDARY OF CALOOCAN AND MEYCAUYAN                  \n",
       "..                                                              ...                  \n",
       "82  R THADEUS ST., MRV, STA LUCIA                                                    \n",
       "83  WEST BANK ROAD, BRGY. MAYBUNGA (TO TAYTAY)                                       \n",
       "84  A. SANDOVAL CORNER EUSEBIO AVE, BRGY. PINAGBUHATAN (TO TAYTAY)                   \n",
       "85  EUSEBIO AVE COR C6 ROAD BRGY. PINAGBUHATAN (TO TAYTAY)                           \n",
       "86  TRAMO RD., STA LUCIA                                                             \n",
       "\n",
       "           type        lat         lng  \\\n",
       "0   RoadClosure  14.769163  121.080297   \n",
       "1   RoadClosure  14.768952  121.080493   \n",
       "2   RoadClosure  14.776913  121.045104   \n",
       "3   RoadClosure  14.784283  121.030446   \n",
       "4   RoadClosure  14.765149  121.024169   \n",
       "..          ...        ...         ...   \n",
       "82  RoadClosure  14.578784  121.106870   \n",
       "83  RoadClosure  14.578153  121.097081   \n",
       "84  RoadClosure  14.543785  121.106118   \n",
       "85  RoadClosure  14.534778  121.104224   \n",
       "86  RoadClosure  14.584645  121.100959   \n",
       "\n",
       "                                                           description  \n",
       "0                                                                       \n",
       "1                                                                       \n",
       "2   Not verified; Assumed at intersection of Langit Rd and Old Zabarte  \n",
       "3   Not verified                                                        \n",
       "4   Not verified                                                        \n",
       "..           ...                                                        \n",
       "82                                                                      \n",
       "83                                                                      \n",
       "84                                                                      \n",
       "85                                                                      \n",
       "86                                                                      \n",
       "\n",
       "[87 rows x 8 columns]"
      ]
     },
     "execution_count": 4,
     "metadata": {},
     "output_type": "execute_result"
    }
   ],
   "source": [
    "df = pd.read_json(\"https://coronavirus-ph-api.herokuapp.com/mm-checkpoints\")\n",
    "df"
   ]
  },
  {
   "cell_type": "markdown",
   "metadata": {},
   "source": [
    "Preferrably, ```case_no``` could be set as the index but sometimes ```case_no``` contains ```NaN``` values. To solve this:"
   ]
  },
  {
   "cell_type": "code",
   "execution_count": 5,
   "metadata": {},
   "outputs": [],
   "source": [
    "df = pd.DataFrame(df.drop(['id'], axis =1))"
   ]
  },
  {
   "cell_type": "code",
   "execution_count": 6,
   "metadata": {},
   "outputs": [],
   "source": [
    "df.index += 1\n",
    "df.index.names = ['id']"
   ]
  },
  {
   "cell_type": "code",
   "execution_count": 7,
   "metadata": {
    "scrolled": true
   },
   "outputs": [
    {
     "data": {
      "text/plain": [
       "Index(['district', 'city', 'location', 'type', 'lat', 'lng', 'description'], dtype='object')"
      ]
     },
     "execution_count": 7,
     "metadata": {},
     "output_type": "execute_result"
    }
   ],
   "source": [
    "df.columns"
   ]
  },
  {
   "cell_type": "markdown",
   "metadata": {},
   "source": [
    "# Before we begin..."
   ]
  },
  {
   "cell_type": "markdown",
   "metadata": {},
   "source": [
    "Save this df then use it."
   ]
  },
  {
   "cell_type": "code",
   "execution_count": 8,
   "metadata": {},
   "outputs": [
    {
     "data": {
      "text/plain": [
       "'02-04-2020_12h18m15s'"
      ]
     },
     "execution_count": 8,
     "metadata": {},
     "output_type": "execute_result"
    }
   ],
   "source": [
    "today_stamp = pd.to_datetime('today').strftime('%d-%m-%Y_%Hh%Mm%Ss')\n",
    "today_stamp"
   ]
  },
  {
   "cell_type": "code",
   "execution_count": 9,
   "metadata": {},
   "outputs": [
    {
     "data": {
      "text/html": [
       "<div>\n",
       "<style scoped>\n",
       "    .dataframe tbody tr th:only-of-type {\n",
       "        vertical-align: middle;\n",
       "    }\n",
       "\n",
       "    .dataframe tbody tr th {\n",
       "        vertical-align: top;\n",
       "    }\n",
       "\n",
       "    .dataframe thead th {\n",
       "        text-align: right;\n",
       "    }\n",
       "</style>\n",
       "<table border=\"1\" class=\"dataframe\">\n",
       "  <thead>\n",
       "    <tr style=\"text-align: right;\">\n",
       "      <th></th>\n",
       "      <th>id</th>\n",
       "      <th>district</th>\n",
       "      <th>city</th>\n",
       "      <th>location</th>\n",
       "      <th>type</th>\n",
       "      <th>lat</th>\n",
       "      <th>lng</th>\n",
       "      <th>description</th>\n",
       "    </tr>\n",
       "  </thead>\n",
       "  <tbody>\n",
       "    <tr>\n",
       "      <td>0</td>\n",
       "      <td>1</td>\n",
       "      <td>NORTHERN POLICE DISTRICT</td>\n",
       "      <td>CALOOCAN CITY</td>\n",
       "      <td>PCP 4 AREA  - QUIRINO HIGHWAY COR. MALARIA RD BOUNDARY OF CALOOCAN AND BULACAN</td>\n",
       "      <td>RoadClosure</td>\n",
       "      <td>14.769163</td>\n",
       "      <td>121.080297</td>\n",
       "      <td>NaN</td>\n",
       "    </tr>\n",
       "    <tr>\n",
       "      <td>1</td>\n",
       "      <td>2</td>\n",
       "      <td>NORTHERN POLICE DISTRICT</td>\n",
       "      <td>CALOOCAN CITY</td>\n",
       "      <td>PCP 3 – PHASE 7C DELA COSTA HOMES BOUNDARY OF CALOOCAN AND MUSON BULACAN</td>\n",
       "      <td>RoadClosure</td>\n",
       "      <td>14.768952</td>\n",
       "      <td>121.080493</td>\n",
       "      <td>NaN</td>\n",
       "    </tr>\n",
       "    <tr>\n",
       "      <td>2</td>\n",
       "      <td>3</td>\n",
       "      <td>NORTHERN POLICE DISTRICT</td>\n",
       "      <td>CALOOCAN CITY</td>\n",
       "      <td>PCP 3 - PHASE 9 BOUNDARY OF EVERGREEN VILL. BRGY. GAYA-GAYA SJ BULACAN</td>\n",
       "      <td>RoadClosure</td>\n",
       "      <td>14.776913</td>\n",
       "      <td>121.045104</td>\n",
       "      <td>Not verified; Assumed at intersection of Langit Rd and Old Zabarte</td>\n",
       "    </tr>\n",
       "    <tr>\n",
       "      <td>3</td>\n",
       "      <td>4</td>\n",
       "      <td>NORTHERN POLICE DISTRICT</td>\n",
       "      <td>CALOOCAN CITY</td>\n",
       "      <td>PCP 3 - PHASE 10 CALOOCAN AND BULACAN BRIDGE</td>\n",
       "      <td>RoadClosure</td>\n",
       "      <td>14.784283</td>\n",
       "      <td>121.030446</td>\n",
       "      <td>Not verified</td>\n",
       "    </tr>\n",
       "    <tr>\n",
       "      <td>4</td>\n",
       "      <td>5</td>\n",
       "      <td>NORTHERN POLICE DISTRICT</td>\n",
       "      <td>CALOOCAN CITY</td>\n",
       "      <td>PCP 6 – BANKERS VILL. GATE 3 BOUNDARY OF CALOOCAN AND MEYCAUYAN</td>\n",
       "      <td>RoadClosure</td>\n",
       "      <td>14.765149</td>\n",
       "      <td>121.024169</td>\n",
       "      <td>Not verified</td>\n",
       "    </tr>\n",
       "    <tr>\n",
       "      <td>...</td>\n",
       "      <td>...</td>\n",
       "      <td>...</td>\n",
       "      <td>...</td>\n",
       "      <td>...</td>\n",
       "      <td>...</td>\n",
       "      <td>...</td>\n",
       "      <td>...</td>\n",
       "      <td>...</td>\n",
       "    </tr>\n",
       "    <tr>\n",
       "      <td>82</td>\n",
       "      <td>83</td>\n",
       "      <td>EASTERN POLICE DISTRICT</td>\n",
       "      <td>PASIG CITY</td>\n",
       "      <td>R THADEUS ST., MRV, STA LUCIA</td>\n",
       "      <td>RoadClosure</td>\n",
       "      <td>14.578784</td>\n",
       "      <td>121.106870</td>\n",
       "      <td>NaN</td>\n",
       "    </tr>\n",
       "    <tr>\n",
       "      <td>83</td>\n",
       "      <td>84</td>\n",
       "      <td>EASTERN POLICE DISTRICT</td>\n",
       "      <td>PASIG CITY</td>\n",
       "      <td>WEST BANK ROAD, BRGY. MAYBUNGA (TO TAYTAY)</td>\n",
       "      <td>RoadClosure</td>\n",
       "      <td>14.578153</td>\n",
       "      <td>121.097081</td>\n",
       "      <td>NaN</td>\n",
       "    </tr>\n",
       "    <tr>\n",
       "      <td>84</td>\n",
       "      <td>85</td>\n",
       "      <td>EASTERN POLICE DISTRICT</td>\n",
       "      <td>PASIG CITY</td>\n",
       "      <td>A. SANDOVAL CORNER EUSEBIO AVE, BRGY. PINAGBUHATAN (TO TAYTAY)</td>\n",
       "      <td>RoadClosure</td>\n",
       "      <td>14.543785</td>\n",
       "      <td>121.106118</td>\n",
       "      <td>NaN</td>\n",
       "    </tr>\n",
       "    <tr>\n",
       "      <td>85</td>\n",
       "      <td>86</td>\n",
       "      <td>EASTERN POLICE DISTRICT</td>\n",
       "      <td>PASIG CITY</td>\n",
       "      <td>EUSEBIO AVE COR C6 ROAD BRGY. PINAGBUHATAN (TO TAYTAY)</td>\n",
       "      <td>RoadClosure</td>\n",
       "      <td>14.534778</td>\n",
       "      <td>121.104224</td>\n",
       "      <td>NaN</td>\n",
       "    </tr>\n",
       "    <tr>\n",
       "      <td>86</td>\n",
       "      <td>87</td>\n",
       "      <td>EASTERN POLICE DISTRICT</td>\n",
       "      <td>PASIG CITY</td>\n",
       "      <td>TRAMO RD., STA LUCIA</td>\n",
       "      <td>RoadClosure</td>\n",
       "      <td>14.584645</td>\n",
       "      <td>121.100959</td>\n",
       "      <td>NaN</td>\n",
       "    </tr>\n",
       "  </tbody>\n",
       "</table>\n",
       "<p>87 rows × 8 columns</p>\n",
       "</div>"
      ],
      "text/plain": [
       "    id                  district           city  \\\n",
       "0   1   NORTHERN POLICE DISTRICT  CALOOCAN CITY   \n",
       "1   2   NORTHERN POLICE DISTRICT  CALOOCAN CITY   \n",
       "2   3   NORTHERN POLICE DISTRICT  CALOOCAN CITY   \n",
       "3   4   NORTHERN POLICE DISTRICT  CALOOCAN CITY   \n",
       "4   5   NORTHERN POLICE DISTRICT  CALOOCAN CITY   \n",
       ".. ..                        ...            ...   \n",
       "82  83  EASTERN POLICE DISTRICT   PASIG CITY      \n",
       "83  84  EASTERN POLICE DISTRICT   PASIG CITY      \n",
       "84  85  EASTERN POLICE DISTRICT   PASIG CITY      \n",
       "85  86  EASTERN POLICE DISTRICT   PASIG CITY      \n",
       "86  87  EASTERN POLICE DISTRICT   PASIG CITY      \n",
       "\n",
       "                                                                          location  \\\n",
       "0   PCP 4 AREA  - QUIRINO HIGHWAY COR. MALARIA RD BOUNDARY OF CALOOCAN AND BULACAN   \n",
       "1   PCP 3 – PHASE 7C DELA COSTA HOMES BOUNDARY OF CALOOCAN AND MUSON BULACAN         \n",
       "2   PCP 3 - PHASE 9 BOUNDARY OF EVERGREEN VILL. BRGY. GAYA-GAYA SJ BULACAN           \n",
       "3   PCP 3 - PHASE 10 CALOOCAN AND BULACAN BRIDGE                                     \n",
       "4   PCP 6 – BANKERS VILL. GATE 3 BOUNDARY OF CALOOCAN AND MEYCAUYAN                  \n",
       "..                                                              ...                  \n",
       "82  R THADEUS ST., MRV, STA LUCIA                                                    \n",
       "83  WEST BANK ROAD, BRGY. MAYBUNGA (TO TAYTAY)                                       \n",
       "84  A. SANDOVAL CORNER EUSEBIO AVE, BRGY. PINAGBUHATAN (TO TAYTAY)                   \n",
       "85  EUSEBIO AVE COR C6 ROAD BRGY. PINAGBUHATAN (TO TAYTAY)                           \n",
       "86  TRAMO RD., STA LUCIA                                                             \n",
       "\n",
       "           type        lat         lng  \\\n",
       "0   RoadClosure  14.769163  121.080297   \n",
       "1   RoadClosure  14.768952  121.080493   \n",
       "2   RoadClosure  14.776913  121.045104   \n",
       "3   RoadClosure  14.784283  121.030446   \n",
       "4   RoadClosure  14.765149  121.024169   \n",
       "..          ...        ...         ...   \n",
       "82  RoadClosure  14.578784  121.106870   \n",
       "83  RoadClosure  14.578153  121.097081   \n",
       "84  RoadClosure  14.543785  121.106118   \n",
       "85  RoadClosure  14.534778  121.104224   \n",
       "86  RoadClosure  14.584645  121.100959   \n",
       "\n",
       "                                                           description  \n",
       "0   NaN                                                                 \n",
       "1   NaN                                                                 \n",
       "2   Not verified; Assumed at intersection of Langit Rd and Old Zabarte  \n",
       "3   Not verified                                                        \n",
       "4   Not verified                                                        \n",
       "..           ...                                                        \n",
       "82  NaN                                                                 \n",
       "83  NaN                                                                 \n",
       "84  NaN                                                                 \n",
       "85  NaN                                                                 \n",
       "86  NaN                                                                 \n",
       "\n",
       "[87 rows x 8 columns]"
      ]
     },
     "execution_count": 9,
     "metadata": {},
     "output_type": "execute_result"
    }
   ],
   "source": [
    "df.to_csv('COVID19PHforMapping_MM-CP_{0}.csv'.format(today_stamp), index_label='id')\n",
    "df = pd.read_csv('COVID19PHforMapping_MM-CP_{0}.csv'.format(today_stamp))\n",
    "df"
   ]
  },
  {
   "cell_type": "markdown",
   "metadata": {},
   "source": [
    "Check for `NaN` values on `df['lat']` and `df['lng']`."
   ]
  },
  {
   "cell_type": "code",
   "execution_count": 10,
   "metadata": {},
   "outputs": [
    {
     "data": {
      "text/plain": [
       "0"
      ]
     },
     "execution_count": 10,
     "metadata": {},
     "output_type": "execute_result"
    }
   ],
   "source": [
    "df['lat'].isna().sum()"
   ]
  },
  {
   "cell_type": "code",
   "execution_count": 11,
   "metadata": {},
   "outputs": [
    {
     "data": {
      "text/plain": [
       "0"
      ]
     },
     "execution_count": 11,
     "metadata": {},
     "output_type": "execute_result"
    }
   ],
   "source": [
    "df['lng'].isna().sum()"
   ]
  },
  {
   "cell_type": "code",
   "execution_count": 12,
   "metadata": {
    "scrolled": true
   },
   "outputs": [
    {
     "data": {
      "text/plain": [
       "87"
      ]
     },
     "execution_count": 12,
     "metadata": {},
     "output_type": "execute_result"
    }
   ],
   "source": [
    "len(df)"
   ]
  },
  {
   "cell_type": "markdown",
   "metadata": {},
   "source": [
    "Convert as float"
   ]
  },
  {
   "cell_type": "code",
   "execution_count": 13,
   "metadata": {},
   "outputs": [],
   "source": [
    "df['lat'] = df['lat'].astype('float')\n",
    "df['lng'] = df['lng'].astype('float')"
   ]
  },
  {
   "cell_type": "code",
   "execution_count": 14,
   "metadata": {},
   "outputs": [
    {
     "data": {
      "text/plain": [
       "id             int64  \n",
       "district       object \n",
       "city           object \n",
       "location       object \n",
       "type           object \n",
       "lat            float64\n",
       "lng            float64\n",
       "description    object \n",
       "dtype: object"
      ]
     },
     "execution_count": 14,
     "metadata": {},
     "output_type": "execute_result"
    }
   ],
   "source": [
    "df.dtypes"
   ]
  },
  {
   "cell_type": "markdown",
   "metadata": {},
   "source": [
    "### Some data exploration."
   ]
  },
  {
   "cell_type": "code",
   "execution_count": 15,
   "metadata": {},
   "outputs": [
    {
     "data": {
      "text/plain": [
       "SOUTHERN POLICE DISTRICT       36\n",
       "NORTHERN POLICE DISTRICT       25\n",
       "EASTERN POLICE DISTRICT        24\n",
       "QUEZON CITY POLICE DISTRICT    2 \n",
       "Name: district, dtype: int64"
      ]
     },
     "execution_count": 15,
     "metadata": {},
     "output_type": "execute_result"
    }
   ],
   "source": [
    "df['district'].value_counts()"
   ]
  },
  {
   "cell_type": "code",
   "execution_count": 16,
   "metadata": {},
   "outputs": [
    {
     "data": {
      "text/plain": [
       "MARIKINA CITY      14\n",
       "PARANAQUE CITY     14\n",
       "VALENZUELA CITY    13\n",
       "MUNTINLUPA CITY    11\n",
       "PASIG CITY         10\n",
       "CALOOCAN CITY      10\n",
       "LAS PINAS CITY     6 \n",
       "LAS PINAS          2 \n",
       "PARANAQUE          2 \n",
       "MALABON CITY       2 \n",
       "QUEZON CITY        2 \n",
       "MUNTINLUPA         1 \n",
       "Name: city, dtype: int64"
      ]
     },
     "execution_count": 16,
     "metadata": {},
     "output_type": "execute_result"
    }
   ],
   "source": [
    "df['city'].value_counts()"
   ]
  },
  {
   "cell_type": "code",
   "execution_count": 17,
   "metadata": {},
   "outputs": [
    {
     "data": {
      "text/plain": [
       "RoadClosure    77\n",
       "EntryExit      10\n",
       "Name: type, dtype: int64"
      ]
     },
     "execution_count": 17,
     "metadata": {},
     "output_type": "execute_result"
    }
   ],
   "source": [
    "df['type'].value_counts()"
   ]
  },
  {
   "cell_type": "markdown",
   "metadata": {},
   "source": [
    "Replace `NaN` values on `df[\"description\"]`."
   ]
  },
  {
   "cell_type": "code",
   "execution_count": 18,
   "metadata": {},
   "outputs": [
    {
     "data": {
      "text/plain": [
       "51"
      ]
     },
     "execution_count": 18,
     "metadata": {},
     "output_type": "execute_result"
    }
   ],
   "source": [
    "df['description'].isna().sum()"
   ]
  },
  {
   "cell_type": "code",
   "execution_count": 19,
   "metadata": {},
   "outputs": [],
   "source": [
    "df['description'] = df['description'].fillna('N/A')"
   ]
  },
  {
   "cell_type": "markdown",
   "metadata": {},
   "source": [
    "Split dataframe by police district."
   ]
  },
  {
   "cell_type": "code",
   "execution_count": 20,
   "metadata": {},
   "outputs": [],
   "source": [
    "df_N = df.loc[df['district'] == 'NORTHERN POLICE DISTRICT'].reset_index()"
   ]
  },
  {
   "cell_type": "code",
   "execution_count": 21,
   "metadata": {},
   "outputs": [],
   "source": [
    "df_S = df.loc[df['district'] == 'SOUTHERN POLICE DISTRICT'].reset_index()"
   ]
  },
  {
   "cell_type": "code",
   "execution_count": 22,
   "metadata": {},
   "outputs": [],
   "source": [
    "df_E = df.loc[df['district'] == 'EASTERN POLICE DISTRICT'].reset_index()"
   ]
  },
  {
   "cell_type": "code",
   "execution_count": 23,
   "metadata": {},
   "outputs": [],
   "source": [
    "df_QC = df.loc[df['district'] == 'QUEZON CITY POLICE DISTRICT'].reset_index()"
   ]
  },
  {
   "cell_type": "markdown",
   "metadata": {},
   "source": [
    "# Mapping"
   ]
  },
  {
   "cell_type": "markdown",
   "metadata": {},
   "source": [
    "## Find NCR Coordinates"
   ]
  },
  {
   "cell_type": "code",
   "execution_count": 24,
   "metadata": {},
   "outputs": [],
   "source": [
    "from geopy.geocoders import Nominatim\n",
    "from geopy.extra.rate_limiter import RateLimiter\n",
    "\n",
    "geocoder = Nominatim(user_agent=\"myGeocoder\")\n",
    "geocode = RateLimiter(geocoder.geocode, min_delay_seconds=1)"
   ]
  },
  {
   "cell_type": "code",
   "execution_count": 25,
   "metadata": {},
   "outputs": [],
   "source": [
    "from geopy.exc import GeocoderTimedOut\n",
    "\n",
    "def do_geocode(address):\n",
    "    try:\n",
    "        return geocoder.geocode(address)\n",
    "    except GeocoderTimedOut:\n",
    "        return do_geocode(address)"
   ]
  },
  {
   "cell_type": "code",
   "execution_count": 26,
   "metadata": {},
   "outputs": [
    {
     "data": {
      "text/plain": [
       "Location(Metro Manila, Philippines, (14.5736108, 121.0329706, 0.0))"
      ]
     },
     "execution_count": 26,
     "metadata": {},
     "output_type": "execute_result"
    }
   ],
   "source": [
    "NCR_loc = do_geocode('National Capital Region')\n",
    "NCR_loc"
   ]
  },
  {
   "cell_type": "markdown",
   "metadata": {},
   "source": [
    "## Map with Folium"
   ]
  },
  {
   "cell_type": "code",
   "execution_count": 27,
   "metadata": {},
   "outputs": [],
   "source": [
    "import folium\n",
    "from folium.plugins import MarkerCluster"
   ]
  },
  {
   "cell_type": "code",
   "execution_count": 28,
   "metadata": {},
   "outputs": [
    {
     "data": {
      "text/html": [
       "<div style=\"width:100%;\"><div style=\"position:relative;width:100%;height:0;padding-bottom:60%;\"><iframe src=\"about:blank\" style=\"position:absolute;width:100%;height:100%;left:0;top:0;border:none !important;\" data-html=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 onload=\"this.contentDocument.open();this.contentDocument.write(atob(this.getAttribute('data-html')));this.contentDocument.close();\" allowfullscreen webkitallowfullscreen mozallowfullscreen></iframe></div></div>"
      ],
      "text/plain": [
       "<folium.folium.Map at 0x45a3019948>"
      ]
     },
     "execution_count": 28,
     "metadata": {},
     "output_type": "execute_result"
    }
   ],
   "source": [
    "MMCP_Map = folium.Map(location=[NCR_loc.latitude,NCR_loc.longitude], height=580, width=650, tiles=\"OpenStreetMap\",\n",
    "                   zoom_start=10.5)\n",
    "\n",
    "\n",
    "#Black for Northern PD\n",
    "for i in df_N.index:\n",
    "    folium.CircleMarker([df_N['lat'][i], df_N['lng'][i]], \n",
    "                        radius=2.5, \n",
    "                        color='black',  \n",
    "                        popup=folium.Popup('{0} \\n Location: {1} \\n Type: {2}'.format(\n",
    "                            df_N['city'].values[i], df_N['location'].values[i], df_N['type'].values[i]), \n",
    "                                           parse_html=True)).add_to(MMCP_Map)\n",
    "    \n",
    "#Blue for Southern PD \n",
    "for i in df_S.index:    \n",
    "    folium.CircleMarker([df_S['lat'][i], df_S['lng'][i]], \n",
    "                        radius=2.5, \n",
    "                        color='blue',  \n",
    "                        popup=folium.Popup('{0} \\n Location: {1} \\n Type: {2}'.format(\n",
    "                            df_S['city'].values[i], df_S['location'].values[i], df_S['type'].values[i]), \n",
    "                                           parse_html=True)).add_to(MMCP_Map)\n",
    "    \n",
    "#Red for Eastern PD\n",
    "for i in df_E.index:    \n",
    "    folium.CircleMarker([df_E['lat'][i], df_E['lng'][i]], \n",
    "                        radius=2.5, \n",
    "                        color='red',  \n",
    "                        popup=folium.Popup('{0} \\n Location: {1} \\n Type: {2}'.format(\n",
    "                            df_E['city'].values[i], df_E['location'].values[i], df_E['type'].values[i]), \n",
    "                                           parse_html=True)).add_to(MMCP_Map)\n",
    "                                           \n",
    "#Yellow for QC PD                                           \n",
    "for i in df_QC.index:\n",
    "    folium.CircleMarker([df_QC['lat'][i], df_QC['lng'][i]], \n",
    "                        radius=2.5, \n",
    "                        color='yellow',  \n",
    "                        popup=folium.Popup('{0} \\n Location: {1} \\n Type: {2}'.format(\n",
    "                            df_QC['city'].values[i], df_QC['location'].values[i], df_QC['type'].values[i]), \n",
    "                                           parse_html=True)).add_to(MMCP_Map)\n",
    "    \n",
    "MMCP_Map"
   ]
  },
  {
   "cell_type": "markdown",
   "metadata": {},
   "source": [
    "### Save map to ```.html```\n",
    "\n",
    "Finally."
   ]
  },
  {
   "cell_type": "code",
   "execution_count": 29,
   "metadata": {},
   "outputs": [],
   "source": [
    "MMCP_Map.save(\"COVID19Ph_MM_CP.html\")"
   ]
  },
  {
   "cell_type": "markdown",
   "metadata": {},
   "source": [
    "This Jupyter Notebook has finished re-run today, at:"
   ]
  },
  {
   "cell_type": "code",
   "execution_count": 30,
   "metadata": {},
   "outputs": [
    {
     "data": {
      "text/plain": [
       "Timestamp('2020-04-02 12:18:23.122587')"
      ]
     },
     "execution_count": 30,
     "metadata": {},
     "output_type": "execute_result"
    }
   ],
   "source": [
    "pd.to_datetime('today')"
   ]
  },
  {
   "cell_type": "code",
   "execution_count": null,
   "metadata": {},
   "outputs": [],
   "source": []
  }
 ],
 "metadata": {
  "kernelspec": {
   "display_name": "Python 3",
   "language": "python",
   "name": "python3"
  },
  "language_info": {
   "codemirror_mode": {
    "name": "ipython",
    "version": 3
   },
   "file_extension": ".py",
   "mimetype": "text/x-python",
   "name": "python",
   "nbconvert_exporter": "python",
   "pygments_lexer": "ipython3",
   "version": "3.7.4"
  }
 },
 "nbformat": 4,
 "nbformat_minor": 2
}
