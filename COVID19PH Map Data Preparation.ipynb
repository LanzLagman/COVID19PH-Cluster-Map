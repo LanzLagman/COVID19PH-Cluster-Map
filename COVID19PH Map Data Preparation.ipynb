{
 "cells": [
  {
   "cell_type": "code",
   "execution_count": 1,
   "metadata": {},
   "outputs": [
    {
     "name": "stdout",
     "output_type": "stream",
     "text": [
      "Python 3.7.4\n"
     ]
    }
   ],
   "source": [
    "!python --version"
   ]
  },
  {
   "cell_type": "markdown",
   "metadata": {},
   "source": [
    "# COVID-19 Ph Geocoding for Data Preparation"
   ]
  },
  {
   "cell_type": "code",
   "execution_count": 2,
   "metadata": {},
   "outputs": [],
   "source": [
    "import numpy as np\n",
    "import pandas as pd\n",
    "pd.set_option('display.max_colwidth', -1)"
   ]
  },
  {
   "cell_type": "markdown",
   "metadata": {},
   "source": [
    "This Jupyter Notebook has started re-run today, at:"
   ]
  },
  {
   "cell_type": "code",
   "execution_count": 3,
   "metadata": {},
   "outputs": [
    {
     "data": {
      "text/plain": [
       "Timestamp('2020-03-31 20:19:21.696974')"
      ]
     },
     "execution_count": 3,
     "metadata": {},
     "output_type": "execute_result"
    }
   ],
   "source": [
    "pd.to_datetime('today')"
   ]
  },
  {
   "cell_type": "markdown",
   "metadata": {},
   "source": [
    "The [Coronavirus-ph-api](https://coronavirus-ph-api.herokuapp.com/#/) that was used here was created by [Mr. Robert Soriano](https://robsoriano.com/).\n",
    "\n",
    "Please note that the results of the codes on this notebook depend on when this notebook was re-run."
   ]
  },
  {
   "cell_type": "code",
   "execution_count": 4,
   "metadata": {},
   "outputs": [
    {
     "data": {
      "text/html": [
       "<div>\n",
       "<style scoped>\n",
       "    .dataframe tbody tr th:only-of-type {\n",
       "        vertical-align: middle;\n",
       "    }\n",
       "\n",
       "    .dataframe tbody tr th {\n",
       "        vertical-align: top;\n",
       "    }\n",
       "\n",
       "    .dataframe thead th {\n",
       "        text-align: right;\n",
       "    }\n",
       "</style>\n",
       "<table border=\"1\" class=\"dataframe\">\n",
       "  <thead>\n",
       "    <tr style=\"text-align: right;\">\n",
       "      <th></th>\n",
       "      <th>case_no</th>\n",
       "      <th>date</th>\n",
       "      <th>age</th>\n",
       "      <th>gender</th>\n",
       "      <th>nationality</th>\n",
       "      <th>hospital_admitted_to</th>\n",
       "      <th>had_recent_travel_history_abroad</th>\n",
       "      <th>status</th>\n",
       "      <th>other_information</th>\n",
       "      <th>resident_of</th>\n",
       "    </tr>\n",
       "  </thead>\n",
       "  <tbody>\n",
       "    <tr>\n",
       "      <td>0</td>\n",
       "      <td>1.0</td>\n",
       "      <td>2020-01-30</td>\n",
       "      <td>38</td>\n",
       "      <td>F</td>\n",
       "      <td>Chinese</td>\n",
       "      <td>San Lazaro Hospital</td>\n",
       "      <td>Yes</td>\n",
       "      <td>Recovered</td>\n",
       "      <td>First case of COVID-19 in PH</td>\n",
       "      <td>NaN</td>\n",
       "    </tr>\n",
       "    <tr>\n",
       "      <td>1</td>\n",
       "      <td>2.0</td>\n",
       "      <td>2020-01-30</td>\n",
       "      <td>44</td>\n",
       "      <td>M</td>\n",
       "      <td>Chinese</td>\n",
       "      <td>San Lazaro Hospital</td>\n",
       "      <td>Yes</td>\n",
       "      <td>Died</td>\n",
       "      <td>First COVID-19-related death in PH; first outside mainland China</td>\n",
       "      <td>NaN</td>\n",
       "    </tr>\n",
       "    <tr>\n",
       "      <td>2</td>\n",
       "      <td>3.0</td>\n",
       "      <td>2020-01-30</td>\n",
       "      <td>60</td>\n",
       "      <td>F</td>\n",
       "      <td>Chinese</td>\n",
       "      <td>ACE Medical Center - Bohol</td>\n",
       "      <td>Yes</td>\n",
       "      <td>Recovered</td>\n",
       "      <td>Left the Philippines to China before was reported positive</td>\n",
       "      <td>NaN</td>\n",
       "    </tr>\n",
       "    <tr>\n",
       "      <td>3</td>\n",
       "      <td>4.0</td>\n",
       "      <td>2020-03-05</td>\n",
       "      <td>48</td>\n",
       "      <td>M</td>\n",
       "      <td>Filipino</td>\n",
       "      <td>University of the East Ramon Magsaysay Memorial Medical Center</td>\n",
       "      <td>Yes</td>\n",
       "      <td>Recovered</td>\n",
       "      <td>First case involving a Filipino in the Philippines; employee of Deloitte PH in BGC</td>\n",
       "      <td>NaN</td>\n",
       "    </tr>\n",
       "    <tr>\n",
       "      <td>4</td>\n",
       "      <td>5.0</td>\n",
       "      <td>2020-03-05</td>\n",
       "      <td>62</td>\n",
       "      <td>M</td>\n",
       "      <td>Filipino</td>\n",
       "      <td>Research Institute for Tropical Medicine (Muntinlupa)</td>\n",
       "      <td>No</td>\n",
       "      <td>Died</td>\n",
       "      <td>Resident of Cainta; frequented Greenhills Mall and a prayer room in San Juan</td>\n",
       "      <td>NaN</td>\n",
       "    </tr>\n",
       "    <tr>\n",
       "      <td>...</td>\n",
       "      <td>...</td>\n",
       "      <td>...</td>\n",
       "      <td>...</td>\n",
       "      <td>...</td>\n",
       "      <td>...</td>\n",
       "      <td>...</td>\n",
       "      <td>...</td>\n",
       "      <td>...</td>\n",
       "      <td>...</td>\n",
       "      <td>...</td>\n",
       "    </tr>\n",
       "    <tr>\n",
       "      <td>2079</td>\n",
       "      <td>2080.0</td>\n",
       "      <td>TBA</td>\n",
       "      <td>TBA</td>\n",
       "      <td>TBA</td>\n",
       "      <td>TBA</td>\n",
       "      <td>TBA</td>\n",
       "      <td>TBA</td>\n",
       "      <td>TBA</td>\n",
       "      <td>TBA</td>\n",
       "      <td>TBA</td>\n",
       "    </tr>\n",
       "    <tr>\n",
       "      <td>2080</td>\n",
       "      <td>2081.0</td>\n",
       "      <td>TBA</td>\n",
       "      <td>TBA</td>\n",
       "      <td>TBA</td>\n",
       "      <td>TBA</td>\n",
       "      <td>TBA</td>\n",
       "      <td>TBA</td>\n",
       "      <td>TBA</td>\n",
       "      <td>TBA</td>\n",
       "      <td>TBA</td>\n",
       "    </tr>\n",
       "    <tr>\n",
       "      <td>2081</td>\n",
       "      <td>2082.0</td>\n",
       "      <td>TBA</td>\n",
       "      <td>TBA</td>\n",
       "      <td>TBA</td>\n",
       "      <td>TBA</td>\n",
       "      <td>TBA</td>\n",
       "      <td>TBA</td>\n",
       "      <td>TBA</td>\n",
       "      <td>TBA</td>\n",
       "      <td>TBA</td>\n",
       "    </tr>\n",
       "    <tr>\n",
       "      <td>2082</td>\n",
       "      <td>2083.0</td>\n",
       "      <td>TBA</td>\n",
       "      <td>TBA</td>\n",
       "      <td>TBA</td>\n",
       "      <td>TBA</td>\n",
       "      <td>TBA</td>\n",
       "      <td>TBA</td>\n",
       "      <td>TBA</td>\n",
       "      <td>TBA</td>\n",
       "      <td>TBA</td>\n",
       "    </tr>\n",
       "    <tr>\n",
       "      <td>2083</td>\n",
       "      <td>2084.0</td>\n",
       "      <td>TBA</td>\n",
       "      <td>TBA</td>\n",
       "      <td>TBA</td>\n",
       "      <td>TBA</td>\n",
       "      <td>TBA</td>\n",
       "      <td>TBA</td>\n",
       "      <td>TBA</td>\n",
       "      <td>TBA</td>\n",
       "      <td>TBA</td>\n",
       "    </tr>\n",
       "  </tbody>\n",
       "</table>\n",
       "<p>2084 rows × 10 columns</p>\n",
       "</div>"
      ],
      "text/plain": [
       "      case_no        date  age gender nationality  \\\n",
       "0     1.0      2020-01-30  38   F      Chinese      \n",
       "1     2.0      2020-01-30  44   M      Chinese      \n",
       "2     3.0      2020-01-30  60   F      Chinese      \n",
       "3     4.0      2020-03-05  48   M      Filipino     \n",
       "4     5.0      2020-03-05  62   M      Filipino     \n",
       "...   ...             ...  ..  ..           ...     \n",
       "2079  2080.0   TBA         TBA  TBA    TBA          \n",
       "2080  2081.0   TBA         TBA  TBA    TBA          \n",
       "2081  2082.0   TBA         TBA  TBA    TBA          \n",
       "2082  2083.0   TBA         TBA  TBA    TBA          \n",
       "2083  2084.0   TBA         TBA  TBA    TBA          \n",
       "\n",
       "                                                hospital_admitted_to  \\\n",
       "0     San Lazaro Hospital                                              \n",
       "1     San Lazaro Hospital                                              \n",
       "2     ACE Medical Center - Bohol                                       \n",
       "3     University of the East Ramon Magsaysay Memorial Medical Center   \n",
       "4     Research Institute for Tropical Medicine (Muntinlupa)            \n",
       "...                                                     ...            \n",
       "2079  TBA                                                              \n",
       "2080  TBA                                                              \n",
       "2081  TBA                                                              \n",
       "2082  TBA                                                              \n",
       "2083  TBA                                                              \n",
       "\n",
       "     had_recent_travel_history_abroad     status  \\\n",
       "0     Yes                              Recovered   \n",
       "1     Yes                              Died        \n",
       "2     Yes                              Recovered   \n",
       "3     Yes                              Recovered   \n",
       "4     No                               Died        \n",
       "...   ..                                ...        \n",
       "2079  TBA                              TBA         \n",
       "2080  TBA                              TBA         \n",
       "2081  TBA                              TBA         \n",
       "2082  TBA                              TBA         \n",
       "2083  TBA                              TBA         \n",
       "\n",
       "                                                                       other_information  \\\n",
       "0     First case of COVID-19 in PH                                                         \n",
       "1     First COVID-19-related death in PH; first outside mainland China                     \n",
       "2     Left the Philippines to China before was reported positive                           \n",
       "3     First case involving a Filipino in the Philippines; employee of Deloitte PH in BGC   \n",
       "4     Resident of Cainta; frequented Greenhills Mall and a prayer room in San Juan         \n",
       "...                                                                            ...         \n",
       "2079  TBA                                                                                  \n",
       "2080  TBA                                                                                  \n",
       "2081  TBA                                                                                  \n",
       "2082  TBA                                                                                  \n",
       "2083  TBA                                                                                  \n",
       "\n",
       "     resident_of  \n",
       "0     NaN         \n",
       "1     NaN         \n",
       "2     NaN         \n",
       "3     NaN         \n",
       "4     NaN         \n",
       "...   ...         \n",
       "2079  TBA         \n",
       "2080  TBA         \n",
       "2081  TBA         \n",
       "2082  TBA         \n",
       "2083  TBA         \n",
       "\n",
       "[2084 rows x 10 columns]"
      ]
     },
     "execution_count": 4,
     "metadata": {},
     "output_type": "execute_result"
    }
   ],
   "source": [
    "df = pd.read_json(\"https://coronavirus-ph-api.herokuapp.com/cases\")\n",
    "df"
   ]
  },
  {
   "cell_type": "markdown",
   "metadata": {},
   "source": [
    "Preferrably, ```case_no``` could be set as the index but sometimes ```case_no``` contains ```NaN``` values. To solve this:"
   ]
  },
  {
   "cell_type": "code",
   "execution_count": 5,
   "metadata": {},
   "outputs": [],
   "source": [
    "df = pd.DataFrame(df.drop(['case_no'], axis =1))"
   ]
  },
  {
   "cell_type": "code",
   "execution_count": 6,
   "metadata": {},
   "outputs": [],
   "source": [
    "df.index += 1\n",
    "df.index.names = ['case_no']"
   ]
  },
  {
   "cell_type": "code",
   "execution_count": 7,
   "metadata": {
    "scrolled": true
   },
   "outputs": [
    {
     "data": {
      "text/plain": [
       "Index(['date', 'age', 'gender', 'nationality', 'hospital_admitted_to',\n",
       "       'had_recent_travel_history_abroad', 'status', 'other_information',\n",
       "       'resident_of'],\n",
       "      dtype='object')"
      ]
     },
     "execution_count": 7,
     "metadata": {},
     "output_type": "execute_result"
    }
   ],
   "source": [
    "df.columns"
   ]
  },
  {
   "cell_type": "markdown",
   "metadata": {},
   "source": [
    "# Before we begin..."
   ]
  },
  {
   "cell_type": "markdown",
   "metadata": {},
   "source": [
    "Save this df then use it."
   ]
  },
  {
   "cell_type": "code",
   "execution_count": 8,
   "metadata": {},
   "outputs": [
    {
     "data": {
      "text/plain": [
       "'31-03-2020_20h19m25s'"
      ]
     },
     "execution_count": 8,
     "metadata": {},
     "output_type": "execute_result"
    }
   ],
   "source": [
    "today_stamp = pd.to_datetime('today').strftime('%d-%m-%Y_%Hh%Mm%Ss')\n",
    "today_stamp"
   ]
  },
  {
   "cell_type": "code",
   "execution_count": 9,
   "metadata": {},
   "outputs": [
    {
     "data": {
      "text/html": [
       "<div>\n",
       "<style scoped>\n",
       "    .dataframe tbody tr th:only-of-type {\n",
       "        vertical-align: middle;\n",
       "    }\n",
       "\n",
       "    .dataframe tbody tr th {\n",
       "        vertical-align: top;\n",
       "    }\n",
       "\n",
       "    .dataframe thead th {\n",
       "        text-align: right;\n",
       "    }\n",
       "</style>\n",
       "<table border=\"1\" class=\"dataframe\">\n",
       "  <thead>\n",
       "    <tr style=\"text-align: right;\">\n",
       "      <th></th>\n",
       "      <th>date</th>\n",
       "      <th>age</th>\n",
       "      <th>gender</th>\n",
       "      <th>nationality</th>\n",
       "      <th>hospital_admitted_to</th>\n",
       "      <th>had_recent_travel_history_abroad</th>\n",
       "      <th>status</th>\n",
       "      <th>other_information</th>\n",
       "      <th>resident_of</th>\n",
       "    </tr>\n",
       "    <tr>\n",
       "      <th>case_no</th>\n",
       "      <th></th>\n",
       "      <th></th>\n",
       "      <th></th>\n",
       "      <th></th>\n",
       "      <th></th>\n",
       "      <th></th>\n",
       "      <th></th>\n",
       "      <th></th>\n",
       "      <th></th>\n",
       "    </tr>\n",
       "  </thead>\n",
       "  <tbody>\n",
       "    <tr>\n",
       "      <td>1</td>\n",
       "      <td>2020-01-30</td>\n",
       "      <td>38</td>\n",
       "      <td>F</td>\n",
       "      <td>Chinese</td>\n",
       "      <td>San Lazaro Hospital</td>\n",
       "      <td>Yes</td>\n",
       "      <td>Recovered</td>\n",
       "      <td>First case of COVID-19 in PH</td>\n",
       "      <td>NaN</td>\n",
       "    </tr>\n",
       "    <tr>\n",
       "      <td>2</td>\n",
       "      <td>2020-01-30</td>\n",
       "      <td>44</td>\n",
       "      <td>M</td>\n",
       "      <td>Chinese</td>\n",
       "      <td>San Lazaro Hospital</td>\n",
       "      <td>Yes</td>\n",
       "      <td>Died</td>\n",
       "      <td>First COVID-19-related death in PH; first outside mainland China</td>\n",
       "      <td>NaN</td>\n",
       "    </tr>\n",
       "    <tr>\n",
       "      <td>3</td>\n",
       "      <td>2020-01-30</td>\n",
       "      <td>60</td>\n",
       "      <td>F</td>\n",
       "      <td>Chinese</td>\n",
       "      <td>ACE Medical Center - Bohol</td>\n",
       "      <td>Yes</td>\n",
       "      <td>Recovered</td>\n",
       "      <td>Left the Philippines to China before was reported positive</td>\n",
       "      <td>NaN</td>\n",
       "    </tr>\n",
       "    <tr>\n",
       "      <td>4</td>\n",
       "      <td>2020-03-05</td>\n",
       "      <td>48</td>\n",
       "      <td>M</td>\n",
       "      <td>Filipino</td>\n",
       "      <td>University of the East Ramon Magsaysay Memorial Medical Center</td>\n",
       "      <td>Yes</td>\n",
       "      <td>Recovered</td>\n",
       "      <td>First case involving a Filipino in the Philippines; employee of Deloitte PH in BGC</td>\n",
       "      <td>NaN</td>\n",
       "    </tr>\n",
       "    <tr>\n",
       "      <td>5</td>\n",
       "      <td>2020-03-05</td>\n",
       "      <td>62</td>\n",
       "      <td>M</td>\n",
       "      <td>Filipino</td>\n",
       "      <td>Research Institute for Tropical Medicine (Muntinlupa)</td>\n",
       "      <td>No</td>\n",
       "      <td>Died</td>\n",
       "      <td>Resident of Cainta; frequented Greenhills Mall and a prayer room in San Juan</td>\n",
       "      <td>NaN</td>\n",
       "    </tr>\n",
       "    <tr>\n",
       "      <td>...</td>\n",
       "      <td>...</td>\n",
       "      <td>...</td>\n",
       "      <td>...</td>\n",
       "      <td>...</td>\n",
       "      <td>...</td>\n",
       "      <td>...</td>\n",
       "      <td>...</td>\n",
       "      <td>...</td>\n",
       "      <td>...</td>\n",
       "    </tr>\n",
       "    <tr>\n",
       "      <td>2080</td>\n",
       "      <td>TBA</td>\n",
       "      <td>TBA</td>\n",
       "      <td>TBA</td>\n",
       "      <td>TBA</td>\n",
       "      <td>TBA</td>\n",
       "      <td>TBA</td>\n",
       "      <td>TBA</td>\n",
       "      <td>TBA</td>\n",
       "      <td>TBA</td>\n",
       "    </tr>\n",
       "    <tr>\n",
       "      <td>2081</td>\n",
       "      <td>TBA</td>\n",
       "      <td>TBA</td>\n",
       "      <td>TBA</td>\n",
       "      <td>TBA</td>\n",
       "      <td>TBA</td>\n",
       "      <td>TBA</td>\n",
       "      <td>TBA</td>\n",
       "      <td>TBA</td>\n",
       "      <td>TBA</td>\n",
       "    </tr>\n",
       "    <tr>\n",
       "      <td>2082</td>\n",
       "      <td>TBA</td>\n",
       "      <td>TBA</td>\n",
       "      <td>TBA</td>\n",
       "      <td>TBA</td>\n",
       "      <td>TBA</td>\n",
       "      <td>TBA</td>\n",
       "      <td>TBA</td>\n",
       "      <td>TBA</td>\n",
       "      <td>TBA</td>\n",
       "    </tr>\n",
       "    <tr>\n",
       "      <td>2083</td>\n",
       "      <td>TBA</td>\n",
       "      <td>TBA</td>\n",
       "      <td>TBA</td>\n",
       "      <td>TBA</td>\n",
       "      <td>TBA</td>\n",
       "      <td>TBA</td>\n",
       "      <td>TBA</td>\n",
       "      <td>TBA</td>\n",
       "      <td>TBA</td>\n",
       "    </tr>\n",
       "    <tr>\n",
       "      <td>2084</td>\n",
       "      <td>TBA</td>\n",
       "      <td>TBA</td>\n",
       "      <td>TBA</td>\n",
       "      <td>TBA</td>\n",
       "      <td>TBA</td>\n",
       "      <td>TBA</td>\n",
       "      <td>TBA</td>\n",
       "      <td>TBA</td>\n",
       "      <td>TBA</td>\n",
       "    </tr>\n",
       "  </tbody>\n",
       "</table>\n",
       "<p>2084 rows × 9 columns</p>\n",
       "</div>"
      ],
      "text/plain": [
       "               date  age gender nationality  \\\n",
       "case_no                                       \n",
       "1        2020-01-30  38   F      Chinese      \n",
       "2        2020-01-30  44   M      Chinese      \n",
       "3        2020-01-30  60   F      Chinese      \n",
       "4        2020-03-05  48   M      Filipino     \n",
       "5        2020-03-05  62   M      Filipino     \n",
       "...             ...  ..  ..           ...     \n",
       "2080     TBA         TBA  TBA    TBA          \n",
       "2081     TBA         TBA  TBA    TBA          \n",
       "2082     TBA         TBA  TBA    TBA          \n",
       "2083     TBA         TBA  TBA    TBA          \n",
       "2084     TBA         TBA  TBA    TBA          \n",
       "\n",
       "                                                   hospital_admitted_to  \\\n",
       "case_no                                                                   \n",
       "1        San Lazaro Hospital                                              \n",
       "2        San Lazaro Hospital                                              \n",
       "3        ACE Medical Center - Bohol                                       \n",
       "4        University of the East Ramon Magsaysay Memorial Medical Center   \n",
       "5        Research Institute for Tropical Medicine (Muntinlupa)            \n",
       "...                                                                 ...   \n",
       "2080     TBA                                                              \n",
       "2081     TBA                                                              \n",
       "2082     TBA                                                              \n",
       "2083     TBA                                                              \n",
       "2084     TBA                                                              \n",
       "\n",
       "        had_recent_travel_history_abroad     status  \\\n",
       "case_no                                               \n",
       "1        Yes                              Recovered   \n",
       "2        Yes                              Died        \n",
       "3        Yes                              Recovered   \n",
       "4        Yes                              Recovered   \n",
       "5        No                               Died        \n",
       "...      ...                                    ...   \n",
       "2080     TBA                              TBA         \n",
       "2081     TBA                              TBA         \n",
       "2082     TBA                              TBA         \n",
       "2083     TBA                              TBA         \n",
       "2084     TBA                              TBA         \n",
       "\n",
       "                                                                          other_information  \\\n",
       "case_no                                                                                       \n",
       "1        First case of COVID-19 in PH                                                         \n",
       "2        First COVID-19-related death in PH; first outside mainland China                     \n",
       "3        Left the Philippines to China before was reported positive                           \n",
       "4        First case involving a Filipino in the Philippines; employee of Deloitte PH in BGC   \n",
       "5        Resident of Cainta; frequented Greenhills Mall and a prayer room in San Juan         \n",
       "...                                                                                     ...   \n",
       "2080     TBA                                                                                  \n",
       "2081     TBA                                                                                  \n",
       "2082     TBA                                                                                  \n",
       "2083     TBA                                                                                  \n",
       "2084     TBA                                                                                  \n",
       "\n",
       "        resident_of  \n",
       "case_no              \n",
       "1        NaN         \n",
       "2        NaN         \n",
       "3        NaN         \n",
       "4        NaN         \n",
       "5        NaN         \n",
       "...      ...         \n",
       "2080     TBA         \n",
       "2081     TBA         \n",
       "2082     TBA         \n",
       "2083     TBA         \n",
       "2084     TBA         \n",
       "\n",
       "[2084 rows x 9 columns]"
      ]
     },
     "execution_count": 9,
     "metadata": {},
     "output_type": "execute_result"
    }
   ],
   "source": [
    "df.to_csv('COVID19PHforMapping_{0}.csv'.format(today_stamp), index_label='case_no')\n",
    "df = pd.read_csv('COVID19PHforMapping_{0}.csv'.format(today_stamp), index_col='case_no')\n",
    "df"
   ]
  },
  {
   "cell_type": "markdown",
   "metadata": {},
   "source": [
    "Remove rows with ALL column values as ```TBA```."
   ]
  },
  {
   "cell_type": "code",
   "execution_count": 10,
   "metadata": {},
   "outputs": [
    {
     "data": {
      "text/plain": [
       "Index(['date', 'age', 'gender', 'nationality', 'hospital_admitted_to',\n",
       "       'had_recent_travel_history_abroad', 'status', 'other_information'],\n",
       "      dtype='object')"
      ]
     },
     "execution_count": 10,
     "metadata": {},
     "output_type": "execute_result"
    }
   ],
   "source": [
    "df.columns[0:-1]"
   ]
  },
  {
   "cell_type": "code",
   "execution_count": 11,
   "metadata": {},
   "outputs": [],
   "source": [
    "df = pd.DataFrame(df.drop(df[(df[df.columns[0:-1]] == 'TBA').all(axis=1)].index))"
   ]
  },
  {
   "cell_type": "code",
   "execution_count": 12,
   "metadata": {},
   "outputs": [
    {
     "data": {
      "text/plain": [
       "1075"
      ]
     },
     "execution_count": 12,
     "metadata": {},
     "output_type": "execute_result"
    }
   ],
   "source": [
    "len(df)"
   ]
  },
  {
   "cell_type": "markdown",
   "metadata": {},
   "source": [
    "### Some data exploration."
   ]
  },
  {
   "cell_type": "code",
   "execution_count": 13,
   "metadata": {},
   "outputs": [
    {
     "data": {
      "text/plain": [
       "Admitted     962\n",
       "Died         71 \n",
       "Recovered    42 \n",
       "Name: status, dtype: int64"
      ]
     },
     "execution_count": 13,
     "metadata": {},
     "output_type": "execute_result"
    }
   ],
   "source": [
    "df['status'].value_counts()"
   ]
  },
  {
   "cell_type": "code",
   "execution_count": 14,
   "metadata": {},
   "outputs": [
    {
     "data": {
      "text/plain": [
       "For Validation    541\n",
       "Filipino          520\n",
       "Chinese           4  \n",
       "American          2  \n",
       "Thai              2  \n",
       "Indian            2  \n",
       "Australian        1  \n",
       "Taiwanese         1  \n",
       "Japanese          1  \n",
       "Indonesian        1  \n",
       "Name: nationality, dtype: int64"
      ]
     },
     "execution_count": 14,
     "metadata": {},
     "output_type": "execute_result"
    }
   ],
   "source": [
    "df['nationality'].value_counts()"
   ]
  },
  {
   "cell_type": "code",
   "execution_count": 15,
   "metadata": {},
   "outputs": [
    {
     "data": {
      "text/plain": [
       "(For Validation at DOH Epidemiology Bureau)          323\n",
       "St. Luke's Medical Center - Global City              72 \n",
       "St. Luke's Medical Center - Quezon City              60 \n",
       "The Medical City - Ortigas                           57 \n",
       "Cardinal Santos Medical Center                       57 \n",
       "                                                     .. \n",
       "St. Joseph Hospital and Medical Center               1  \n",
       "Lucena United Doctors Hospital                       1  \n",
       "Batangas Health Care Hospital - Jesus of Nazareth    1  \n",
       "ACE Dumaguete Doctors, Inc.                          1  \n",
       "Dagupan Doctors Villaflor Memorial Hospital          1  \n",
       "Name: hospital_admitted_to, Length: 140, dtype: int64"
      ]
     },
     "execution_count": 15,
     "metadata": {},
     "output_type": "execute_result"
    }
   ],
   "source": [
    "df['hospital_admitted_to'].value_counts()"
   ]
  },
  {
   "cell_type": "markdown",
   "metadata": {},
   "source": [
    "For our mapping purposes, we prefer only those rows without ```(For Validation at DOH Epidemiology Bureau)``` as their column value for ```df['hospital_admitted_to']```."
   ]
  },
  {
   "cell_type": "code",
   "execution_count": 16,
   "metadata": {},
   "outputs": [],
   "source": [
    "df = df.loc[df['hospital_admitted_to'] != '(For Validation at DOH Epidemiology Bureau)']"
   ]
  },
  {
   "cell_type": "code",
   "execution_count": 17,
   "metadata": {},
   "outputs": [
    {
     "data": {
      "text/plain": [
       "752"
      ]
     },
     "execution_count": 17,
     "metadata": {},
     "output_type": "execute_result"
    }
   ],
   "source": [
    "len(df)"
   ]
  },
  {
   "cell_type": "markdown",
   "metadata": {},
   "source": [
    "# Part I: Regex and Geocoding"
   ]
  },
  {
   "cell_type": "markdown",
   "metadata": {},
   "source": [
    "Remove words that start with small letters, then retain those words at the right side of \";\"; then finally remove \" \" at the front/left side of the strings.\n",
    "\n",
    "reference:\n",
    "\n",
    "https://stackoverflow.com/questions/56845457/how-to-remove-words-starting-with-lowercase-from-a-sentence-using-regex\n",
    "\n",
    "https://www.datacamp.com/community/tutorials/python-regular-expression-tutorial\n"
   ]
  },
  {
   "cell_type": "code",
   "execution_count": 18,
   "metadata": {},
   "outputs": [
    {
     "data": {
      "text/plain": [
       "case_no\n",
       "1      San Lazaro Hospital                                    \n",
       "2      San Lazaro Hospital                                    \n",
       "3      ACE Medical Center - Bohol                             \n",
       "4      University East Ramon Magsaysay Memorial Medical Center\n",
       "5      Research Institute Tropical Medicine (Muntinlupa)      \n",
       "                             ...                              \n",
       "837    Cagayan Valley Medical Center                          \n",
       "838    Cagayan Valley Medical Center                          \n",
       "866    Chinese General Hospital Medical Center                \n",
       "935    St. Luke's Medical Center - Global City                \n",
       "988    New Era General Hospital                               \n",
       "Name: hospital, Length: 752, dtype: object"
      ]
     },
     "execution_count": 18,
     "metadata": {},
     "output_type": "execute_result"
    }
   ],
   "source": [
    "import re\n",
    "\n",
    "df['hospital'] = df['hospital_admitted_to'].apply(lambda x: re.sub(r\"\\b[a-z]+[\\w'.]\\s*\", \"\", str(x)).split(';', 1)[-1]).str.lstrip()\n",
    "df['hospital']"
   ]
  },
  {
   "cell_type": "markdown",
   "metadata": {},
   "source": [
    "Remove ```', Inc.'```\n",
    "\n",
    "Reference:\n",
    "\n",
    "https://stackoverflow.com/questions/55533962/removing-specific-word-in-a-string-in-pandas"
   ]
  },
  {
   "cell_type": "code",
   "execution_count": 19,
   "metadata": {},
   "outputs": [],
   "source": [
    "df['hospital'] = df['hospital'].apply(lambda x: ' '.join(w for w in x.split() if not w in set(['Inc.']))).str.rstrip(',')"
   ]
  },
  {
   "cell_type": "markdown",
   "metadata": {},
   "source": [
    "How many 'hospitals are there?"
   ]
  },
  {
   "cell_type": "code",
   "execution_count": 20,
   "metadata": {},
   "outputs": [
    {
     "data": {
      "text/plain": [
       "139"
      ]
     },
     "execution_count": 20,
     "metadata": {},
     "output_type": "execute_result"
    }
   ],
   "source": [
    "hosp_names = df['hospital'].unique()\n",
    "len(hosp_names)"
   ]
  },
  {
   "cell_type": "markdown",
   "metadata": {},
   "source": [
    "### Geocoding\n",
    "\n",
    "reference:\n",
    "    \n",
    "https://towardsdatascience.com/geocode-with-python-161ec1e62b89"
   ]
  },
  {
   "cell_type": "code",
   "execution_count": 21,
   "metadata": {},
   "outputs": [
    {
     "data": {
      "text/plain": [
       "St. Luke's Medical Center - Global City        72\n",
       "St. Luke's Medical Center - Quezon City        60\n",
       "Cardinal Santos Medical Center                 57\n",
       "The Medical City - Ortigas                     57\n",
       "Makati Medical Center                          48\n",
       "                                               ..\n",
       "Gentri Medical Center Hospital                 1 \n",
       "Amang Rodriguez Memorial Medical Center        1 \n",
       "Lucena United Doctors Hospital                 1 \n",
       "Metro North Medical Center Hospital            1 \n",
       "Dagupan Doctors Villaflor Memorial Hospital    1 \n",
       "Name: hospital, Length: 139, dtype: int64"
      ]
     },
     "execution_count": 21,
     "metadata": {},
     "output_type": "execute_result"
    }
   ],
   "source": [
    "df['hospital'].value_counts()"
   ]
  },
  {
   "cell_type": "code",
   "execution_count": 22,
   "metadata": {},
   "outputs": [],
   "source": [
    "import ssl\n",
    "import certifi\n",
    "import geopy.geocoders\n",
    "ctx = ssl.create_default_context(cafile=certifi.where())\n",
    "geopy.geocoders.options.default_ssl_context = ctx\n",
    "\n",
    "from geopy.geocoders import Nominatim\n",
    "from geopy.extra.rate_limiter import RateLimiter\n",
    "\n",
    "locator = Nominatim(user_agent=\"myGeocoder\")\n",
    "geocode = RateLimiter(locator.geocode, min_delay_seconds=1)"
   ]
  },
  {
   "cell_type": "markdown",
   "metadata": {},
   "source": [
    "### In case ```GeocoderTimedOut``` occurs:\n",
    "\n",
    "reference:\n",
    "\n",
    "https://gis.stackexchange.com/questions/173569/avoid-time-out-error-nominatim-geopy-open-street-maps"
   ]
  },
  {
   "cell_type": "code",
   "execution_count": 23,
   "metadata": {},
   "outputs": [],
   "source": [
    "from geopy.exc import GeocoderTimedOut\n",
    "\n",
    "def do_geocode(address):\n",
    "    try:\n",
    "        return locator.geocode(address)\n",
    "    except GeocoderTimedOut:\n",
    "        return do_geocode(address)"
   ]
  },
  {
   "cell_type": "markdown",
   "metadata": {},
   "source": [
    "Apply ```do_geocode``` to unique values. Definitely saves a lot of time!:\n",
    "\n",
    "Reference:\n",
    "\n",
    "https://stackoverflow.com/questions/31414481/new-column-with-coordinates-using-geopy-pandas"
   ]
  },
  {
   "cell_type": "code",
   "execution_count": 24,
   "metadata": {},
   "outputs": [
    {
     "name": "stdout",
     "output_type": "stream",
     "text": [
      "Wall time: 2min 21s\n"
     ]
    }
   ],
   "source": [
    "%%time\n",
    "\n",
    "hosp_locs = pd.Series(hosp_names).apply(do_geocode)\n",
    "\n",
    "geodict_lat = dict(zip(hosp_names, hosp_locs.apply(lambda x: x.latitude if(np.all(pd.notnull(x))) else x)))\n",
    "geodict_long = dict(zip(hosp_names, hosp_locs.apply(lambda x: x.longitude if(np.all(pd.notnull(x))) else x)))"
   ]
  },
  {
   "cell_type": "code",
   "execution_count": 25,
   "metadata": {},
   "outputs": [],
   "source": [
    "df['hosp_lat'] = df['hospital'].map(geodict_lat)"
   ]
  },
  {
   "cell_type": "code",
   "execution_count": 26,
   "metadata": {},
   "outputs": [],
   "source": [
    "df['hosp_long'] = df['hospital'].map(geodict_long)"
   ]
  },
  {
   "cell_type": "markdown",
   "metadata": {},
   "source": [
    "What hospitals were not successfully geocoded?"
   ]
  },
  {
   "cell_type": "code",
   "execution_count": 27,
   "metadata": {},
   "outputs": [
    {
     "data": {
      "text/plain": [
       "University East Ramon Magsaysay Memorial Medical Center     19\n",
       "Our Lady Lourdes Hospital                                   7 \n",
       "Dr. Paulino J. Garcia Memorial Research Medical Hospital    4 \n",
       "DOH Epidemiology Bureau                                     4 \n",
       "Dr. Jose N. Rodriguez Memorial Hospital Sanitarium          3 \n",
       "Perpetual Health Medical Center - Biñan                     2 \n",
       "City General Trias Doctors Medical Center                   2 \n",
       "Quezon City Health Department (Reporting Facility)          2 \n",
       "Dr. Pablo O. Torre Memorial Hospital                        2 \n",
       "Makati Health Department                                    2 \n",
       "Southern Isabela Medical Center                             1 \n",
       "Gerona Hospital Sacred Heart                                1 \n",
       "St. Joseph Hospital Medical Center                          1 \n",
       "Ramon Magsaysay Memorial Hospital                           1 \n",
       "Our Lady Mt. Carmel Medical Center                          1 \n",
       "Hospital Infant Jesus Medical Center                        1 \n",
       "Uhbi-Parañaque Doctors Hospital                             1 \n",
       "Lucena United Doctors Hospital                              1 \n",
       "Our Lady Pillar Medical Center                              1 \n",
       "Qualimed - Sta. Rosa Hospital                               1 \n",
       "RHS 4A Camp Vicente Lim                                     1 \n",
       "Uni-Health Southwoods Hospital Medical Center               1 \n",
       "Batangas Health Care Hospital - Jesus Nazareth              1 \n",
       "Golden Gate Batangas Hospital                               1 \n",
       "Sacred Heart Hospital Malolos                               1 \n",
       "Name: hospital, dtype: int64"
      ]
     },
     "execution_count": 27,
     "metadata": {},
     "output_type": "execute_result"
    }
   ],
   "source": [
    "df['hospital'][np.isnan(df['hosp_lat']) & np.isnan(df['hosp_long'])].value_counts()"
   ]
  },
  {
   "cell_type": "markdown",
   "metadata": {},
   "source": [
    "# Part II: Manual Data Cleaning"
   ]
  },
  {
   "cell_type": "markdown",
   "metadata": {},
   "source": [
    "#### ```San Juan City Epidemiology Surveillance Unit```"
   ]
  },
  {
   "cell_type": "markdown",
   "metadata": {},
   "source": [
    "Try:"
   ]
  },
  {
   "cell_type": "code",
   "execution_count": 28,
   "metadata": {},
   "outputs": [
    {
     "data": {
      "text/plain": [
       "Location(San Juan City Health Office Ⅰ, F. Sevilla, Pipeline, Pedro Cruz, San Juan, 1st District, San Juan, Metro Manila, 1500, Philippines, (14.603709550000001, 121.0271937340311, 0.0))"
      ]
     },
     "execution_count": 28,
     "metadata": {},
     "output_type": "execute_result"
    }
   ],
   "source": [
    "do_geocode('San Juan City Health Office')"
   ]
  },
  {
   "cell_type": "markdown",
   "metadata": {},
   "source": [
    "Then replace:"
   ]
  },
  {
   "cell_type": "code",
   "execution_count": 29,
   "metadata": {},
   "outputs": [],
   "source": [
    "df['hospital'].replace('San Juan City Epidemiology Surveillance Unit', \n",
    "                       value='San Juan City Health Office', inplace=True)"
   ]
  },
  {
   "cell_type": "markdown",
   "metadata": {},
   "source": [
    "Rinse and repeat."
   ]
  },
  {
   "cell_type": "markdown",
   "metadata": {},
   "source": [
    "#### ```Our Lady Lourdes Hospital```      "
   ]
  },
  {
   "cell_type": "code",
   "execution_count": 30,
   "metadata": {},
   "outputs": [
    {
     "data": {
      "text/plain": [
       "Location(Our Lady Of Lourdes Hospital, Vinzons Avenue, Barangay IV, Daet, Camarines Norte, Bicol, 4600, Philippines, (14.121015700000001, 122.9470513, 0.0))"
      ]
     },
     "execution_count": 30,
     "metadata": {},
     "output_type": "execute_result"
    }
   ],
   "source": [
    "do_geocode('Our Lady of Lourdes Hospital')"
   ]
  },
  {
   "cell_type": "code",
   "execution_count": 31,
   "metadata": {},
   "outputs": [],
   "source": [
    "df['hospital'].replace('Our Lady Lourdes Hospital', \n",
    "                       value='Our Lady of Lourdes Hospital', inplace=True)"
   ]
  },
  {
   "cell_type": "markdown",
   "metadata": {},
   "source": [
    "#### ```Makati Health Department```"
   ]
  },
  {
   "cell_type": "markdown",
   "metadata": {},
   "source": [
    "Consider: Health Department Division Chiefs Office - City Government of Makati"
   ]
  },
  {
   "cell_type": "code",
   "execution_count": 32,
   "metadata": {},
   "outputs": [
    {
     "data": {
      "text/plain": [
       "Location(Makati, Makati 1st District, Makati, Metro Manila, 1226, Philippines, (14.5568853, 121.023532, 0.0))"
      ]
     },
     "execution_count": 32,
     "metadata": {},
     "output_type": "execute_result"
    }
   ],
   "source": [
    "do_geocode('Makati City Hall')"
   ]
  },
  {
   "cell_type": "code",
   "execution_count": 33,
   "metadata": {},
   "outputs": [],
   "source": [
    "df['hospital'].replace('Makati Health Department', \n",
    "                       value='Makati City Hall', inplace=True)"
   ]
  },
  {
   "cell_type": "markdown",
   "metadata": {},
   "source": [
    "#### ```University East Ramon Magsaysay Memorial Medical Center, Inc.``` and other iterations"
   ]
  },
  {
   "cell_type": "code",
   "execution_count": 34,
   "metadata": {},
   "outputs": [
    {
     "data": {
      "text/plain": [
       "Location(University of the East - Ramon Magsaysay Memorial Medical Center, Aurora Boulevard, Pipeline, Doña Imelda, Galas, 4th District, Quezon City, Metro Manila, 1016, Philippines, (14.6066064, 121.02067860955255, 0.0))"
      ]
     },
     "execution_count": 34,
     "metadata": {},
     "output_type": "execute_result"
    }
   ],
   "source": [
    "do_geocode('University of the East Ramon Magsaysay Memorial Medical Center')"
   ]
  },
  {
   "cell_type": "code",
   "execution_count": 35,
   "metadata": {},
   "outputs": [],
   "source": [
    "df['hospital'].replace(['University The East Ramon -  Magsaysay Memorial Medical Center', \n",
    "                        'University The East Ramon Magsaysay Memorial Medical Center',\n",
    "                        'University East Ramon Magsaysay Memorial Medical Center, Inc', \n",
    "                        'University East Ramon Magsaysay Memorial Medical Center, Inc.',\n",
    "                        'University East–Ramon Magsaysay Memorial Medical Center', \n",
    "                        'University East–Ramon Magsaysay Memorial Hospital', \n",
    "                        'University of the East Ramon - Magsaysay Memorial Medical Center', \n",
    "                        'University of The East Ramon Magsaysay Memorial Medical Center', \n",
    "                        'University East Ramon Magsaysay Memorial Medical Center', \n",
    "                        'Ramon Magsaysay Memorial Hospital'], \n",
    "                        value='University of the East Ramon Magsaysay Memorial Medical Center', inplace=True)"
   ]
  },
  {
   "cell_type": "markdown",
   "metadata": {},
   "source": [
    "#### ```UP–Philippine General Hospital```"
   ]
  },
  {
   "cell_type": "code",
   "execution_count": 36,
   "metadata": {},
   "outputs": [
    {
     "data": {
      "text/plain": [
       "Location(Philippine General Hospital, Apacible, Barangay 676, Ermita, Fifth District, Manila, Metro Manila, 1000, Philippines, (14.5780333, 120.9855392067257, 0.0))"
      ]
     },
     "execution_count": 36,
     "metadata": {},
     "output_type": "execute_result"
    }
   ],
   "source": [
    "do_geocode('Philippine General Hospital')"
   ]
  },
  {
   "cell_type": "code",
   "execution_count": 37,
   "metadata": {},
   "outputs": [],
   "source": [
    "df['hospital'].replace('UP–Philippine General Hospital', \n",
    "                       value='Philippine General Hospital', inplace=True)"
   ]
  },
  {
   "cell_type": "markdown",
   "metadata": {},
   "source": [
    "#### ```Taguig CESU```"
   ]
  },
  {
   "cell_type": "code",
   "execution_count": 38,
   "metadata": {},
   "outputs": [
    {
     "data": {
      "text/plain": [
       "Location(Taguig City Hall, Col. P. Cruz, Tuktukan, Taguig, Metro Manila, 1637, Philippines, (14.528892599999999, 121.06994669784399, 0.0))"
      ]
     },
     "execution_count": 38,
     "metadata": {},
     "output_type": "execute_result"
    }
   ],
   "source": [
    "do_geocode('Taguig City Hall')"
   ]
  },
  {
   "cell_type": "code",
   "execution_count": 39,
   "metadata": {},
   "outputs": [],
   "source": [
    "df['hospital'].replace('Taguig CESU', \n",
    "                       value='Taguig City Hall', inplace=True)"
   ]
  },
  {
   "cell_type": "markdown",
   "metadata": {},
   "source": [
    "#### ```Far Eastern University–Dr. Nicanor Reyes Medical Foundation```"
   ]
  },
  {
   "cell_type": "code",
   "execution_count": 40,
   "metadata": {},
   "outputs": [
    {
     "data": {
      "text/plain": [
       "Location(Far Eastern University - Nicanor Reyes Medical Foundation, Regalado Avenue, Fairview, 5th District, Quezon City, Metro Manila, 1121, Philippines, (14.69890385, 121.06719218653689, 0.0))"
      ]
     },
     "execution_count": 40,
     "metadata": {},
     "output_type": "execute_result"
    }
   ],
   "source": [
    "do_geocode('Far Eastern University – Nicanor Reyes Medical Foundation')"
   ]
  },
  {
   "cell_type": "code",
   "execution_count": 41,
   "metadata": {},
   "outputs": [],
   "source": [
    "df['hospital'].replace('Far Eastern University–Dr. Nicanor Reyes Medical Foundation', \n",
    "                       value='Far Eastern University – Nicanor Reyes Medical Foundation', inplace=True)"
   ]
  },
  {
   "cell_type": "markdown",
   "metadata": {},
   "source": [
    "#### ```Quezon City Health Department ()``` and other iterations"
   ]
  },
  {
   "cell_type": "code",
   "execution_count": 42,
   "metadata": {},
   "outputs": [
    {
     "data": {
      "text/plain": [
       "Location(Health Dept., Makatarungan, Central, Quezon City, 4th District, Quezon City, Metro Manila, 1100, Philippines, (14.64610395, 121.05234535, 0.0))"
      ]
     },
     "execution_count": 42,
     "metadata": {},
     "output_type": "execute_result"
    }
   ],
   "source": [
    "do_geocode('Health Dept., Quezon City')"
   ]
  },
  {
   "cell_type": "code",
   "execution_count": 43,
   "metadata": {},
   "outputs": [],
   "source": [
    "df['hospital'].replace(['Quezon City Health Department ()', \n",
    "                        'Quezon City Health Department', \n",
    "                        'Quezon City Health Department (Reporting Facility)'],\n",
    "                       value='Health Dept., Quezon City', inplace=True)"
   ]
  },
  {
   "cell_type": "markdown",
   "metadata": {},
   "source": [
    "#### ```Fe Del Mundo Medical Center ```"
   ]
  },
  {
   "cell_type": "code",
   "execution_count": 44,
   "metadata": {},
   "outputs": [
    {
     "data": {
      "text/plain": [
       "Location(Fe Del Mundo Medical Center, 11, Banawe, Doña Aurora, Galas, 4th District, Quezon City, Metro Manila, 1113, Philippines, (14.62060365, 121.0092301561046, 0.0))"
      ]
     },
     "execution_count": 44,
     "metadata": {},
     "output_type": "execute_result"
    }
   ],
   "source": [
    "do_geocode('Dr. Fe Del Mundo Medical Center')"
   ]
  },
  {
   "cell_type": "code",
   "execution_count": 45,
   "metadata": {},
   "outputs": [],
   "source": [
    "df['hospital'].replace('Fe Del Mundo Medical Center',\n",
    "                       value='Dr. Fe Del Mundo Medical Center', inplace=True)"
   ]
  },
  {
   "cell_type": "markdown",
   "metadata": {},
   "source": [
    "#### ```Dr. Pablo O. Torre Memorial Hospital```"
   ]
  },
  {
   "cell_type": "code",
   "execution_count": 46,
   "metadata": {},
   "outputs": [
    {
     "data": {
      "text/plain": [
       "Location(Riverside, B.S. Aquino Drive, Lacson Tourism Strip, Bacolod, Negros Occidental, Western Visayas, 6100, Philippines, (10.68310545, 122.95768201600865, 0.0))"
      ]
     },
     "execution_count": 46,
     "metadata": {},
     "output_type": "execute_result"
    }
   ],
   "source": [
    "do_geocode('Riverside Hospital Bacolod')"
   ]
  },
  {
   "cell_type": "code",
   "execution_count": 47,
   "metadata": {},
   "outputs": [],
   "source": [
    "df['hospital'].replace('Dr. Pablo O. Torre Memorial Hospital',\n",
    "                       value='Riverside Hospital Bacolod', inplace=True)"
   ]
  },
  {
   "cell_type": "markdown",
   "metadata": {},
   "source": [
    "#### ```Nueva Ecija Doctors Hospital, Inc.```"
   ]
  },
  {
   "cell_type": "code",
   "execution_count": 48,
   "metadata": {},
   "outputs": [
    {
     "data": {
      "text/plain": [
       "Location(Nueva Ecija Doctors Hospital, Maharlika Highway, Shell Select, Primavera Homes, San Juan Accfa, Nueva Ecija, Central Luzon, 3100, Philippines, (15.4578272, 120.94883314561189, 0.0))"
      ]
     },
     "execution_count": 48,
     "metadata": {},
     "output_type": "execute_result"
    }
   ],
   "source": [
    "do_geocode('Nueva Ecija Doctors Hospital')"
   ]
  },
  {
   "cell_type": "code",
   "execution_count": 49,
   "metadata": {},
   "outputs": [],
   "source": [
    "df['hospital'].replace('Nueva Ecija Doctors Hospital, Inc.',\n",
    "                       value='Nueva Ecija Doctors Hospital', inplace=True)"
   ]
  },
  {
   "cell_type": "markdown",
   "metadata": {},
   "source": [
    "#### ```Perpetual Health Medical Center–Biñan```"
   ]
  },
  {
   "cell_type": "code",
   "execution_count": 50,
   "metadata": {},
   "outputs": [
    {
     "data": {
      "text/plain": [
       "Location(Perpetual Help Medical Center - Biñan, National Highway, South Springville, San Antonio, Biñan, Laguna, Calabarzon, 4024, Philippines, (14.33043835, 121.08533919092724, 0.0))"
      ]
     },
     "execution_count": 50,
     "metadata": {},
     "output_type": "execute_result"
    }
   ],
   "source": [
    "do_geocode('Perpetual Help Medical Center - Biñan')"
   ]
  },
  {
   "cell_type": "code",
   "execution_count": 51,
   "metadata": {},
   "outputs": [],
   "source": [
    "df['hospital'].replace('Perpetual Health Medical Center–Biñan',\n",
    "                       value='Perpetual Help Medical Center - Biñan', inplace=True)"
   ]
  },
  {
   "cell_type": "markdown",
   "metadata": {},
   "source": [
    "#### ```City General Trias Doctors Medical Center```"
   ]
  },
  {
   "cell_type": "code",
   "execution_count": 52,
   "metadata": {},
   "outputs": [
    {
     "data": {
      "text/plain": [
       "Location(City Of General Trias Doctors Medical Center, Governor's Drive, Gentri Heghts, Manggahan, General Trias, Cavite, Calabarzon, 4107, Philippines, (14.2912185, 120.90387619553523, 0.0))"
      ]
     },
     "execution_count": 52,
     "metadata": {},
     "output_type": "execute_result"
    }
   ],
   "source": [
    "do_geocode('City of General Trias Doctors Medical Center')"
   ]
  },
  {
   "cell_type": "code",
   "execution_count": 53,
   "metadata": {},
   "outputs": [],
   "source": [
    "df['hospital'].replace('City General Trias Doctors Medical Center',\n",
    "                       value='City of General Trias Doctors Medical Center', inplace=True)"
   ]
  },
  {
   "cell_type": "markdown",
   "metadata": {},
   "source": [
    "#### ```Divine Grace Medical Center```"
   ]
  },
  {
   "cell_type": "code",
   "execution_count": 54,
   "metadata": {},
   "outputs": [
    {
     "data": {
      "text/plain": [
       "Location(Alfamart, Antero Soriano Highway, Tejero, General Trias, Cavite, Calabarzon, 4107, Philippines, (14.3973674, 120.8680362, 0.0))"
      ]
     },
     "execution_count": 54,
     "metadata": {},
     "output_type": "execute_result"
    }
   ],
   "source": [
    "do_geocode('Divine Grace Hospital')"
   ]
  },
  {
   "cell_type": "code",
   "execution_count": 55,
   "metadata": {},
   "outputs": [],
   "source": [
    "df['hospital'].replace('Divine Grace Medical Center',\n",
    "                       value='Divine Grace Hospital', inplace=True)"
   ]
  },
  {
   "cell_type": "markdown",
   "metadata": {},
   "source": [
    "#### ```New Clark City (Grand Princess)```"
   ]
  },
  {
   "cell_type": "markdown",
   "metadata": {},
   "source": [
    "reference: \n",
    "    \n",
    "https://globalnation.inquirer.net/186134/fwd-444-repatriates-from-mv-grand-princess-arrive"
   ]
  },
  {
   "cell_type": "code",
   "execution_count": 56,
   "metadata": {},
   "outputs": [
    {
     "data": {
      "text/plain": [
       "Location(Athlete's Village, Cristo Rey, Tarlac, Central Luzon, 2023, Philippines, (15.34300985, 120.533940575, 0.0))"
      ]
     },
     "execution_count": 56,
     "metadata": {},
     "output_type": "execute_result"
    }
   ],
   "source": [
    "do_geocode(\"Athlete's Village, New Clark City\")"
   ]
  },
  {
   "cell_type": "code",
   "execution_count": 57,
   "metadata": {},
   "outputs": [],
   "source": [
    "df['hospital'].replace('New Clark City (Grand Princess)',\n",
    "                       value=\"Athlete's Village, New Clark City\", inplace=True)"
   ]
  },
  {
   "cell_type": "markdown",
   "metadata": {},
   "source": [
    "#### ```DOH–Epidemiology Bureau, RESU-NCR (), Regional Epidemiology Surveillance Unit–NCR```"
   ]
  },
  {
   "cell_type": "code",
   "execution_count": 58,
   "metadata": {},
   "outputs": [
    {
     "data": {
      "text/plain": [
       "Location(Department of Health, Santa Cruz, Third District, Manila, Metro Manila, Philippines, (14.615603799999999, 120.98128128126282, 0.0))"
      ]
     },
     "execution_count": 58,
     "metadata": {},
     "output_type": "execute_result"
    }
   ],
   "source": [
    "do_geocode('Department of Health')"
   ]
  },
  {
   "cell_type": "code",
   "execution_count": 59,
   "metadata": {},
   "outputs": [],
   "source": [
    "df['hospital'].replace(['DOH–Epidemiology Bureau', 'RESU-NCR ()', 'Regional Epidemiology Surveillance Unit–NCR'],\n",
    "                       value=\"Department of Health\", inplace=True)"
   ]
  },
  {
   "cell_type": "markdown",
   "metadata": {},
   "source": [
    "#### ```ACE Medical Center Tagbilaran, Bohol```"
   ]
  },
  {
   "cell_type": "code",
   "execution_count": 60,
   "metadata": {},
   "outputs": [
    {
     "data": {
      "text/plain": [
       "Location(ACE Medical Center, Carlos P. Garcia East Avenue, Camella Homes, Sitio Ubos, Bool, Bohol, Central Visayas, 6390, Philippines, (9.6344977, 123.8692981, 0.0))"
      ]
     },
     "execution_count": 60,
     "metadata": {},
     "output_type": "execute_result"
    }
   ],
   "source": [
    "do_geocode('ACE Medical Center Bohol')"
   ]
  },
  {
   "cell_type": "code",
   "execution_count": 61,
   "metadata": {},
   "outputs": [],
   "source": [
    "df['hospital'].replace('ACE Medical Center Tagbilaran, Bohol',\n",
    "                       value=\"ACE Medical Center Bohol\", inplace=True)"
   ]
  },
  {
   "cell_type": "markdown",
   "metadata": {},
   "source": [
    "#### ```Las Piñas Doctors Hospital, Inc.```"
   ]
  },
  {
   "cell_type": "code",
   "execution_count": 62,
   "metadata": {},
   "outputs": [
    {
     "data": {
      "text/plain": [
       "Location(Las Piñas Doctors Hospital, CAA Avenue, Belisario, Pulanglupa Dos, Las Piñas, 1st District, Las Piñas, Metro Manila, 1742, Philippines, (14.455615300000002, 120.99371706729627, 0.0))"
      ]
     },
     "execution_count": 62,
     "metadata": {},
     "output_type": "execute_result"
    }
   ],
   "source": [
    "do_geocode('Las Piñas Doctors Hospital')"
   ]
  },
  {
   "cell_type": "code",
   "execution_count": 63,
   "metadata": {},
   "outputs": [],
   "source": [
    "df['hospital'].replace('Las Piñas Doctors Hospital, Inc.',\n",
    "                       value=\"Las Piñas Doctors Hospital\", inplace=True)"
   ]
  },
  {
   "cell_type": "markdown",
   "metadata": {},
   "source": [
    "#### ```San Pedro Doctors Hospital, Inc.```"
   ]
  },
  {
   "cell_type": "code",
   "execution_count": 64,
   "metadata": {},
   "outputs": [
    {
     "data": {
      "text/plain": [
       "Location(San Pedro Doctor's Hospital, National Highway, Purok 6, Landayan, San Pedro, Laguna, Calabarzon, 4023, Philippines, (14.3488642, 121.0649328, 0.0))"
      ]
     },
     "execution_count": 64,
     "metadata": {},
     "output_type": "execute_result"
    }
   ],
   "source": [
    "do_geocode('San Pedro Doctors Hospital')"
   ]
  },
  {
   "cell_type": "code",
   "execution_count": 65,
   "metadata": {},
   "outputs": [],
   "source": [
    "df['hospital'].replace('San Pedro Doctors Hospital, Inc.',\n",
    "                       value=\"San Pedro Doctors Hospital\", inplace=True)"
   ]
  },
  {
   "cell_type": "markdown",
   "metadata": {},
   "source": [
    "#### ```Batangas Health Care Hospital - Jesus Nazareth```"
   ]
  },
  {
   "cell_type": "code",
   "execution_count": 66,
   "metadata": {},
   "outputs": [
    {
     "data": {
      "text/plain": [
       "Location(Jesus of Nazareth Hospital, Dr. Ramon Road, Gulod Labac, Batangas City, Batangas, Calabarzon, 4200, Philippines, (13.7596952, 121.07689673232872, 0.0))"
      ]
     },
     "execution_count": 66,
     "metadata": {},
     "output_type": "execute_result"
    }
   ],
   "source": [
    "do_geocode('Jesus of Nazareth Hospital')"
   ]
  },
  {
   "cell_type": "code",
   "execution_count": 67,
   "metadata": {},
   "outputs": [],
   "source": [
    "df['hospital'].replace('Batangas Health Care Hospital - Jesus Nazareth',\n",
    "                       value=\"Jesus of Nazareth Hospital\", inplace=True)"
   ]
  },
  {
   "cell_type": "markdown",
   "metadata": {},
   "source": [
    "#### ```Our Lady Mt. Carmel Medical Center ```"
   ]
  },
  {
   "cell_type": "code",
   "execution_count": 68,
   "metadata": {},
   "outputs": [
    {
     "data": {
      "text/plain": [
       "Location(Our Lady of Mt. Carmel Medical Center, MacArthur Highway, Rich Town I Subdivision, Marlboro, Sindalan, Pampanga, Central Luzon, 2000, Philippines, (15.09639535, 120.62385982698073, 0.0))"
      ]
     },
     "execution_count": 68,
     "metadata": {},
     "output_type": "execute_result"
    }
   ],
   "source": [
    "do_geocode('Our Lady of Mt. Carmel Medical Center')"
   ]
  },
  {
   "cell_type": "code",
   "execution_count": 69,
   "metadata": {},
   "outputs": [],
   "source": [
    "df['hospital'].replace('Our Lady Mt. Carmel Medical Center',\n",
    "                       value=\"Our Lady of Mt. Carmel Medical Center\", inplace=True)"
   ]
  },
  {
   "cell_type": "markdown",
   "metadata": {},
   "source": [
    "#### ```Southern Isabela Medical Center```"
   ]
  },
  {
   "cell_type": "code",
   "execution_count": 70,
   "metadata": {},
   "outputs": [
    {
     "data": {
      "text/plain": [
       "Location(Southern Isabela General Hospital, Recto Street, Metro Ville Subdivision, Rosario, Isabela, Cagayan Valley, 3311, Philippines, (16.680094, 121.54669799009702, 0.0))"
      ]
     },
     "execution_count": 70,
     "metadata": {},
     "output_type": "execute_result"
    }
   ],
   "source": [
    "do_geocode('Southern Isabela General Hospital')"
   ]
  },
  {
   "cell_type": "code",
   "execution_count": 71,
   "metadata": {},
   "outputs": [],
   "source": [
    "df['hospital'].replace('Southern Isabela Medical Center',\n",
    "                       value=\"Southern Isabela General Hospital\", inplace=True)"
   ]
  },
  {
   "cell_type": "markdown",
   "metadata": {},
   "source": [
    "#### ```Golden Gate Batangas Hospital, Inc.```"
   ]
  },
  {
   "cell_type": "code",
   "execution_count": 72,
   "metadata": {},
   "outputs": [
    {
     "data": {
      "text/plain": [
       "Location(Golden Gate General Hospital, P. Prieto Street, 5, Poblacion, Batangas City, Batangas, Calabarzon, 4200, Philippines, (13.75746355, 121.06178834701583, 0.0))"
      ]
     },
     "execution_count": 72,
     "metadata": {},
     "output_type": "execute_result"
    }
   ],
   "source": [
    "do_geocode('Golden Gate General Hospital')"
   ]
  },
  {
   "cell_type": "code",
   "execution_count": 73,
   "metadata": {},
   "outputs": [],
   "source": [
    "df['hospital'].replace(['Golden Gate Batangas Hospital, Inc.', \n",
    "                        'Golden Gate Batangas Hospital'],\n",
    "                       value=\"Golden Gate General Hospital\", inplace=True)"
   ]
  },
  {
   "cell_type": "markdown",
   "metadata": {},
   "source": [
    "#### ```Hospital Infant Jesus Medical Center```"
   ]
  },
  {
   "cell_type": "code",
   "execution_count": 74,
   "metadata": {},
   "outputs": [
    {
     "data": {
      "text/plain": [
       "Location(Hospital of the Infant Jesus Medical Center, Laon Laan Street, Sampaloc, 4th District, Manila, Metro Manila, 1015, Philippines, (14.614006150000002, 120.98905680835242, 0.0))"
      ]
     },
     "execution_count": 74,
     "metadata": {},
     "output_type": "execute_result"
    }
   ],
   "source": [
    "do_geocode('Hospital of the Infant Jesus Medical Center')"
   ]
  },
  {
   "cell_type": "code",
   "execution_count": 75,
   "metadata": {},
   "outputs": [],
   "source": [
    "df['hospital'].replace(['Hospital Infant Jesus Medical Center', 'Hospital of the Infant Jesus'],\n",
    "                       value=\"Hospital of the Infant Jesus Medical Center\", inplace=True)"
   ]
  },
  {
   "cell_type": "markdown",
   "metadata": {},
   "source": [
    "#### ```RHS 4A Camp Vicente Lim```"
   ]
  },
  {
   "cell_type": "code",
   "execution_count": 76,
   "metadata": {},
   "outputs": [
    {
     "data": {
      "text/plain": [
       "Location(Camp Vicente Lim, Mayapa, Calamba, Laguna, Calabarzon, 4029, Philippines, (14.2156332, 121.12148261443787, 0.0))"
      ]
     },
     "execution_count": 76,
     "metadata": {},
     "output_type": "execute_result"
    }
   ],
   "source": [
    "do_geocode('Camp Vicente Lim')"
   ]
  },
  {
   "cell_type": "code",
   "execution_count": 77,
   "metadata": {},
   "outputs": [],
   "source": [
    "df['hospital'].replace('RHS 4A Camp Vicente Lim',\n",
    "                       value=\"Camp Vicente Lim\", inplace=True)"
   ]
  },
  {
   "cell_type": "markdown",
   "metadata": {},
   "source": [
    "#### ```Cainta Rural Health Unit```"
   ]
  },
  {
   "cell_type": "markdown",
   "metadata": {},
   "source": [
    "Note: There are four (4) [Cainta Rural Health Units](https://itisdoh.pbsp.org.ph/facilities_list.php?scope=040000000&scope_level=1&typ=1&ac=1&facility1=26&Submit=Search). Since the specific Health Unit cannot be verified upon checking on Google, we will use the coordinates of Cainta, Rizal instead."
   ]
  },
  {
   "cell_type": "code",
   "execution_count": 78,
   "metadata": {},
   "outputs": [
    {
     "data": {
      "text/plain": [
       "Location(Cainta, Rizal, Calabarzon, Philippines, (14.592419, 121.12351813800596, 0.0))"
      ]
     },
     "execution_count": 78,
     "metadata": {},
     "output_type": "execute_result"
    }
   ],
   "source": [
    "do_geocode('Cainta, Rizal')"
   ]
  },
  {
   "cell_type": "code",
   "execution_count": 79,
   "metadata": {},
   "outputs": [],
   "source": [
    "df['hospital'].replace('Cainta Rural Health Unit',\n",
    "                       value=\"Cainta, Rizal\", inplace=True)"
   ]
  },
  {
   "cell_type": "markdown",
   "metadata": {},
   "source": [
    "#### ```General Trias City Health Office```"
   ]
  },
  {
   "cell_type": "code",
   "execution_count": 80,
   "metadata": {},
   "outputs": [
    {
     "data": {
      "text/plain": [
       "Location(General Trias, Cavite, Calabarzon, 4106, Philippines, (14.38629, 120.8802961, 0.0))"
      ]
     },
     "execution_count": 80,
     "metadata": {},
     "output_type": "execute_result"
    }
   ],
   "source": [
    "do_geocode('Health Center General Trias')"
   ]
  },
  {
   "cell_type": "code",
   "execution_count": 81,
   "metadata": {},
   "outputs": [],
   "source": [
    "df['hospital'].replace('General Trias City Health Office',\n",
    "                       value=\"Health Center General Trias\", inplace=True)"
   ]
  },
  {
   "cell_type": "markdown",
   "metadata": {},
   "source": [
    "#### ```Qualimed–Santa Rosa Hospital```"
   ]
  },
  {
   "cell_type": "code",
   "execution_count": 82,
   "metadata": {},
   "outputs": [
    {
     "data": {
      "text/plain": [
       "Location(QualiMed Hospital Nuvali, West Nature Avenue, Lakeside Evozone, Santo Domingo, Santa Rosa, Laguna, Calabarzon, 4026, Philippines, (14.232012600000001, 121.05271221787301, 0.0))"
      ]
     },
     "execution_count": 82,
     "metadata": {},
     "output_type": "execute_result"
    }
   ],
   "source": [
    "do_geocode('QualiMed Santa Rosa')"
   ]
  },
  {
   "cell_type": "code",
   "execution_count": 83,
   "metadata": {},
   "outputs": [],
   "source": [
    "df['hospital'].replace(['Qualimed–Santa Rosa Hospital', 'Qualimed - Sta. Rosa Hospital'],\n",
    "                       value=\"QualiMed Santa Rosa\", inplace=True)"
   ]
  },
  {
   "cell_type": "markdown",
   "metadata": {},
   "source": [
    "#### ```Sacred Heart Hospital Malolos```"
   ]
  },
  {
   "cell_type": "code",
   "execution_count": 84,
   "metadata": {},
   "outputs": [
    {
     "data": {
      "text/plain": [
       "Location(Sacred Heart Hospital of Malolos, Dr. Peralta, Guinhawa Subdivision, Villa Tierra Subdivision, Malolos, Bulacan, Central Luzon, 3000, Philippines, (14.8522512, 120.81768247237855, 0.0))"
      ]
     },
     "execution_count": 84,
     "metadata": {},
     "output_type": "execute_result"
    }
   ],
   "source": [
    "do_geocode('Sacred Heart Hospital of Malolos')"
   ]
  },
  {
   "cell_type": "code",
   "execution_count": 85,
   "metadata": {},
   "outputs": [],
   "source": [
    "df['hospital'].replace('Sacred Heart Hospital Malolos',\n",
    "                       value=\"Sacred Heart Hospital of Malolos\", inplace=True)"
   ]
  },
  {
   "cell_type": "markdown",
   "metadata": {},
   "source": [
    "#### ```UHBI–Parañaque Doctors Hospital, Inc.```"
   ]
  },
  {
   "cell_type": "code",
   "execution_count": 86,
   "metadata": {},
   "outputs": [
    {
     "data": {
      "text/plain": [
       "Location(Parañaque Doctors' Hospital, Doña Soledad Avenue, Aeropark, Don Bosco, Parañaque, Metro Manila, 1711, Philippines, (14.485656899999999, 121.02867842425692, 0.0))"
      ]
     },
     "execution_count": 86,
     "metadata": {},
     "output_type": "execute_result"
    }
   ],
   "source": [
    "do_geocode('Parañaque Doctors Hospital')"
   ]
  },
  {
   "cell_type": "code",
   "execution_count": 87,
   "metadata": {},
   "outputs": [],
   "source": [
    "df['hospital'].replace('UHBI–Parañaque Doctors Hospital, Inc.',\n",
    "                       value=\"Parañaque Doctors Hospital\", inplace=True)"
   ]
  },
  {
   "cell_type": "markdown",
   "metadata": {},
   "source": [
    "#### ```Uni–Health Southwoods Hospital And Medical Center, Inc.```"
   ]
  },
  {
   "cell_type": "code",
   "execution_count": 88,
   "metadata": {},
   "outputs": [
    {
     "data": {
      "text/plain": [
       "Location(Unihealth Southwoods Hospital and Medical Center, Ecocentrum Avenue, Southwoods Ecocentrum, San Francisco, Biñan, Laguna, Calabarzon, 4024, Philippines, (14.33162575, 121.04759467589082, 0.0))"
      ]
     },
     "execution_count": 88,
     "metadata": {},
     "output_type": "execute_result"
    }
   ],
   "source": [
    "do_geocode('UniHealth Southwoods Hospital And Medical Center')"
   ]
  },
  {
   "cell_type": "code",
   "execution_count": 89,
   "metadata": {},
   "outputs": [],
   "source": [
    "df['hospital'].replace('Uni–Health Southwoods Hospital And Medical Center, Inc.',\n",
    "                       value=\"UniHealth Southwoods Hospital And Medical Center\", inplace=True)"
   ]
  },
  {
   "cell_type": "markdown",
   "metadata": {},
   "source": [
    "#### ```San Juan Dios Education Foundation Inc. Hospital```"
   ]
  },
  {
   "cell_type": "code",
   "execution_count": 90,
   "metadata": {},
   "outputs": [
    {
     "data": {
      "text/plain": [
       "Location(San Juan de Dios Educational Foundation Inc. - Hospital, 2772, Roxas Boulevard, Metropolitan Park, Barangay 76, Zone 10, Pasay, District 1, Pasay, Metro Manila, 1300, Philippines, (14.53854745, 120.9933039111655, 0.0))"
      ]
     },
     "execution_count": 90,
     "metadata": {},
     "output_type": "execute_result"
    }
   ],
   "source": [
    "do_geocode('San Juan de Dios Educational Foundation Inc. - Hospital')"
   ]
  },
  {
   "cell_type": "code",
   "execution_count": 91,
   "metadata": {},
   "outputs": [],
   "source": [
    "df['hospital'].replace('San Juan Dios Education Foundation Inc. Hospital',\n",
    "                       value=\"San Juan de Dios Educational Foundation Inc. - Hospital\", inplace=True)"
   ]
  },
  {
   "cell_type": "markdown",
   "metadata": {},
   "source": [
    "#### ```Our Lady Pillar Medical Center```"
   ]
  },
  {
   "cell_type": "code",
   "execution_count": 92,
   "metadata": {},
   "outputs": [
    {
     "data": {
      "text/plain": [
       "Location(Our Lady of the Pillar Medical Center, Tamsui Avenue, Treelane 2, Bayan Luma IV, Imus, Cavite, Calabarzon, 4103, Philippines, (14.4191702, 120.93924976550068, 0.0))"
      ]
     },
     "execution_count": 92,
     "metadata": {},
     "output_type": "execute_result"
    }
   ],
   "source": [
    "do_geocode('Our Lady of the Pillar Medical Center')"
   ]
  },
  {
   "cell_type": "code",
   "execution_count": 93,
   "metadata": {},
   "outputs": [],
   "source": [
    "df['hospital'].replace('Our Lady Pillar Medical Center',\n",
    "                       value=\"Our Lady of the Pillar Medical Center\", inplace=True)"
   ]
  },
  {
   "cell_type": "markdown",
   "metadata": {},
   "source": [
    "#### ```Lucena United Doctors Hospital```"
   ]
  },
  {
   "cell_type": "code",
   "execution_count": 94,
   "metadata": {},
   "outputs": [
    {
     "data": {
      "text/plain": [
       "Location(Lucena United Doctors General Hospital, Old Manila South Road, Isabang, Quezon, Calabarzon, 4301, Philippines, (13.946984050000001, 121.58508706872695, 0.0))"
      ]
     },
     "execution_count": 94,
     "metadata": {},
     "output_type": "execute_result"
    }
   ],
   "source": [
    "do_geocode('Lucena United Doctors, Quezon')"
   ]
  },
  {
   "cell_type": "code",
   "execution_count": 95,
   "metadata": {},
   "outputs": [],
   "source": [
    "df['hospital'].replace('Lucena United Doctors Hospital',\n",
    "                       value=\"Lucena United Doctors, Quezon\", inplace=True)"
   ]
  },
  {
   "cell_type": "markdown",
   "metadata": {},
   "source": [
    "# ---"
   ]
  },
  {
   "cell_type": "markdown",
   "metadata": {},
   "source": [
    "#### ```DOH Epidemiology Bureau```"
   ]
  },
  {
   "cell_type": "code",
   "execution_count": 96,
   "metadata": {},
   "outputs": [
    {
     "data": {
      "text/plain": [
       "Location(Department of Health, Santa Cruz, Third District, Manila, Metro Manila, Philippines, (14.615603799999999, 120.98128128126282, 0.0))"
      ]
     },
     "execution_count": 96,
     "metadata": {},
     "output_type": "execute_result"
    }
   ],
   "source": [
    "do_geocode('Department of Health (Philippines)')"
   ]
  },
  {
   "cell_type": "code",
   "execution_count": 97,
   "metadata": {},
   "outputs": [],
   "source": [
    "df['hospital'].replace('DOH Epidemiology Bureau',\n",
    "                       value=\"Department of Health (Philippines)\", inplace=True)"
   ]
  },
  {
   "cell_type": "markdown",
   "metadata": {},
   "source": [
    "#### ```Dr. Paulino J. Garcia Memorial Research Medical Hospital```"
   ]
  },
  {
   "cell_type": "code",
   "execution_count": 98,
   "metadata": {},
   "outputs": [
    {
     "data": {
      "text/plain": [
       "Location(Dr. Paulino J. Garcia Memorial Research and Medical Center, Gen Tinio Street, Melojavilla, Ciudad de Real, Cabanatuan, Nueva Ecija, Central Luzon, 3100, Philippines, (15.489462849999999, 120.97275970736415, 0.0))"
      ]
     },
     "execution_count": 98,
     "metadata": {},
     "output_type": "execute_result"
    }
   ],
   "source": [
    "do_geocode('Dr. Paulino J. Garcia Memorial Research and Medical Center')"
   ]
  },
  {
   "cell_type": "code",
   "execution_count": 99,
   "metadata": {},
   "outputs": [],
   "source": [
    "df['hospital'].replace('Dr. Paulino J. Garcia Memorial Research Medical Hospital',\n",
    "                       value=\"Dr. Paulino J. Garcia Memorial Research and Medical Center\", inplace=True)"
   ]
  },
  {
   "cell_type": "markdown",
   "metadata": {},
   "source": [
    "#### ```Dr. Jose N. Rodriguez Memorial Hospital Sanitarium```"
   ]
  },
  {
   "cell_type": "code",
   "execution_count": 100,
   "metadata": {},
   "outputs": [
    {
     "data": {
      "text/plain": [
       "Location(Dr. Jose N. Rodriguez Memorial Hospital, St. Joseph Avenue, Nhc-tala Estate Subdivision, Sto. Nino Village, 186, Caloocan, Metro Manila, 1427, Philippines, (14.76667625, 121.06468840472849, 0.0))"
      ]
     },
     "execution_count": 100,
     "metadata": {},
     "output_type": "execute_result"
    }
   ],
   "source": [
    "do_geocode('Dr. Jose N. Rodriguez Memorial Hospital')"
   ]
  },
  {
   "cell_type": "code",
   "execution_count": 101,
   "metadata": {},
   "outputs": [],
   "source": [
    "df['hospital'].replace('Dr. Jose N. Rodriguez Memorial Hospital Sanitarium',\n",
    "                       value=\"Dr. Jose N. Rodriguez Memorial Hospital\", inplace=True)"
   ]
  },
  {
   "cell_type": "markdown",
   "metadata": {},
   "source": [
    "#### ```Perpetual Health Medical Center - Biñan```"
   ]
  },
  {
   "cell_type": "code",
   "execution_count": 102,
   "metadata": {},
   "outputs": [
    {
     "data": {
      "text/plain": [
       "Location(Perpetual Help Medical Center - Biñan, National Highway, South Springville, San Antonio, Biñan, Laguna, Calabarzon, 4024, Philippines, (14.33043835, 121.08533919092724, 0.0))"
      ]
     },
     "execution_count": 102,
     "metadata": {},
     "output_type": "execute_result"
    }
   ],
   "source": [
    "do_geocode('Perpetual Help Medical Center - Biñan')"
   ]
  },
  {
   "cell_type": "code",
   "execution_count": 103,
   "metadata": {},
   "outputs": [],
   "source": [
    "df['hospital'].replace('Perpetual Health Medical Center - Biñan',\n",
    "                       value=\"Perpetual Help Medical Center - Biñan\", inplace=True)"
   ]
  },
  {
   "cell_type": "markdown",
   "metadata": {},
   "source": [
    "#### ```Gerona Hospital Sacred Heart```"
   ]
  },
  {
   "cell_type": "code",
   "execution_count": 104,
   "metadata": {},
   "outputs": [
    {
     "data": {
      "text/plain": [
       "Location(Gerona Hospital of the Sacred Heart, Gerona - Pura Road, Singat, Tarlac, Central Luzon, 2302, Philippines, (15.6085847, 120.60561125193583, 0.0))"
      ]
     },
     "execution_count": 104,
     "metadata": {},
     "output_type": "execute_result"
    }
   ],
   "source": [
    "do_geocode('Gerona Hospital of the Sacred Heart')"
   ]
  },
  {
   "cell_type": "code",
   "execution_count": 105,
   "metadata": {},
   "outputs": [],
   "source": [
    "df['hospital'].replace('Gerona Hospital Sacred Heart',\n",
    "                       value=\"Gerona Hospital of the Sacred Heart\", inplace=True)"
   ]
  },
  {
   "cell_type": "markdown",
   "metadata": {},
   "source": [
    "#### `Uni-Health Southwoods Hospital Medical Center`"
   ]
  },
  {
   "cell_type": "code",
   "execution_count": 106,
   "metadata": {},
   "outputs": [
    {
     "data": {
      "text/plain": [
       "Location(Unihealth Southwoods Hospital and Medical Center, Ecocentrum Avenue, Southwoods Ecocentrum, San Francisco, Biñan, Laguna, Calabarzon, 4024, Philippines, (14.33162575, 121.04759467589082, 0.0))"
      ]
     },
     "execution_count": 106,
     "metadata": {},
     "output_type": "execute_result"
    }
   ],
   "source": [
    "do_geocode('Unihealth Southwoods Hospital Medical Center')"
   ]
  },
  {
   "cell_type": "code",
   "execution_count": 107,
   "metadata": {},
   "outputs": [],
   "source": [
    "df['hospital'].replace('Uni-Health Southwoods Hospital Medical Center',\n",
    "                       value=\"Unihealth Southwoods Hospital Medical Center\", inplace=True)"
   ]
  },
  {
   "cell_type": "markdown",
   "metadata": {},
   "source": [
    "#### `St. Joseph Hospital Medical Center`"
   ]
  },
  {
   "cell_type": "code",
   "execution_count": 108,
   "metadata": {},
   "outputs": [
    {
     "data": {
      "text/plain": [
       "Location(Bataan St. Joseph Hospital and Medical Center, Don Manuel Banzon Avenue, Poblacion, Balanga, Bataan, Central Luzon, 2100, Philippines, (14.6814951, 120.5416046, 0.0))"
      ]
     },
     "execution_count": 108,
     "metadata": {},
     "output_type": "execute_result"
    }
   ],
   "source": [
    "do_geocode('Bataan St. Joseph Hospital Medical Center')"
   ]
  },
  {
   "cell_type": "code",
   "execution_count": 109,
   "metadata": {},
   "outputs": [],
   "source": [
    "df['hospital'].replace('St. Joseph Hospital Medical Center',\n",
    "                       value=\"Bataan St. Joseph Hospital Medical Center\", inplace=True)"
   ]
  },
  {
   "cell_type": "markdown",
   "metadata": {},
   "source": [
    "#### `Uhbi-Parañaque Doctors Hospital`"
   ]
  },
  {
   "cell_type": "code",
   "execution_count": 110,
   "metadata": {},
   "outputs": [
    {
     "data": {
      "text/plain": [
       "Location(Parañaque Doctors' Hospital, Doña Soledad Avenue, Aeropark, Don Bosco, Parañaque, Metro Manila, 1711, Philippines, (14.485656899999999, 121.02867842425692, 0.0))"
      ]
     },
     "execution_count": 110,
     "metadata": {},
     "output_type": "execute_result"
    }
   ],
   "source": [
    "do_geocode('Parañaque Doctors Hospital')"
   ]
  },
  {
   "cell_type": "code",
   "execution_count": 111,
   "metadata": {},
   "outputs": [],
   "source": [
    "df['hospital'].replace('Uhbi-Parañaque Doctors Hospital',\n",
    "                       value=\"Parañaque Doctors Hospital\", inplace=True)"
   ]
  },
  {
   "cell_type": "markdown",
   "metadata": {},
   "source": [
    "Let's view the revised ```hospital``` string values that we weren't able to geocode previously."
   ]
  },
  {
   "cell_type": "code",
   "execution_count": 112,
   "metadata": {},
   "outputs": [
    {
     "data": {
      "text/plain": [
       "array(['University of the East Ramon Magsaysay Memorial Medical Center',\n",
       "       'Dr. Jose N. Rodriguez Memorial Hospital',\n",
       "       'Bataan St. Joseph Hospital Medical Center',\n",
       "       'Department of Health (Philippines)',\n",
       "       'Our Lady of Lourdes Hospital',\n",
       "       'Our Lady of Mt. Carmel Medical Center', 'QualiMed Santa Rosa',\n",
       "       'Riverside Hospital Bacolod',\n",
       "       'Dr. Paulino J. Garcia Memorial Research and Medical Center',\n",
       "       'Sacred Heart Hospital of Malolos', 'Health Dept., Quezon City',\n",
       "       'Perpetual Help Medical Center - Biñan',\n",
       "       'Unihealth Southwoods Hospital Medical Center',\n",
       "       'City of General Trias Doctors Medical Center', 'Makati City Hall',\n",
       "       'Lucena United Doctors, Quezon', 'Jesus of Nazareth Hospital',\n",
       "       'Hospital of the Infant Jesus Medical Center',\n",
       "       'Golden Gate General Hospital',\n",
       "       'Gerona Hospital of the Sacred Heart',\n",
       "       'Our Lady of the Pillar Medical Center',\n",
       "       'Parañaque Doctors Hospital', 'Camp Vicente Lim',\n",
       "       'Southern Isabela General Hospital'], dtype=object)"
      ]
     },
     "execution_count": 112,
     "metadata": {},
     "output_type": "execute_result"
    }
   ],
   "source": [
    "df['hospital'][np.isnan(df['hosp_lat']) & np.isnan(df['hosp_long'])].unique()"
   ]
  },
  {
   "cell_type": "code",
   "execution_count": 113,
   "metadata": {},
   "outputs": [
    {
     "data": {
      "text/plain": [
       "Int64Index([  4,  21,  61,  64,  66,  73,  89,  94,  99, 100, 131, 142, 169,\n",
       "            195, 224, 267, 285, 286, 387, 388, 391, 392, 393, 394, 469, 470,\n",
       "            472, 473, 475, 476, 486, 495, 519, 528, 560, 584, 628, 629, 648,\n",
       "            651, 652, 656, 670, 688, 689, 690, 691, 692, 693, 694, 714, 716,\n",
       "            735, 758, 785, 795, 796, 797, 798, 801, 802, 803],\n",
       "           dtype='int64', name='case_no')"
      ]
     },
     "execution_count": 113,
     "metadata": {},
     "output_type": "execute_result"
    }
   ],
   "source": [
    "df['hospital'].index[np.isnan(df['hosp_lat']) & np.isnan(df['hosp_long'])].unique()"
   ]
  },
  {
   "cell_type": "markdown",
   "metadata": {},
   "source": [
    "How many from each 'hospital'?"
   ]
  },
  {
   "cell_type": "code",
   "execution_count": 114,
   "metadata": {},
   "outputs": [
    {
     "data": {
      "text/plain": [
       "University of the East Ramon Magsaysay Memorial Medical Center    20\n",
       "Our Lady of Lourdes Hospital                                      7 \n",
       "Department of Health (Philippines)                                4 \n",
       "Dr. Paulino J. Garcia Memorial Research and Medical Center        4 \n",
       "Dr. Jose N. Rodriguez Memorial Hospital                           3 \n",
       "City of General Trias Doctors Medical Center                      2 \n",
       "Health Dept., Quezon City                                         2 \n",
       "Makati City Hall                                                  2 \n",
       "Riverside Hospital Bacolod                                        2 \n",
       "Perpetual Help Medical Center - Biñan                             2 \n",
       "Camp Vicente Lim                                                  1 \n",
       "Bataan St. Joseph Hospital Medical Center                         1 \n",
       "Lucena United Doctors, Quezon                                     1 \n",
       "Parañaque Doctors Hospital                                        1 \n",
       "Our Lady of Mt. Carmel Medical Center                             1 \n",
       "Jesus of Nazareth Hospital                                        1 \n",
       "Hospital of the Infant Jesus Medical Center                       1 \n",
       "Southern Isabela General Hospital                                 1 \n",
       "Our Lady of the Pillar Medical Center                             1 \n",
       "Unihealth Southwoods Hospital Medical Center                      1 \n",
       "QualiMed Santa Rosa                                               1 \n",
       "Sacred Heart Hospital of Malolos                                  1 \n",
       "Gerona Hospital of the Sacred Heart                               1 \n",
       "Golden Gate General Hospital                                      1 \n",
       "Name: hospital, dtype: int64"
      ]
     },
     "execution_count": 114,
     "metadata": {},
     "output_type": "execute_result"
    }
   ],
   "source": [
    "df['hospital'][np.isnan(df['hosp_lat']) & np.isnan(df['hosp_long'])].value_counts()"
   ]
  },
  {
   "cell_type": "markdown",
   "metadata": {},
   "source": [
    "Now let's geocode these:"
   ]
  },
  {
   "cell_type": "code",
   "execution_count": 115,
   "metadata": {},
   "outputs": [],
   "source": [
    "nan_hosp_names = df['hospital'][np.isnan(df['hosp_lat']) & np.isnan(df['hosp_long'])].unique()"
   ]
  },
  {
   "cell_type": "code",
   "execution_count": 116,
   "metadata": {},
   "outputs": [
    {
     "name": "stdout",
     "output_type": "stream",
     "text": [
      "Wall time: 24 s\n"
     ]
    }
   ],
   "source": [
    "%%time\n",
    "\n",
    "nan_hosp_locs = pd.Series(nan_hosp_names).apply(do_geocode)\n",
    "\n",
    "nan_geodict_lat = dict(zip(nan_hosp_names, nan_hosp_locs.apply(lambda x: x.latitude if(np.all(pd.notnull(x))) else x)))\n",
    "nan_geodict_long = dict(zip(nan_hosp_names, nan_hosp_locs.apply(lambda x: x.longitude if(np.all(pd.notnull(x))) else x)))"
   ]
  },
  {
   "cell_type": "code",
   "execution_count": 117,
   "metadata": {},
   "outputs": [],
   "source": [
    "nan_hosp_locs_lat = df['hospital'].map(nan_geodict_lat)"
   ]
  },
  {
   "cell_type": "code",
   "execution_count": 118,
   "metadata": {},
   "outputs": [],
   "source": [
    "nan_hosp_locs_long = df['hospital'].map(nan_geodict_long)"
   ]
  },
  {
   "cell_type": "markdown",
   "metadata": {},
   "source": [
    "Fill up tha ```NaN``` values:"
   ]
  },
  {
   "cell_type": "code",
   "execution_count": 119,
   "metadata": {},
   "outputs": [],
   "source": [
    "df['hosp_lat'] = df['hosp_lat'].fillna(nan_hosp_locs_lat)"
   ]
  },
  {
   "cell_type": "code",
   "execution_count": 120,
   "metadata": {},
   "outputs": [],
   "source": [
    "df['hosp_long'] = df['hosp_long'].fillna(nan_hosp_locs_long)"
   ]
  },
  {
   "cell_type": "markdown",
   "metadata": {},
   "source": [
    "Check if there are stil ```NaN``` values. There should be 0."
   ]
  },
  {
   "cell_type": "code",
   "execution_count": 121,
   "metadata": {},
   "outputs": [
    {
     "data": {
      "text/plain": [
       "0"
      ]
     },
     "execution_count": 121,
     "metadata": {},
     "output_type": "execute_result"
    }
   ],
   "source": [
    "df['hosp_lat'].isna().sum()"
   ]
  },
  {
   "cell_type": "code",
   "execution_count": 122,
   "metadata": {},
   "outputs": [
    {
     "data": {
      "text/plain": [
       "0"
      ]
     },
     "execution_count": 122,
     "metadata": {},
     "output_type": "execute_result"
    }
   ],
   "source": [
    "df['hosp_long'].isna().sum()"
   ]
  },
  {
   "cell_type": "code",
   "execution_count": 123,
   "metadata": {},
   "outputs": [
    {
     "data": {
      "text/plain": [
       "Series([], Name: hospital, dtype: int64)"
      ]
     },
     "execution_count": 123,
     "metadata": {},
     "output_type": "execute_result"
    }
   ],
   "source": [
    "#Run this for checking\n",
    "df['hospital'][np.isnan(df['hosp_lat']) & np.isnan(df['hosp_long'])].value_counts()"
   ]
  },
  {
   "cell_type": "markdown",
   "metadata": {},
   "source": [
    "##### (Repeat manual data cleaning everytime the dateset is refreshed.)"
   ]
  },
  {
   "cell_type": "markdown",
   "metadata": {},
   "source": [
    "### Out of Place Points\n",
    "\n",
    "These are locations that should have been within Philippine Territory but were found outside because of the limitations of geocoding."
   ]
  },
  {
   "cell_type": "markdown",
   "metadata": {},
   "source": [
    "#### ```St. Louis Hospital```"
   ]
  },
  {
   "cell_type": "code",
   "execution_count": 124,
   "metadata": {},
   "outputs": [
    {
     "data": {
      "text/plain": [
       "Location(St.Louis Hospital, NH44;48, Krishnagiri, Tamil Nadu, 635001, India, (12.5252135, 78.2149263, 0.0))"
      ]
     },
     "execution_count": 124,
     "metadata": {},
     "output_type": "execute_result"
    }
   ],
   "source": [
    "do_geocode('St. Louis Hospital')"
   ]
  },
  {
   "cell_type": "code",
   "execution_count": 125,
   "metadata": {},
   "outputs": [
    {
     "data": {
      "text/plain": [
       "Location(Saint Louis Hospital, Tacurong - Isulan National Highway, New Isabela, Purok Sampaguita, Tacurong, Sultan Kudarat, Soccsksargen, 9800, Philippines, (6.67852345, 124.66699554588106, 0.0))"
      ]
     },
     "execution_count": 125,
     "metadata": {},
     "output_type": "execute_result"
    }
   ],
   "source": [
    "do_geocode('St. Louis Hospital Tacurong')"
   ]
  },
  {
   "cell_type": "code",
   "execution_count": 126,
   "metadata": {},
   "outputs": [],
   "source": [
    "df['hospital'].replace(['St. Louis Hospital', 'St. Loius Hospital'],\n",
    "                       value=\"St. Louis Hospital Tacurong\", inplace=True)"
   ]
  },
  {
   "cell_type": "code",
   "execution_count": 127,
   "metadata": {},
   "outputs": [],
   "source": [
    "df.loc[df['hospital']==\"St. Louis Hospital Tacurong\",'hosp_lat'] = do_geocode('St. Louis Hospital Tacurong').latitude\n",
    "df.loc[df['hospital']==\"St. Louis Hospital Tacurong\",'hosp_long'] = do_geocode('St. Louis Hospital Tacurong').longitude"
   ]
  },
  {
   "cell_type": "markdown",
   "metadata": {},
   "source": [
    "#### ```The Medical City```"
   ]
  },
  {
   "cell_type": "code",
   "execution_count": 128,
   "metadata": {},
   "outputs": [
    {
     "data": {
      "text/plain": [
       "Location(Medical City, Rusafa, بغداد, Al Resafa, محافظة بغداد, Iraq, (33.3486967, 44.37779385218179, 0.0))"
      ]
     },
     "execution_count": 128,
     "metadata": {},
     "output_type": "execute_result"
    }
   ],
   "source": [
    "do_geocode('The Medical City')"
   ]
  },
  {
   "cell_type": "code",
   "execution_count": 129,
   "metadata": {},
   "outputs": [
    {
     "data": {
      "text/plain": [
       "Location(The Medical City, Ortigas Avenue, Ugong, Pasig, Metro Manila, 1604, Philippines, (14.589964, 121.06906339610711, 0.0))"
      ]
     },
     "execution_count": 129,
     "metadata": {},
     "output_type": "execute_result"
    }
   ],
   "source": [
    "do_geocode('The Medical City - Ortigas')"
   ]
  },
  {
   "cell_type": "code",
   "execution_count": 130,
   "metadata": {},
   "outputs": [],
   "source": [
    "df['hospital'].replace('The Medical City',\n",
    "                       value=\"The Medical City - Ortigas\", inplace=True)"
   ]
  },
  {
   "cell_type": "code",
   "execution_count": 131,
   "metadata": {},
   "outputs": [],
   "source": [
    "df.loc[df['hospital']==\"The Medical City - Ortigas\",'hosp_lat'] = do_geocode('The Medical City - Ortigas').latitude\n",
    "df.loc[df['hospital']==\"The Medical City - Ortigas\",'hosp_long'] = do_geocode('The Medical City - Ortigas').longitude"
   ]
  },
  {
   "cell_type": "markdown",
   "metadata": {},
   "source": [
    "#### ```Lung Center Philippine```"
   ]
  },
  {
   "cell_type": "code",
   "execution_count": 132,
   "metadata": {},
   "outputs": [
    {
     "data": {
      "text/plain": [
       "Location(Embassy of the Philippines, 6-11, Suffolk Street, St. James's, Covent Garden, City of Westminster, London, Greater London, England, SW1Y 4HG, United Kingdom, (51.5086102, -0.13067022021816063, 0.0))"
      ]
     },
     "execution_count": 132,
     "metadata": {},
     "output_type": "execute_result"
    }
   ],
   "source": [
    "do_geocode('Lung Center Philippine')"
   ]
  },
  {
   "cell_type": "code",
   "execution_count": 133,
   "metadata": {},
   "outputs": [
    {
     "data": {
      "text/plain": [
       "Location(Lung Center of the Philippines, Quezon Avenue, East Triangle, Pinyahan, Quezon City, 4th District, Quezon City, Metro Manila, 1100, Philippines, (14.64748145, 121.04587919677965, 0.0))"
      ]
     },
     "execution_count": 133,
     "metadata": {},
     "output_type": "execute_result"
    }
   ],
   "source": [
    "do_geocode('Lung Center of the Philippines')"
   ]
  },
  {
   "cell_type": "code",
   "execution_count": 134,
   "metadata": {},
   "outputs": [],
   "source": [
    "df['hospital'].replace('Lung Center Philippine',\n",
    "                       value=\"Lung Center of the Philippines\", inplace=True)"
   ]
  },
  {
   "cell_type": "code",
   "execution_count": 135,
   "metadata": {},
   "outputs": [],
   "source": [
    "df.loc[df['hospital']==\"Lung Center of the Philippines\",'hosp_lat'] = do_geocode('Lung Center of the Philippines').latitude\n",
    "df.loc[df['hospital']==\"Lung Center of the Philippines\",'hosp_long'] = do_geocode('Lung Center of the Philippines').longitude"
   ]
  },
  {
   "cell_type": "markdown",
   "metadata": {},
   "source": [
    "#### ```CDJ Hospital```"
   ]
  },
  {
   "cell_type": "code",
   "execution_count": 136,
   "metadata": {},
   "outputs": [
    {
     "data": {
      "text/plain": [
       "Location(Aeroporto de Conceição do Araguaia - Bendito Roque, PA-447, Cruzeiro, Conceição do Araguaia, Microrregião de Conceição do Araguaia, Mesorregião Sudeste Paraense, Pará, Região Norte, Brasil, (-8.349763800000002, -49.304938509872315, 0.0))"
      ]
     },
     "execution_count": 136,
     "metadata": {},
     "output_type": "execute_result"
    }
   ],
   "source": [
    "do_geocode('CDJ Hospital')"
   ]
  },
  {
   "cell_type": "markdown",
   "metadata": {},
   "source": [
    "It seems that the existence of a 'CDJ Hospital' locally cannot be identified. Better to drop it."
   ]
  },
  {
   "cell_type": "code",
   "execution_count": 137,
   "metadata": {},
   "outputs": [],
   "source": [
    "df['hospital'].replace('CDJ Hospital',\n",
    "                       value=\"TBA\", inplace=True)"
   ]
  },
  {
   "cell_type": "code",
   "execution_count": 138,
   "metadata": {},
   "outputs": [],
   "source": [
    "df = pd.DataFrame(df.drop(df[(df['hospital'] == 'TBA')].index))"
   ]
  },
  {
   "cell_type": "markdown",
   "metadata": {},
   "source": [
    "#### ```Victoriano Luna Medical Center```"
   ]
  },
  {
   "cell_type": "code",
   "execution_count": 139,
   "metadata": {},
   "outputs": [
    {
     "data": {
      "text/plain": [
       "Location(Ing. Alberto Victoriano Luna, Polo, Grünbein, Partido de Bahía Blanca, Buenos Aires, Argentina, (-38.7496219, -62.1953897, 0.0))"
      ]
     },
     "execution_count": 139,
     "metadata": {},
     "output_type": "execute_result"
    }
   ],
   "source": [
    "do_geocode('Victoriano Luna Medical Center')"
   ]
  },
  {
   "cell_type": "code",
   "execution_count": 140,
   "metadata": {},
   "outputs": [
    {
     "data": {
      "text/plain": [
       "Location(Armed Forces of the Philippines Medical Center, V. Luna Avenue, East Triangle, Pinyahan, Quezon City, 4th District, Quezon City, Metro Manila, 1100, Philippines, (14.63468575, 121.05210336549419, 0.0))"
      ]
     },
     "execution_count": 140,
     "metadata": {},
     "output_type": "execute_result"
    }
   ],
   "source": [
    "do_geocode('AFP Medical Center')"
   ]
  },
  {
   "cell_type": "code",
   "execution_count": 141,
   "metadata": {},
   "outputs": [],
   "source": [
    "df['hospital'].replace('Victoriano Luna Medical Center',\n",
    "                       value=\"AFP Medical Center\", inplace=True)"
   ]
  },
  {
   "cell_type": "code",
   "execution_count": 142,
   "metadata": {},
   "outputs": [],
   "source": [
    "df.loc[df['hospital']==\"AFP Medical Center\",'hosp_lat'] = do_geocode('AFP Medical Center').latitude\n",
    "df.loc[df['hospital']==\"AFP Medical Center\",'hosp_long'] = do_geocode('AFP Medical Center').longitude"
   ]
  },
  {
   "cell_type": "markdown",
   "metadata": {},
   "source": [
    "#### ```La Union Medical Center```"
   ]
  },
  {
   "cell_type": "code",
   "execution_count": 143,
   "metadata": {},
   "outputs": [
    {
     "data": {
      "text/plain": [
       "Location(Union Medical Center, 322, West South Street, Union, Union County, South Carolina, 29379, United States of America, (34.7123931, -81.62929901086534, 0.0))"
      ]
     },
     "execution_count": 143,
     "metadata": {},
     "output_type": "execute_result"
    }
   ],
   "source": [
    "do_geocode('La Union Medical Center')"
   ]
  },
  {
   "cell_type": "code",
   "execution_count": 144,
   "metadata": {},
   "outputs": [
    {
     "data": {
      "text/plain": [
       "Location(La Union Medical Center (LUMC), Manila North Road, Nazareno, La Union, Ilocos, 2504, Philippines, (16.3466222, 120.3635465, 0.0))"
      ]
     },
     "execution_count": 144,
     "metadata": {},
     "output_type": "execute_result"
    }
   ],
   "source": [
    "do_geocode('La Union Medical Center Ilocos')"
   ]
  },
  {
   "cell_type": "code",
   "execution_count": 145,
   "metadata": {},
   "outputs": [],
   "source": [
    "df['hospital'].replace('La Union Medical Center',\n",
    "                       value=\"La Union Medical Center Ilocos\", inplace=True)"
   ]
  },
  {
   "cell_type": "code",
   "execution_count": 146,
   "metadata": {},
   "outputs": [],
   "source": [
    "df.loc[df['hospital']==\"La Union Medical Center Ilocos\",'hosp_lat'] = do_geocode('La Union Medical Center Ilocos').latitude\n",
    "df.loc[df['hospital']==\"La Union Medical Center Ilocos\",'hosp_long'] = do_geocode('La Union Medical Center Ilocos').longitude"
   ]
  },
  {
   "cell_type": "markdown",
   "metadata": {},
   "source": [
    "#### ```Providence Hospital```"
   ]
  },
  {
   "cell_type": "code",
   "execution_count": 147,
   "metadata": {},
   "outputs": [
    {
     "data": {
      "text/plain": [
       "Location(Providence Hospital, 1150, Varnum Street Northeast, Washington, District of Columbia, 20017, United States of America, (38.9445417, -76.99340684192414, 0.0))"
      ]
     },
     "execution_count": 147,
     "metadata": {},
     "output_type": "execute_result"
    }
   ],
   "source": [
    "do_geocode('Providence Hospital')"
   ]
  },
  {
   "cell_type": "code",
   "execution_count": 148,
   "metadata": {},
   "outputs": [
    {
     "data": {
      "text/plain": [
       "Location(Providence Hospital, Quezon Avenue, West Triangle, Quezon City, 1st District, Quezon City, Metro Manila, 1104, Philippines, (14.641224650000002, 121.03167331232544, 0.0))"
      ]
     },
     "execution_count": 148,
     "metadata": {},
     "output_type": "execute_result"
    }
   ],
   "source": [
    "do_geocode('Providence Hospital Quezon')"
   ]
  },
  {
   "cell_type": "code",
   "execution_count": 149,
   "metadata": {},
   "outputs": [],
   "source": [
    "df['hospital'].replace('Providence Hospital',\n",
    "                       value=\"Providence Hospital Quezon\", inplace=True)"
   ]
  },
  {
   "cell_type": "code",
   "execution_count": 150,
   "metadata": {},
   "outputs": [],
   "source": [
    "df.loc[df['hospital']==\"Providence Hospital Quezon\",'hosp_lat'] = do_geocode('Providence Hospital Quezon').latitude\n",
    "df.loc[df['hospital']==\"Providence Hospital Quezon\",'hosp_long'] = do_geocode('Providence Hospital Quezon').longitude"
   ]
  },
  {
   "cell_type": "markdown",
   "metadata": {},
   "source": [
    "#### ```Manila Medical Center```"
   ]
  },
  {
   "cell_type": "code",
   "execution_count": 151,
   "metadata": {},
   "outputs": [
    {
     "data": {
      "text/plain": [
       "Location(Manila, Humboldt County, California, United States of America, (40.8517929, -124.1622856, 0.0))"
      ]
     },
     "execution_count": 151,
     "metadata": {},
     "output_type": "execute_result"
    }
   ],
   "source": [
    "do_geocode('Manila Medical Center')"
   ]
  },
  {
   "cell_type": "code",
   "execution_count": 152,
   "metadata": {},
   "outputs": [
    {
     "data": {
      "text/plain": [
       "Location(Medical Center Manila, General Luna Street, Barangay 676, Ermita, Fifth District, Manila, Metro Manila, 1000, Philippines, (14.58248, 120.98543971329903, 0.0))"
      ]
     },
     "execution_count": 152,
     "metadata": {},
     "output_type": "execute_result"
    }
   ],
   "source": [
    "do_geocode('Medical Center Manila')"
   ]
  },
  {
   "cell_type": "code",
   "execution_count": 153,
   "metadata": {},
   "outputs": [],
   "source": [
    "df['hospital'].replace('Manila Medical Center',\n",
    "                       value=\"Medical Center Manila\", inplace=True)"
   ]
  },
  {
   "cell_type": "code",
   "execution_count": 154,
   "metadata": {},
   "outputs": [],
   "source": [
    "df.loc[df['hospital']==\"Medical Center Manila\",'hosp_lat'] = do_geocode('Medical Center Manila').latitude\n",
    "df.loc[df['hospital']==\"Medical Center Manila\",'hosp_long'] = do_geocode('Medical Center Manila').longitude"
   ]
  },
  {
   "cell_type": "markdown",
   "metadata": {},
   "source": [
    "#### ```Adventist Medical Center```"
   ]
  },
  {
   "cell_type": "code",
   "execution_count": 155,
   "metadata": {},
   "outputs": [
    {
     "data": {
      "text/plain": [
       "Location(Adventist Medical Center, 10123, Southeast Market Street, Russellville, Hazelwood, Portland, Multnomah County, Oregon, 97216, United States of America, (45.5126758, -122.55906204416371, 0.0))"
      ]
     },
     "execution_count": 155,
     "metadata": {},
     "output_type": "execute_result"
    }
   ],
   "source": [
    "do_geocode('Adventist Medical Center')"
   ]
  },
  {
   "cell_type": "code",
   "execution_count": 156,
   "metadata": {},
   "outputs": [
    {
     "data": {
      "text/plain": [
       "Location(Adventist Medical Center Manila, 1945, Donada, Barangay 36, Zone 3, Pasay, District 1, Pasay, Metro Manila, 1300, Philippines, (14.55602185, 120.9953013915066, 0.0))"
      ]
     },
     "execution_count": 156,
     "metadata": {},
     "output_type": "execute_result"
    }
   ],
   "source": [
    "do_geocode('Adventist Medical Center Manila')"
   ]
  },
  {
   "cell_type": "code",
   "execution_count": 157,
   "metadata": {},
   "outputs": [],
   "source": [
    "df['hospital'].replace('Adventist Medical Center',\n",
    "                       value=\"Adventist Medical Center Manila\", inplace=True)"
   ]
  },
  {
   "cell_type": "code",
   "execution_count": 158,
   "metadata": {},
   "outputs": [],
   "source": [
    "df.loc[df['hospital']==\"Adventist Medical Center Manila\",'hosp_lat'] = do_geocode('Adventist Medical Center Manila').latitude\n",
    "df.loc[df['hospital']==\"Adventist Medical Center Manila\",'hosp_long'] = do_geocode('Adventist Medical Center Manila').longitude"
   ]
  },
  {
   "cell_type": "markdown",
   "metadata": {},
   "source": [
    "#### ```National Center Mental Health```"
   ]
  },
  {
   "cell_type": "code",
   "execution_count": 159,
   "metadata": {},
   "outputs": [
    {
     "data": {
      "text/plain": [
       "Location(Mental Health, Heather Street, South Cambie, Vancouver, Metro Vancouver Regional District, British Columbia, V5Z, Canada, (49.244127649999996, -123.12149095596945, 0.0))"
      ]
     },
     "execution_count": 159,
     "metadata": {},
     "output_type": "execute_result"
    }
   ],
   "source": [
    "do_geocode('National Center Mental Health')"
   ]
  },
  {
   "cell_type": "code",
   "execution_count": 160,
   "metadata": {},
   "outputs": [
    {
     "data": {
      "text/plain": [
       "Location(National Center for Mental Health, Nueve de Febrero, Block 41 Zone 8, Mauway, Mandaluyong, Metro Manila, 1553, Philippines, (14.5816602, 121.04126559258651, 0.0))"
      ]
     },
     "execution_count": 160,
     "metadata": {},
     "output_type": "execute_result"
    }
   ],
   "source": [
    "do_geocode('National Center for Mental Health')"
   ]
  },
  {
   "cell_type": "code",
   "execution_count": 161,
   "metadata": {},
   "outputs": [],
   "source": [
    "df['hospital'].replace('National Center Mental Health',\n",
    "                       value=\"National Center for Mental Health\", inplace=True)"
   ]
  },
  {
   "cell_type": "code",
   "execution_count": 162,
   "metadata": {},
   "outputs": [],
   "source": [
    "df.loc[df['hospital']==\"National Center for Mental Health\",'hosp_lat'] = do_geocode('National Center for Mental Health').latitude\n",
    "df.loc[df['hospital']==\"National Center for Mental Health\",'hosp_long'] = do_geocode('National Center for Mental Health').longitude"
   ]
  },
  {
   "cell_type": "markdown",
   "metadata": {},
   "source": [
    "#### `Sinai Hospital`"
   ]
  },
  {
   "cell_type": "code",
   "execution_count": 163,
   "metadata": {},
   "outputs": [
    {
     "data": {
      "text/plain": [
       "Location(سيناء, جنوب سيناء, Egypt / مصر, (29.52316965, 33.80547257650801, 0.0))"
      ]
     },
     "execution_count": 163,
     "metadata": {},
     "output_type": "execute_result"
    }
   ],
   "source": [
    "do_geocode('Sinai Hospital')"
   ]
  },
  {
   "cell_type": "code",
   "execution_count": 164,
   "metadata": {},
   "outputs": [
    {
     "data": {
      "text/plain": [
       "Location(New Sinai MDI Hospital, National Highway, Tagapo, Platero, Biñan, Laguna, Calabarzon, 4026, Philippines, (14.31764895, 121.09872571949757, 0.0))"
      ]
     },
     "execution_count": 164,
     "metadata": {},
     "output_type": "execute_result"
    }
   ],
   "source": [
    "do_geocode('New Sinai MDI Hospital')"
   ]
  },
  {
   "cell_type": "code",
   "execution_count": 165,
   "metadata": {},
   "outputs": [],
   "source": [
    "df['hospital'].replace('Sinai Hospital',\n",
    "                       value=\"New Sinai MDI Hospital\", inplace=True)"
   ]
  },
  {
   "cell_type": "code",
   "execution_count": 166,
   "metadata": {},
   "outputs": [],
   "source": [
    "df.loc[df['hospital']==\"New Sinai MDI Hospital\",'hosp_lat'] = do_geocode('New Sinai MDI Hospital').latitude\n",
    "df.loc[df['hospital']==\"New Sinai MDI Hospital\",'hosp_long'] = do_geocode('New Sinai MDI Hospital').longitude"
   ]
  },
  {
   "cell_type": "markdown",
   "metadata": {},
   "source": [
    "### Save ```df``` to ```.csv```\n",
    "\n",
    "Finally."
   ]
  },
  {
   "cell_type": "code",
   "execution_count": 167,
   "metadata": {},
   "outputs": [],
   "source": [
    "today_stamp = pd.to_datetime('today').strftime('%d-%m-%Y_%Hh%Mm%Ss')\n",
    "df.to_csv('COVID19PHforMappingModified_{0}.csv'.format(today_stamp), index_label='case_no')"
   ]
  },
  {
   "cell_type": "markdown",
   "metadata": {},
   "source": [
    "This Jupyter Notebook has finished re-run today, at:"
   ]
  },
  {
   "cell_type": "code",
   "execution_count": 168,
   "metadata": {},
   "outputs": [
    {
     "data": {
      "text/plain": [
       "Timestamp('2020-03-31 20:23:52.040312')"
      ]
     },
     "execution_count": 168,
     "metadata": {},
     "output_type": "execute_result"
    }
   ],
   "source": [
    "pd.to_datetime('today')"
   ]
  },
  {
   "cell_type": "code",
   "execution_count": null,
   "metadata": {},
   "outputs": [],
   "source": []
  }
 ],
 "metadata": {
  "kernelspec": {
   "display_name": "Python 3",
   "language": "python",
   "name": "python3"
  },
  "language_info": {
   "codemirror_mode": {
    "name": "ipython",
    "version": 3
   },
   "file_extension": ".py",
   "mimetype": "text/x-python",
   "name": "python",
   "nbconvert_exporter": "python",
   "pygments_lexer": "ipython3",
   "version": "3.7.4"
  }
 },
 "nbformat": 4,
 "nbformat_minor": 2
}
